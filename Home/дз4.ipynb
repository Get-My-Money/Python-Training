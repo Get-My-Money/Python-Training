{
 "cells": [
  {
   "cell_type": "markdown",
   "metadata": {
    "id": "LZWLHYTZbWao"
   },
   "source": [
    "Дз 6 номер 1"
   ]
  },
  {
   "cell_type": "code",
   "execution_count": 1,
   "metadata": {
    "id": "OfDr8XdQb5X4"
   },
   "outputs": [],
   "source": [
    "def update_dictionary(data, key, val):\n",
    "    if key in data:\n",
    "        data[key].append(val)\n",
    "    else:\n",
    "        if key * 2 in data:\n",
    "            data[key * 2].append(val)\n",
    "        else:\n",
    "            data[key * 2] = [val]"
   ]
  },
  {
   "cell_type": "markdown",
   "metadata": {
    "id": "r5r9p2CMcPTd"
   },
   "source": [
    "Дз 6 Номер 2"
   ]
  },
  {
   "cell_type": "code",
   "execution_count": null,
   "metadata": {
    "id": "PByGASuicSQX"
   },
   "outputs": [],
   "source": [
    "def filter_squares(nums):\n",
    "    result = []\n",
    "\n",
    "    for number in nums:\n",
    "        if number < 0:\n",
    "            continue\n",
    "        is_square = False\n",
    "        i = 0\n",
    "        while i <= number:\n",
    "            if i * i == number:\n",
    "                is_square = True\n",
    "                break\n",
    "            if i * i > number:\n",
    "                break\n",
    "            i += 1\n",
    "\n",
    "        if is_square:\n",
    "            result.append(number)\n",
    "\n",
    "    return result"
   ]
  },
  {
   "cell_type": "markdown",
   "metadata": {
    "id": "O7C9ANyBcbIr"
   },
   "source": [
    "Дз 5 Номер 2"
   ]
  },
  {
   "cell_type": "code",
   "execution_count": 1,
   "metadata": {
    "id": "LfSixTdMcyc3"
   },
   "outputs": [
    {
     "name": "stdin",
     "output_type": "stream",
     "text": [
      " hi hello bye yes no\n"
     ]
    },
    {
     "name": "stdout",
     "output_type": "stream",
     "text": [
      "{2: ['hi', 'no'], 5: ['hello'], 3: ['bye', 'yes']}\n"
     ]
    }
   ],
   "source": [
    "input_string = input(\"\")\n",
    "words = input_string.split()\n",
    "groups = {}\n",
    "\n",
    "\n",
    "for word in words:\n",
    "    length = len(word)\n",
    "    if length in groups:\n",
    "        groups[length].append(word)\n",
    "    else:\n",
    "        groups[length] = [word]\n",
    "\n",
    "print(groups)"
   ]
  },
  {
   "cell_type": "markdown",
   "metadata": {
    "id": "yc1hs5pgdIoq"
   },
   "source": [
    "Дз 5 Номер 3"
   ]
  },
  {
   "cell_type": "code",
   "execution_count": null,
   "metadata": {
    "colab": {
     "base_uri": "https://localhost:8080/"
    },
    "id": "L5i93SkWdMqB",
    "outputId": "362c36e5-0184-4cf3-f5cb-5ac39b139b00"
   },
   "outputs": [
    {
     "name": "stdin",
     "output_type": "stream",
     "text": [
      " 2\n",
      " ADD pineapple 16\n"
     ]
    },
    {
     "name": "stdout",
     "output_type": "stream",
     "text": [
      "Команда успешно выполнена\n"
     ]
    }
   ],
   "source": [
    "prices = {'apple': 100, 'banana': 80, 'orange': 120}\n",
    "n = int(input())\n",
    "for _ in range(n):\n",
    "    command = input().split()\n",
    "    if command[0] == 'ADD':\n",
    "        if command[1] not in prices:\n",
    "            prices[command[1]] = int(command[2])\n",
    "            print(\"Команда успешно выполнена\")\n",
    "        else:\n",
    "            print(\"Данную команду выполнить невозможно\")\n",
    "    elif command[0] == 'DELETE':\n",
    "        if command[1] in prices:\n",
    "            del prices[command[1]]\n",
    "            print(\"Команда успешно выполнена\")\n",
    "        else:\n",
    "            print(\"Данную команду выполнить невозможно\")\n",
    "    elif command[0] == 'UPDATE':\n",
    "        if command[1] in prices:\n",
    "            prices[command[1]] = int(command[2])\n",
    "            print(\"Команда успешно выполнена\")\n",
    "        else:\n",
    "            print(\"Данную команду выполнить невозможно\")\n",
    "print(prices)"
   ]
  },
  {
   "cell_type": "code",
   "execution_count": null,
   "metadata": {},
   "outputs": [],
   "source": []
  }
 ],
 "metadata": {
  "colab": {
   "provenance": [],
   "toc_visible": true
  },
  "kernelspec": {
   "display_name": "Python 3 (ipykernel)",
   "language": "python",
   "name": "python3"
  },
  "language_info": {
   "codemirror_mode": {
    "name": "ipython",
    "version": 3
   },
   "file_extension": ".py",
   "mimetype": "text/x-python",
   "name": "python",
   "nbconvert_exporter": "python",
   "pygments_lexer": "ipython3",
   "version": "3.12.2"
  }
 },
 "nbformat": 4,
 "nbformat_minor": 4
}
