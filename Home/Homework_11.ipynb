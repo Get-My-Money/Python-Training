{
 "cells": [
  {
   "cell_type": "markdown",
   "metadata": {},
   "source": [
    "# Домашнее задание 10"
   ]
  },
  {
   "cell_type": "markdown",
   "metadata": {},
   "source": [
    "## Задача 1 ― «Set и Dict Comprehensions»"
   ]
  },
  {
   "cell_type": "markdown",
   "metadata": {},
   "source": [
    "Даны три списка:\n",
    "\n",
    "    names = [\"Анна\", \"Иван\", \"Олег\", \"Мария\", \"Слава\"]\n",
    "    \n",
    "    grades = [[4, 5, 5], [3, 4, 3], [5, 5, 4], [4, 4, 4], [5,5,5]]\n",
    "    \n",
    "    subjects = [\"математика\", \"физика\", \"информатика\"]\n",
    "\n",
    "1. Используя zip, создасте словарь student_data, где ключ — имя, значение — средний балл студента.\n",
    "2. Оставьте студентов со средней оценкой выше 4.0, используя dict comprehension и фильтрацию.\n",
    "3. Добавьте в словарь ключ \"отличники\" сосписком имен студентов у которых все оценки равны 5."
   ]
  },
  {
   "cell_type": "code",
   "execution_count": null,
   "metadata": {},
   "outputs": [],
   "source": []
  },
  {
   "cell_type": "markdown",
   "metadata": {},
   "source": [
    "## Задача 2 ― «Итератор для обратного обхода списка»"
   ]
  },
  {
   "cell_type": "markdown",
   "metadata": {},
   "source": [
    "Реализуйте класс ReverseIterator, который позволяет итерироваться по списку в обратном порядке с помощью next().\n",
    "\n",
    "Пример:\n",
    "\n",
    "it = ReverseIterator([10, 20, 30])\n",
    "\n",
    "print(next(it))  # 30\n",
    "\n",
    "print(next(it))  # 20\n",
    "\n",
    "print(list(it))  # 10"
   ]
  },
  {
   "cell_type": "code",
   "execution_count": null,
   "metadata": {},
   "outputs": [],
   "source": []
  }
 ],
 "metadata": {
  "colab": {
   "provenance": []
  },
  "kernelspec": {
   "display_name": "Python 3 (ipykernel)",
   "language": "python",
   "name": "python3"
  },
  "language_info": {
   "codemirror_mode": {
    "name": "ipython",
    "version": 3
   },
   "file_extension": ".py",
   "mimetype": "text/x-python",
   "name": "python",
   "nbconvert_exporter": "python",
   "pygments_lexer": "ipython3",
   "version": "3.12.2"
  }
 },
 "nbformat": 4,
 "nbformat_minor": 4
}
