{
 "cells": [
  {
   "cell_type": "markdown",
   "metadata": {},
   "source": [
    "# Домашнее задание 6"
   ]
  },
  {
   "cell_type": "markdown",
   "metadata": {
    "jp-MarkdownHeadingCollapsed": true
   },
   "source": [
    "## Задача 1 ― «Гибкое обновление словаря»"
   ]
  },
  {
   "cell_type": "markdown",
   "metadata": {},
   "source": [
    "Реализуйте функцию update_data(data: dict, key: int, val: int) -> None, которая обновляет словарь по следующим правилам:\n",
    "\n",
    "Если key уже существует в словаре, то добавьте val в список, который хранится по этому ключу.\n",
    "\n",
    "Если key отсутствует, но есть ключ key * 2, то добавьте val в список, связанный с key * 2.\n",
    "\n",
    "Если нет ни key, ни key * 2, создайте ключ key * 2 и положите в него новый список [val].\n",
    "\n",
    "Пример:\n",
    "\n",
    "    d = {}\n",
    "    print(update_dictionary(d, 1, -1))  # None\n",
    "    print(d)                            # {2: [-1]}\n",
    "    update_dictionary(d, 2, -2)\n",
    "    print(d)                            # {2: [-1, -2]}\n",
    "    update_dictionary(d, 1, -3)\n",
    "    print(d)                            # {2: [-1, -2, -3]}"
   ]
  },
  {
   "cell_type": "code",
   "execution_count": null,
   "metadata": {},
   "outputs": [],
   "source": []
  },
  {
   "cell_type": "markdown",
   "metadata": {
    "jp-MarkdownHeadingCollapsed": true
   },
   "source": [
    "## Задача 2 ― «Фильтр квадратов»"
   ]
  },
  {
   "cell_type": "markdown",
   "metadata": {},
   "source": [
    "Напишите функцию filter_squares(nums: list) -> list, которая принимает список целых чисел и возвращает новый список, содержащий только те числа, которые являются идеальными квадратами (например, 1, 4, 9, 16 и т.д.)."
   ]
  },
  {
   "cell_type": "code",
   "execution_count": null,
   "metadata": {},
   "outputs": [],
   "source": []
  }
 ],
 "metadata": {
  "colab": {
   "provenance": []
  },
  "kernelspec": {
   "display_name": "Python 3 (ipykernel)",
   "language": "python",
   "name": "python3"
  },
  "language_info": {
   "codemirror_mode": {
    "name": "ipython",
    "version": 3
   },
   "file_extension": ".py",
   "mimetype": "text/x-python",
   "name": "python",
   "nbconvert_exporter": "python",
   "pygments_lexer": "ipython3",
   "version": "3.12.2"
  }
 },
 "nbformat": 4,
 "nbformat_minor": 4
}
