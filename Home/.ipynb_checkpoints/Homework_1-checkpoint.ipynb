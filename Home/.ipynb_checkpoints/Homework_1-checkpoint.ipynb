{
 "cells": [
  {
   "cell_type": "markdown",
   "metadata": {},
   "source": [
    "# Домашнее задание 1"
   ]
  },
  {
   "cell_type": "markdown",
   "metadata": {},
   "source": [
    "## ЗАДАНИЕ 1. Работа с print и арифметикой"
   ]
  },
  {
   "cell_type": "markdown",
   "metadata": {},
   "source": [
    "1. Попросите пользователя ввести два числа (целых или вещественных).\n",
    "2. Вычислите сумму, разность, произведение и деление (обычное / и целочисленное //).\n",
    "3. Выведите результаты с помощью print, используя разные разделители (sep) и разный end.\n",
    "4. В конце выведите строку \"Все операции выполнены!\" с переносом на новую строку."
   ]
  },
  {
   "cell_type": "code",
   "execution_count": null,
   "metadata": {},
   "outputs": [],
   "source": []
  },
  {
   "cell_type": "markdown",
   "metadata": {},
   "source": [
    "## ЗАДАНИЕ 2. Работа со строками и их методами "
   ]
  },
  {
   "cell_type": "markdown",
   "metadata": {},
   "source": [
    "1. Пусть пользователь вводит любую фразу (включая пробелы).\n",
    "2. Приведите эту фразу к верхнему регистру (upper) и нижнему (lower), выведите оба варианта.\n",
    "3. Выведите длину введённой строки.\n",
    "4. Найдите индекс первого пробела (если есть) и выведите его. \n",
    "5. С помощью среза выделите первые 5 символов строки и последние 3 символа и выведете их на экран.\n",
    "6. Проверьте, является ли вся строка буквенной (isalpha). Выведите результат проверки."
   ]
  },
  {
   "cell_type": "code",
   "execution_count": null,
   "metadata": {},
   "outputs": [],
   "source": []
  },
  {
   "cell_type": "markdown",
   "metadata": {},
   "source": [
    "## ЗАДАНИЕ 3. Условие и логические операции "
   ]
  },
  {
   "cell_type": "markdown",
   "metadata": {},
   "source": [
    "1. Попросите пользователя ввести возраст.\n",
    "2. Если возраст >= 18, выведите \"Доступ разрешен!\", иначе \"Доступ запрещен!\"\n",
    "3. Добавьте проверку: если возраст в диапазоне 0-120, считаем, что введено валидное число.\n",
    "   Иначе выведите \"Неверный возраст\" и не проверяйте доступ."
   ]
  },
  {
   "cell_type": "code",
   "execution_count": null,
   "metadata": {},
   "outputs": [],
   "source": []
  }
 ],
 "metadata": {
  "colab": {
   "provenance": []
  },
  "kernelspec": {
   "display_name": "Python 3 (ipykernel)",
   "language": "python",
   "name": "python3"
  },
  "language_info": {
   "codemirror_mode": {
    "name": "ipython",
    "version": 3
   },
   "file_extension": ".py",
   "mimetype": "text/x-python",
   "name": "python",
   "nbconvert_exporter": "python",
   "pygments_lexer": "ipython3",
   "version": "3.12.2"
  }
 },
 "nbformat": 4,
 "nbformat_minor": 4
}
