{
  "cells": [
    {
      "cell_type": "markdown",
      "source": [
        "Дз 6 номер 1"
      ],
      "metadata": {
        "id": "LZWLHYTZbWao"
      }
    },
    {
      "cell_type": "code",
      "source": [
        "def update_dictionary(data, key, val):\n",
        "    if key in data:\n",
        "        data[key].append(val)\n",
        "    else:\n",
        "        if (key * 2) in data:\n",
        "            data[key * 2].append(val)\n",
        "        else:\n",
        "            data[key * 2] = [val]"
      ],
      "metadata": {
        "id": "OfDr8XdQb5X4"
      },
      "execution_count": null,
      "outputs": []
    },
    {
      "cell_type": "markdown",
      "source": [
        "Дз 6 Номер 2"
      ],
      "metadata": {
        "id": "r5r9p2CMcPTd"
      }
    },
    {
      "cell_type": "code",
      "source": [
        "def filter_squares(nums):\n",
        "    result = []\n",
        "\n",
        "    for number in nums:\n",
        "        if number < 0:\n",
        "            continue\n",
        "        is_square = False\n",
        "        i = 0\n",
        "        while i <= number:\n",
        "            if i * i == number:\n",
        "                is_square = True\n",
        "                break\n",
        "            if i * i > number:\n",
        "                break\n",
        "            i += 1\n",
        "\n",
        "        if is_square:\n",
        "            result.append(number)\n",
        "\n",
        "    return result"
      ],
      "metadata": {
        "id": "PByGASuicSQX"
      },
      "execution_count": null,
      "outputs": []
    },
    {
      "cell_type": "markdown",
      "source": [
        "Дз 5 Номер 2"
      ],
      "metadata": {
        "id": "O7C9ANyBcbIr"
      }
    },
    {
      "cell_type": "code",
      "source": [
        "input_string = input(\"\")\n",
        "words = input_string.split()\n",
        "groups = {}\n",
        "\n",
        "\n",
        "for word in words:\n",
        "    length = len(word)\n",
        "    if length in groups:\n",
        "        groups[length].append(word)\n",
        "    else:\n",
        "        groups[length] = [word]\n",
        "\n",
        "print(groups)"
      ],
      "metadata": {
        "id": "LfSixTdMcyc3"
      },
      "execution_count": null,
      "outputs": []
    },
    {
      "cell_type": "markdown",
      "source": [
        "Дз 5 Номер 3"
      ],
      "metadata": {
        "id": "yc1hs5pgdIoq"
      }
    },
    {
      "cell_type": "code",
      "source": [
        "prices = {'apple': 100, 'banana': 80, 'orange': 120}\n",
        "n = int(input())\n",
        "for _ in range(n):\n",
        "    command = input().split()\n",
        "    if command[0] == 'ADD':\n",
        "        if command[1] not in prices:\n",
        "            prices[command[1]] = int(command[2])\n",
        "            print(\"Команда успешно выполнена\")\n",
        "        else:\n",
        "            print(\"Данную команду выполнить невозможно\")\n",
        "    elif command[0] == 'DELETE':\n",
        "        if command[1] in prices:\n",
        "            del prices[command[1]]\n",
        "            print(\"Команда успешно выполнена\")\n",
        "        else:\n",
        "            print(\"Данную команду выполнить невозможно\")\n",
        "    elif command[0] == 'UPDATE':\n",
        "        if command[1] in prices:\n",
        "            prices[command[1]] = int(command[2])\n",
        "            print(\"Команда успешно выполнена\")\n",
        "        else:\n",
        "            print(\"Данную команду выполнить невозможно\")\n",
        "print(prices)"
      ],
      "metadata": {
        "id": "L5i93SkWdMqB",
        "outputId": "362c36e5-0184-4cf3-f5cb-5ac39b139b00",
        "colab": {
          "base_uri": "https://localhost:8080/"
        }
      },
      "execution_count": null,
      "outputs": [
        {
          "output_type": "stream",
          "name": "stdout",
          "text": [
            "2\n",
            "3\n",
            "delete pineapple\n",
            "{'apple': 100, 'banana': 80, 'orange': 120}\n"
          ]
        }
      ]
    }
  ],
  "metadata": {
    "colab": {
      "toc_visible": true,
      "provenance": []
    },
    "kernelspec": {
      "display_name": "Python 3",
      "name": "python3"
    }
  },
  "nbformat": 4,
  "nbformat_minor": 0
}