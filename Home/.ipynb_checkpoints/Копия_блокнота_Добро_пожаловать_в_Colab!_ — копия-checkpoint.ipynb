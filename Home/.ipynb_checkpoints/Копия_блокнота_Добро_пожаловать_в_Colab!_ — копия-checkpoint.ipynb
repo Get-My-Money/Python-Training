{
 "cells": [
  {
   "cell_type": "markdown",
   "metadata": {
    "id": "HQDGSyrMojDf"
   },
   "source": [
    "# Дз n1"
   ]
  },
  {
   "cell_type": "code",
   "execution_count": 1,
   "metadata": {
    "colab": {
     "base_uri": "https://localhost:8080/"
    },
    "executionInfo": {
     "elapsed": 3232,
     "status": "ok",
     "timestamp": 1746300880630,
     "user": {
      "displayName": "",
      "userId": ""
     },
     "user_tz": -180
    },
    "id": "4nbYoZjjooKF",
    "outputId": "b85fc267-f2b9-477d-8daa-966a8145cc6e"
   },
   "outputs": [
    {
     "name": "stdin",
     "output_type": "stream",
     "text": [
      "Введите первое число 4\n",
      "Введите второе число 5\n"
     ]
    },
    {
     "name": "stdout",
     "output_type": "stream",
     "text": [
      "9.0\n",
      "-1.0\n",
      "20.0\n",
      "0.8\n",
      "0.0\n",
      "Все операции выполнены!\n"
     ]
    }
   ],
   "source": [
    "a=float(input(\"Введите первое число\"))\n",
    "b=float(input(\"Введите второе число\"))\n",
    "summ=a+b\n",
    "print(summ)\n",
    "razn=a-b\n",
    "print(razn)\n",
    "proizv=a*b\n",
    "print(proizv)\n",
    "delo=a/b\n",
    "print(delo)\n",
    "delneo=a//b\n",
    "print(delneo)\n",
    "print(\"Все операции выполнены!\")"
   ]
  },
  {
   "cell_type": "markdown",
   "metadata": {},
   "source": [
    "## Дз n2"
   ]
  },
  {
   "cell_type": "code",
   "execution_count": 15,
   "metadata": {},
   "outputs": [
    {
     "name": "stdin",
     "output_type": "stream",
     "text": [
      " sdhfsahfjksajdasdkasdka\n"
     ]
    },
    {
     "name": "stdout",
     "output_type": "stream",
     "text": [
      "SDHFSAHFJKSAJDASDKASDKA\n",
      "sdhfsahfjksajdasdkasdka\n",
      "23\n",
      "0\n",
      "sdhfs\n",
      "sdka\n",
      "Строка полностью буквенная\n"
     ]
    }
   ],
   "source": [
    "text = input()\n",
    "\n",
    "text_Up = text.upper()\n",
    "text_Low = text.lower()\n",
    "text_Len = len(text)\n",
    "text_space_index = text.find('')\n",
    "text_first_5 = text[:5]\n",
    "text_last_3 = text[-4:]\n",
    "text_type = text.isalpha()\n",
    "\n",
    "print(text_Up)\n",
    "print(text_Low)\n",
    "print(text_Len)\n",
    "print(text_space_index)\n",
    "print(text_first_5)\n",
    "print(text_last_3)\n",
    "if text_type:\n",
    "    print(\"Строка полностью буквенная\")\n",
    "else:\n",
    "    print(\"Строка не полностью буквенная\")"
   ]
  },
  {
   "cell_type": "code",
   "execution_count": 11,
   "metadata": {},
   "outputs": [
    {
     "data": {
      "text/plain": [
       "'sdsa'"
      ]
     },
     "execution_count": 11,
     "metadata": {},
     "output_type": "execute_result"
    }
   ],
   "source": [
    "\"dasdasdasdsa\"[-4:]"
   ]
  },
  {
   "cell_type": "markdown",
   "metadata": {
    "id": "eLgWOBK-pTVi"
   },
   "source": [
    "# Дз n3"
   ]
  },
  {
   "cell_type": "code",
   "execution_count": 9,
   "metadata": {
    "colab": {
     "base_uri": "https://localhost:8080/",
     "height": 228
    },
    "executionInfo": {
     "elapsed": 1591,
     "status": "error",
     "timestamp": 1746301436732,
     "user": {
      "displayName": "",
      "userId": ""
     },
     "user_tz": -180
    },
    "id": "G4GxGuP2pXpe",
    "outputId": "6552ebf0-0eb6-4ca3-88cc-9fde72e903f2"
   },
   "outputs": [
    {
     "name": "stdin",
     "output_type": "stream",
     "text": [
      "Введите ваш возраст: 122\n"
     ]
    },
    {
     "name": "stdout",
     "output_type": "stream",
     "text": [
      "Неверный возраст\n"
     ]
    }
   ],
   "source": [
    "a = float(input(\"Введите ваш возраст:\"))\n",
    "if a < 0 or a > 120 :\n",
    "  print(\"Неверный возраст\")\n",
    "elif a >= 18:\n",
    "  print(\"Доступ разрешен!\")\n",
    "else:\n",
    "    print(\"Доступ запрещен!\")"
   ]
  }
 ],
 "metadata": {
  "colab": {
   "provenance": [
    {
     "file_id": "/v2/external/notebooks/intro.ipynb",
     "timestamp": 1746301470559
    }
   ],
   "toc_visible": true
  },
  "kernelspec": {
   "display_name": "Python 3 (ipykernel)",
   "language": "python",
   "name": "python3"
  },
  "language_info": {
   "codemirror_mode": {
    "name": "ipython",
    "version": 3
   },
   "file_extension": ".py",
   "mimetype": "text/x-python",
   "name": "python",
   "nbconvert_exporter": "python",
   "pygments_lexer": "ipython3",
   "version": "3.12.2"
  }
 },
 "nbformat": 4,
 "nbformat_minor": 4
}
