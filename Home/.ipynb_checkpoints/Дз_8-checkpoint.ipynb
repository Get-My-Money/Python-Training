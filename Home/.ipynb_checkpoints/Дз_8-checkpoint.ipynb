{
 "cells": [
  {
   "cell_type": "markdown",
   "metadata": {
    "id": "WQYgxoiRtLLq"
   },
   "source": [
    "Дз 8"
   ]
  },
  {
   "cell_type": "markdown",
   "metadata": {
    "id": "IoCOP42etNqs"
   },
   "source": [
    "№1 Задача 1 ― «Анализ давления на основе данных»"
   ]
  },
  {
   "cell_type": "code",
   "execution_count": 14,
   "metadata": {
    "colab": {
     "base_uri": "https://localhost:8080/"
    },
    "id": "_5NuXDeEtTuw",
    "outputId": "89c5635e-3e59-46ed-9dd8-4fbe54a34c0d"
   },
   "outputs": [
    {
     "name": "stdout",
     "output_type": "stream",
     "text": [
      "Среднее систолическое давление: 134.6\n",
      "Среднее диастолическое давление: 89.3\n",
      "Максимальное систолическое давление: 180\n",
      "Количество пациентов с диастолическим давлением > 90: 43\n"
     ]
    }
   ],
   "source": [
    "import numpy as np\n",
    "\n",
    "file_name = \"B:/Python projects/Python-Training/Files/l_15/patients.txt\"\n",
    "data_baze = {}\n",
    "with open(file_name, 'r') as file:\n",
    "    for line in file:\n",
    "        info = line.strip().split(\",\")\n",
    "        id = info[0]\n",
    "        age = info[1]\n",
    "        sys = info[2]\n",
    "        dia = info[3]\n",
    "        if age != \"age\":\n",
    "            data_baze_id = {\"age\": int(age), \"sys\": int(sys), \"dia\": int(dia)}\n",
    "            data_baze[int(id)] = data_baze_id\n",
    "\n",
    "patients_info = []\n",
    "\n",
    "for i in range(1, 101):\n",
    "    patients_info.append(tuple([data_baze[i]['sys'], data_baze[i]['dia']]))\n",
    "\n",
    "total_sys = 0\n",
    "total_dia = 0\n",
    "num_patients = len(patients_info)\n",
    "for sys, dia in patients_info:\n",
    "    total_sys += sys\n",
    "    total_dia += dia\n",
    "average_sys = total_sys / num_patients\n",
    "average_dia = total_dia / num_patients\n",
    "max_sys = 0\n",
    "for sys, dia in patients_info:\n",
    "    if sys > max_sys:\n",
    "        max_sys = sys\n",
    "high_dia_count = 0\n",
    "for sys, dia in patients_info:\n",
    "    if dia > 90:\n",
    "        high_dia_count += 1\n",
    "print(f\"Среднее систолическое давление: {average_sys:.1f}\")\n",
    "print(f\"Среднее диастолическое давление: {average_dia:.1f}\")\n",
    "print(f\"Максимальное систолическое давление: {max_sys}\")\n",
    "print(f\"Количество пациентов с диастолическим давлением > 90: {high_dia_count}\")"
   ]
  },
  {
   "cell_type": "markdown",
   "metadata": {
    "id": "TyVJlckDtban"
   },
   "source": [
    "№2 «Импорт рецептов + фильтрация по словарю»"
   ]
  },
  {
   "cell_type": "code",
   "execution_count": 24,
   "metadata": {
    "colab": {
     "base_uri": "https://localhost:8080/",
     "height": 211
    },
    "id": "1b9AEllOtf8y",
    "outputId": "ba98439b-758e-4b7b-9a19-f3ad379a0a24"
   },
   "outputs": [
    {
     "name": "stdin",
     "output_type": "stream",
     "text": [
      ": ингредиент-мясо\n"
     ]
    },
    {
     "name": "stdout",
     "output_type": "stream",
     "text": [
      "ингредиент мясо\n",
      "Блюда с мясо: плов, борщ, жаркое, суп с фрикадельками, щи, лагман, гуляш, холодец\n"
     ]
    }
   ],
   "source": [
    "with open('B:/Python projects/Python-Training/Files/l_15/recipes.txt', 'r', encoding='utf-8') as f:\n",
    "    recipes = {}\n",
    "    for line in f:\n",
    "        line = line.strip()\n",
    "        if not line:\n",
    "            continue\n",
    "        parts = line.split(':')\n",
    "        dish = parts[0]\n",
    "        ingredients = parts[1].split(',')\n",
    "        recipes[dish.lower()] = ingredients\n",
    "user_input = input(\":\").lower()\n",
    "\n",
    "if '-' in user_input:\n",
    "    search_type, search_item = user_input.split('-', 1)\n",
    "    print(search_type, search_item)\n",
    "    if search_type == 'блюдо':\n",
    "        if search_item in recipes:\n",
    "            print(f\"Для {search_item} нужны: {', '.join(recipes[search_item])}\")\n",
    "        else:\n",
    "            print(\"Такого блюда нет\")\n",
    "    elif search_type == 'ингредиент':\n",
    "        found = []\n",
    "        for dish, ingredients in recipes.items():\n",
    "            if search_item in ingredients:\n",
    "                found.append(dish)\n",
    "        if found:\n",
    "            print(f\"Блюда с {search_item}: {', '.join(found)}\")\n",
    "        else:\n",
    "            print(\"Нет блюд с таким ингредиентом\")\n",
    "    else:\n",
    "        print(\"Неправильный запрос. Начинайте с 'блюдо-' или 'ингредиент-'\")\n",
    "else:\n",
    "    print(\"Используйте '-' в запросе\")"
   ]
  },
  {
   "cell_type": "markdown",
   "metadata": {
    "id": "ZrvhVwvbuWln"
   },
   "source": [
    "№3 «Импорт рецептов + фильтрация по словарю»"
   ]
  },
  {
   "cell_type": "code",
   "execution_count": 34,
   "metadata": {
    "colab": {
     "base_uri": "https://localhost:8080/",
     "height": 211
    },
    "id": "OgZKmPjZubKF",
    "outputId": "600bba2f-f18b-4469-c6df-55dbc48abb67"
   },
   "outputs": [
    {
     "name": "stdout",
     "output_type": "stream",
     "text": [
      "Среднее значение: 65.06\n",
      "Медиана: 67.0\n",
      "Стандартное отклонение: 20.31\n"
     ]
    },
    {
     "data": {
      "image/png": "[encoded data removed]",
      "text/plain": [
       "<Figure size 640x480 with 1 Axes>"
      ]
     },
     "metadata": {},
     "output_type": "display_data"
    }
   ],
   "source": [
    "import statistics\n",
    "import matplotlib.pyplot as plt\n",
    "\n",
    "scores = []\n",
    "with open('B:/Python projects/Python-Training/Files/l_15/results.txt', 'r', encoding='utf-8') as file:\n",
    "    for line in file:\n",
    "        parts = line.split(':')\n",
    "        if len(parts) == 2:\n",
    "            score = parts[1].strip()\n",
    "            if score.isdigit():\n",
    "                scores.append(int(score))\n",
    "if scores:\n",
    "    average = sum(scores) / len(scores)\n",
    "    median = statistics.median(scores)\n",
    "    stdev = statistics.stdev(scores) if len(scores) > 1 else 0\n",
    "    print(f\"Среднее значение: {average:.2f}\")\n",
    "    print(f\"Медиана: {median}\")\n",
    "    print(f\"Стандартное отклонение: {stdev:.2f}\")\n",
    "    plt.hist(scores, bins=10, edgecolor='red', color='r')\n",
    "    plt.title('Распределение баллов студентов')\n",
    "    plt.xlabel('Баллы')\n",
    "    plt.ylabel('Количество студентов')\n",
    "    plt.grid(True)\n",
    "    plt.show()\n",
    "else:\n",
    "    print(\"Файл пуст или не содержит правильных данных\")"
   ]
  }
 ],
 "metadata": {
  "colab": {
   "provenance": [],
   "toc_visible": true
  },
  "kernelspec": {
   "display_name": "Python 3 (ipykernel)",
   "language": "python",
   "name": "python3"
  },
  "language_info": {
   "codemirror_mode": {
    "name": "ipython",
    "version": 3
   },
   "file_extension": ".py",
   "mimetype": "text/x-python",
   "name": "python",
   "nbconvert_exporter": "python",
   "pygments_lexer": "ipython3",
   "version": "3.12.2"
  }
 },
 "nbformat": 4,
 "nbformat_minor": 4
}
