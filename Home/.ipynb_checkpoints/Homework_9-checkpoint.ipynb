{
 "cells": [
  {
   "cell_type": "markdown",
   "metadata": {},
   "source": [
    "# Домашнее задание 9"
   ]
  },
  {
   "cell_type": "markdown",
   "metadata": {},
   "source": [
    "## Задача 1 ― «Погодный свод и климатическая тревога»"
   ]
  },
  {
   "cell_type": "markdown",
   "metadata": {},
   "source": [
    "Файл climate.txt содержит информацию по месяцам для 3 лет (каждая строка: месяц;год;температура):\n",
    "    \n",
    "    Январь;2021;-10 \n",
    "    \n",
    "    Февраль;2021;-5  \n",
    "    \n",
    "    ...\n",
    "    \n",
    "    Январь;2022;-7  \n",
    "    \n",
    "    ...\n",
    "\n",
    "Задание:\n",
    "\n",
    "    Построй структуру dict[str, list[int]], где ключ — это месяц, а значение — список температур по годам.\n",
    "    \n",
    "    Найди месяц с самым сильным потеплением за 2 года (разница между первым и последним значением).\n",
    "    \n",
    "    Нарисуй Line-график изменения температуры по месяцам (на одной оси X — месяцы, разные линии — года)\n",
    "    \n",
    "    Дополнительно: если в каком-либо месяце рост > 3 градусов за 3 года — вывести предупреждение ALERT: Месяц ХХ показывает тревожный рост температуры. Аналогичное сообщение выведите при понижение температуры только про падение температуры."
   ]
  },
  {
   "cell_type": "code",
   "execution_count": 26,
   "metadata": {},
   "outputs": [],
   "source": [
    "climate = \"B:/Python projects/Python-Training/Files/l_16/climate.txt\"\n",
    "dct = {}\n",
    "with open(climate, 'r', encoding='utf-8') as file:\n",
    "    for line in file:\n",
    "        info = line.strip().split(\";\")\n",
    "        month = info[0]\n",
    "        temp = int(info[2])\n",
    "        \n",
    "        if month not in list(dct.keys()):\n",
    "            dct[month] = [temp]\n",
    "        else:\n",
    "            #dct[month] = dct[month] + [temp]\n",
    "            dct[month].append(temp)\n",
    "max_dif = -100\n",
    "for temps in dct.values():\n",
    "    d = temps[-1] - temps[0]\n",
    "    if d > max_dif:\n",
    "        max_dif = d"
   ]
  },
  {
   "cell_type": "markdown",
   "metadata": {},
   "source": [
    "## Задача 2 ― «Подсчёт ошибок по часам и вычисление стабильности»"
   ]
  },
  {
   "cell_type": "markdown",
   "metadata": {},
   "source": [
    "Существует файл log.txt в формате:\n",
    "\n",
    "    1:03 - OK\n",
    "    \n",
    "    1:25 - FAIL\n",
    "    \n",
    "    2:01 - FAIL\n",
    "    \n",
    "    2:30 - OK\n",
    "    \n",
    "    ...\n",
    "\n",
    "Задание:\n",
    "\n",
    "    Прочитай файл log.txt построчно.\n",
    "    \n",
    "    Построй словарь, в котором ключ — это час, а значения — список времени когда случались сбои.\n",
    "    \n",
    "    Найди и выведи для каждого часа среднее время(в минутах) между сбоями в формате:\n",
    "\n",
    "        1:00-1:59 7\n",
    "    \n",
    "        2:00-2:59 10\n",
    "    \n",
    "        3:00-3:59 5\n",
    "    \n",
    "        ..."
   ]
  },
  {
   "cell_type": "code",
   "execution_count": 45,
   "metadata": {},
   "outputs": [
    {
     "name": "stdout",
     "output_type": "stream",
     "text": [
      "{'1': ['1:05', '1:14', '1:46', '1:58'], '2': ['2:07', '2:36', '2:47'], '3': ['3:08', '3:32', '3:44'], '5': ['5:22', '5:42', '5:56'], '6': ['6:05', '6:05'], '12': ['12:07']}\n"
     ]
    }
   ],
   "source": [
    "file_base_1 = \"B:/Python projects/Python-Training/Files/l_16/log.txt\"\n",
    "fail_timers = []\n",
    "with open(file_base_1, 'r') as file:\n",
    "    for line in file:\n",
    "        if \"FAIL\" in line:            \n",
    "            fail_timers.append(line.split()[0])\n",
    "slov = {}\n",
    "for time in fail_timers:\n",
    "    a = time.split(\":\")[0]\n",
    "    if a not in list(slov):\n",
    "        slov[a] = [time]\n",
    "    else:\n",
    "        slov[a].append(time)\n",
    "\n",
    "print(slov)"
   ]
  },
  {
   "cell_type": "markdown",
   "metadata": {
    "jp-MarkdownHeadingCollapsed": true
   },
   "source": [
    "## Задача 3 ― «Средняя температура по месяцам»"
   ]
  },
  {
   "cell_type": "markdown",
   "metadata": {},
   "source": [
    "Сущестует файл climate.txt в формате:\n",
    "\n",
    "    Январь;2021;-12\n",
    "    \n",
    "    Февраль;2021;-8\n",
    "    \n",
    "    Март;2021;2\n",
    "    \n",
    "    Январь;2022;-10\n",
    "    \n",
    "    ...\n",
    "\n",
    "Задание:\n",
    "\n",
    "    Прочитай файл climate.txt.\n",
    "    \n",
    "    Составь словарь {месяц: список температур}, игнорируя год.\n",
    "    \n",
    "    Для каждого месяца вычисли среднюю температуру за все годы.\n",
    "    \n",
    "    Сохрани данные в файл avg_temp.txt в формате:\n",
    "    \n",
    "        Январь: -11.0\n",
    "        \n",
    "        Февраль: -7.5\n",
    "        \n",
    "        Март: 3.2\n",
    "        \n",
    "        ..."
   ]
  },
  {
   "cell_type": "code",
   "execution_count": null,
   "metadata": {},
   "outputs": [],
   "source": []
  }
 ],
 "metadata": {
  "colab": {
   "provenance": []
  },
  "kernelspec": {
   "display_name": "Python 3 (ipykernel)",
   "language": "python",
   "name": "python3"
  },
  "language_info": {
   "codemirror_mode": {
    "name": "ipython",
    "version": 3
   },
   "file_extension": ".py",
   "mimetype": "text/x-python",
   "name": "python",
   "nbconvert_exporter": "python",
   "pygments_lexer": "ipython3",
   "version": "3.12.2"
  }
 },
 "nbformat": 4,
 "nbformat_minor": 4
}
