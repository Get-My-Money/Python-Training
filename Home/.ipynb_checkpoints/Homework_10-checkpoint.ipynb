{
 "cells": [
  {
   "cell_type": "markdown",
   "metadata": {},
   "source": [
    "# Домашнее задание 10"
   ]
  },
  {
   "cell_type": "markdown",
   "metadata": {},
   "source": [
    "## Задача 1 ― Мини-проект \"Библиотека\""
   ]
  },
  {
   "cell_type": "markdown",
   "metadata": {},
   "source": [
    "Создайте систему из классов:\n",
    "\n",
    "Book(title, author) — книга.\n",
    "\n",
    "Reader(name) — читатель, у него есть список книг.\n",
    "\n",
    "Library() — хранит список книг и список читателей.\n",
    "Функционал:\n",
    "\n",
    "Library.add_book(book) — добавить книгу;\n",
    "\n",
    "Library.register_reader(reader) — зарегистрировать читателя;\n",
    "\n",
    "Reader.borrow_book(library, title) — взять книгу из библиотеки;\n",
    "\n",
    "Reader.return_book(library, title) — вернуть книгу.\n",
    "\n",
    "Для красоты переопределить __str__() у Book и Reader."
   ]
  },
  {
   "cell_type": "code",
   "execution_count": null,
   "metadata": {},
   "outputs": [],
   "source": []
  }
 ],
 "metadata": {
  "colab": {
   "provenance": []
  },
  "kernelspec": {
   "display_name": "Python 3 (ipykernel)",
   "language": "python",
   "name": "python3"
  },
  "language_info": {
   "codemirror_mode": {
    "name": "ipython",
    "version": 3
   },
   "file_extension": ".py",
   "mimetype": "text/x-python",
   "name": "python",
   "nbconvert_exporter": "python",
   "pygments_lexer": "ipython3",
   "version": "3.12.2"
  }
 },
 "nbformat": 4,
 "nbformat_minor": 4
}
