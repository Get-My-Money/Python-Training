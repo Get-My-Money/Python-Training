{
 "cells": [
  {
   "cell_type": "markdown",
   "metadata": {},
   "source": [
    "# Домашнее задание 5"
   ]
  },
  {
   "cell_type": "markdown",
   "metadata": {},
   "source": [
    "## Задача 1 ― «Количество гласных»"
   ]
  },
  {
   "cell_type": "markdown",
   "metadata": {},
   "source": [
    "Вводится одна строка текста.\n",
    "Постройте словарь vowels, где ключ — гласная буква (из набора аеиоуыэюя без учёта регистра), а значение — сколько раз она встречается в тексте. Все остальные символы (не гласные) игнорировать. Выведите vowels.\n",
    "\n",
    "Ввод:\n",
    "\n",
    "Привет, как дела?\n",
    "\n",
    "Вывод (порядок может отличаться):\n",
    "\n",
    "{'и': 1, 'е': 2, 'а': 2}\n"
   ]
  },
  {
   "cell_type": "code",
   "execution_count": 3,
   "metadata": {},
   "outputs": [
    {
     "name": "stdin",
     "output_type": "stream",
     "text": [
      " Ало, как дела, Александр Петрович\n"
     ]
    },
    {
     "data": {
      "text/plain": [
       "{'а': 5, 'о': 2, 'е': 3, 'и': 1}"
      ]
     },
     "execution_count": 3,
     "metadata": {},
     "output_type": "execute_result"
    }
   ],
   "source": [
    "text = input()\n",
    "text = text.lower()\n",
    "vowels_string = \"уеыаоэяиюё\"\n",
    "vowels = {}\n",
    "\n",
    "for letter in text:\n",
    "    if letter in vowels_string:\n",
    "        try:\n",
    "            vowels[letter] += 1\n",
    "        except:\n",
    "            vowels[letter] = 1\n",
    "vowels"
   ]
  },
  {
   "cell_type": "markdown",
   "metadata": {},
   "source": [
    "## Задача 2 ― «Группировка по длине слова»"
   ]
  },
  {
   "cell_type": "markdown",
   "metadata": {},
   "source": [
    "Вводится строка слов через пробел. Нужно создать словарь groups, где ключ — длина слова, а значение — список слов именно этой длины (в порядке появления). Вывести groups в формате {length: [words…], …}.\n",
    "\n",
    "Ввод: hi hello bye yes no\n",
    "\n",
    "Вывод: {2: ['hi', 'no'], 5: ['hello'], 3: ['bye', 'yes']}"
   ]
  },
  {
   "cell_type": "code",
   "execution_count": null,
   "metadata": {},
   "outputs": [],
   "source": []
  },
  {
   "cell_type": "markdown",
   "metadata": {},
   "source": [
    "## Задача 3* ― «Обновление продуктовой базы»"
   ]
  },
  {
   "cell_type": "markdown",
   "metadata": {},
   "source": [
    "Есть словарь: prices = {'apple':100, 'banana':80, 'orange':120}. В первой строке пользователь вводит кол-во операций. Затем n операций пользователь пишет команды: ADD <позиция> <цена> для добавления продукта с соответствуюшей ценой, DELETE <позиция> для удаления определенного продукта, UPDATE <позиция> <цена> для обновления цены определенного продукта. Если команду выполнить невозможно, то пользователю пишет <<Данную команду выполнить невозможно>>, иначе <<Команда успешно выполнена>>. После этого выводится обновленный словарь.\n",
    "\n",
    "Ввод:\n",
    "\n",
    "6\n",
    "\n",
    "ADD melon 50\n",
    "\n",
    "ADD apple 25\n",
    "\n",
    "DELETE apple\n",
    "\n",
    "DELETE apple\n",
    "\n",
    "UPDATE apple 16\n",
    "\n",
    "UPDATE banana 85\n",
    "\n",
    "Вывод:\n",
    "\n",
    "Команда успешно выполнена\n",
    "\n",
    "Данную команду выполнить невозможно\n",
    "\n",
    "Команда успешно выполнена\n",
    "\n",
    "Данную команду выполнить невозможно\n",
    "\n",
    "Данную команду выполнить невозможно\n",
    "\n",
    "Команда успешно выполнена\n",
    "\n",
    "{'banana':85, 'orange':120, 'melon':50}"
   ]
  },
  {
   "cell_type": "code",
   "execution_count": null,
   "metadata": {},
   "outputs": [],
   "source": []
  }
 ],
 "metadata": {
  "colab": {
   "provenance": []
  },
  "kernelspec": {
   "display_name": "Python 3 (ipykernel)",
   "language": "python",
   "name": "python3"
  },
  "language_info": {
   "codemirror_mode": {
    "name": "ipython",
    "version": 3
   },
   "file_extension": ".py",
   "mimetype": "text/x-python",
   "name": "python",
   "nbconvert_exporter": "python",
   "pygments_lexer": "ipython3",
   "version": "3.12.2"
  }
 },
 "nbformat": 4,
 "nbformat_minor": 4
}
