{
 "cells": [
  {
   "cell_type": "markdown",
   "metadata": {},
   "source": [
    "# Домашнее задание 7"
   ]
  },
  {
   "cell_type": "markdown",
   "metadata": {},
   "source": [
    "## Задача 1 ― «Казино: 3 попытки»"
   ]
  },
  {
   "cell_type": "markdown",
   "metadata": {},
   "source": [
    "У игрока 3 попытки — в каждой выпадает случайное число от 1 до 10. Если хотя бы 2 попытки дают одинаковое число — игрок выиграл.\n",
    "\n",
    "Симулируйте 1000 игроков, посчитайте, сколько из них победили. Выведите это число и процент победителей от общего кол-во игроков."
   ]
  },
  {
   "cell_type": "code",
   "execution_count": null,
   "metadata": {},
   "outputs": [],
   "source": []
  },
  {
   "cell_type": "markdown",
   "metadata": {},
   "source": [
    "## Задача 2 ― «Колесо фортуны»"
   ]
  },
  {
   "cell_type": "markdown",
   "metadata": {},
   "source": [
    "Создайте имитацию \"колеса удачи\" с 5 секторами (['Подарок', 'Повтори', 'Шанс', 'Ничего', 'Сюрприз']). Смоделируйте 100 вращений. Постройте круговую диаграмму (pie chart), показывающую, как часто выпадал каждый сектор. Для круговой диаграммы используйте — plt.pie()"
   ]
  },
  {
   "cell_type": "code",
   "execution_count": null,
   "metadata": {},
   "outputs": [],
   "source": []
  }
 ],
 "metadata": {
  "colab": {
   "provenance": []
  },
  "kernelspec": {
   "display_name": "Python 3 (ipykernel)",
   "language": "python",
   "name": "python3"
  },
  "language_info": {
   "codemirror_mode": {
    "name": "ipython",
    "version": 3
   },
   "file_extension": ".py",
   "mimetype": "text/x-python",
   "name": "python",
   "nbconvert_exporter": "python",
   "pygments_lexer": "ipython3",
   "version": "3.12.2"
  }
 },
 "nbformat": 4,
 "nbformat_minor": 4
}
