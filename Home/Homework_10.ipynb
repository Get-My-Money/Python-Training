{
 "cells": [
  {
   "cell_type": "markdown",
   "metadata": {},
   "source": [
    "# Домашнее задание 10"
   ]
  },
  {
   "cell_type": "markdown",
   "metadata": {},
   "source": [
    "## Задача 1 ― Мини-проект \"Библиотека\""
   ]
  },
  {
   "cell_type": "markdown",
   "metadata": {},
   "source": [
    "Создайте систему из классов:\n",
    "\n",
    "Book(title, author) — книга.\n",
    "\n",
    "Reader(name) — читатель, у него есть список книг.\n",
    "\n",
    "Library() — хранит список книг и список читателей.\n",
    "Функционал:\n",
    "\n",
    "Library.add_book(book) — добавить книгу;\n",
    "\n",
    "Library.register_reader(reader) — зарегистрировать читателя;\n",
    "\n",
    "Reader.borrow_book(library, title) — взять книгу из библиотеки;\n",
    "\n",
    "Reader.return_book(library, title) — вернуть книгу.\n",
    "\n",
    "Для красоты переопределить __str__() у Book и Reader."
   ]
  },
  {
   "cell_type": "code",
   "execution_count": null,
   "metadata": {},
   "outputs": [],
   "source": []
  },
  {
   "cell_type": "markdown",
   "metadata": {},
   "source": [
    "Существует файл log.txt в формате:\n",
    "\n",
    "    1:03 - OK\n",
    "    \n",
    "    1:25 - FAIL\n",
    "    \n",
    "    2:01 - FAIL\n",
    "    \n",
    "    2:30 - OK\n",
    "    \n",
    "    ...\n",
    "\n",
    "Задание:\n",
    "\n",
    "    Прочитай файл log.txt построчно.\n",
    "    \n",
    "    Построй словарь, в котором ключ — это час, а значения — список времени когда случались сбои.\n",
    "    \n",
    "    Найди и выведи для каждого часа среднее время(в минутах) между сбоями в формате:\n",
    "\n",
    "        1:00-1:59 7\n",
    "    \n",
    "        2:00-2:59 10\n",
    "    \n",
    "        3:00-3:59 5\n",
    "    \n",
    "        ..."
   ]
  },
  {
   "cell_type": "code",
   "execution_count": null,
   "metadata": {},
   "outputs": [],
   "source": []
  },
  {
   "cell_type": "markdown",
   "metadata": {},
   "source": [
    "Сущестует файл climate.txt в формате:\n",
    "\n",
    "    Январь;2021;-12\n",
    "    \n",
    "    Февраль;2021;-8\n",
    "    \n",
    "    Март;2021;2\n",
    "    \n",
    "    Январь;2022;-10\n",
    "    \n",
    "    ...\n",
    "\n",
    "Задание:\n",
    "\n",
    "    Прочитай файл climate.txt.\n",
    "    \n",
    "    Составь словарь {месяц: список температур}, игнорируя год.\n",
    "    \n",
    "    Для каждого месяца вычисли среднюю температуру за все годы.\n",
    "    \n",
    "    Сохрани данные в файл avg_temp.txt в формате:\n",
    "    \n",
    "        Январь: -11.0\n",
    "        \n",
    "        Февраль: -7.5\n",
    "        \n",
    "        Март: 3.2\n",
    "        \n",
    "        ..."
   ]
  },
  {
   "cell_type": "code",
   "execution_count": null,
   "metadata": {},
   "outputs": [],
   "source": []
  }
 ],
 "metadata": {
  "colab": {
   "provenance": []
  },
  "kernelspec": {
   "display_name": "Python 3 (ipykernel)",
   "language": "python",
   "name": "python3"
  },
  "language_info": {
   "codemirror_mode": {
    "name": "ipython",
    "version": 3
   },
   "file_extension": ".py",
   "mimetype": "text/x-python",
   "name": "python",
   "nbconvert_exporter": "python",
   "pygments_lexer": "ipython3",
   "version": "3.12.2"
  }
 },
 "nbformat": 4,
 "nbformat_minor": 4
}
