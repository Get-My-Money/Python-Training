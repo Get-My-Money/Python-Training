{
 "cells": [
  {
   "cell_type": "markdown",
   "metadata": {
    "id": "rqHZkQ4Qq5-z"
   },
   "source": [
    "задание 1 - радар"
   ]
  },
  {
   "cell_type": "code",
   "execution_count": 1,
   "metadata": {
    "colab": {
     "base_uri": "https://localhost:8080/"
    },
    "executionInfo": {
     "elapsed": 29102,
     "status": "ok",
     "timestamp": 1746871827568,
     "user": {
      "displayName": "",
      "userId": ""
     },
     "user_tz": -180
    },
    "id": "2mJZDXLuq8Sx",
    "outputId": "7748a5aa-d5a7-47a8-ba48-78dc71b9e4ef"
   },
   "outputs": [
    {
     "name": "stdin",
     "output_type": "stream",
     "text": [
      "Введите числа через пробел:  1 10 2 10 5 10 10\n",
      "Введите число :  10\n"
     ]
    },
    {
     "name": "stdout",
     "output_type": "stream",
     "text": [
      "1 3 5 6 \n"
     ]
    }
   ],
   "source": [
    "numbers_input = input(\"Введите числа через пробел: \")\n",
    "numbers_list = numbers_input.split()\n",
    "numbers = []\n",
    "for num in numbers_list:\n",
    "    numbers.append(int(num))\n",
    "x = int(input(\"Введите число : \"))\n",
    "found_indices = []\n",
    "index = 0\n",
    "for num in numbers:\n",
    "    if num == x:\n",
    "        found_indices.append(index)\n",
    "    index += 1\n",
    "if len(found_indices) == 0:\n",
    "    print(\"Нет совпадений\")\n",
    "else:\n",
    "    for i in found_indices:\n",
    "        print(i, end=\" \")\n",
    "    print()"
   ]
  },
  {
   "cell_type": "markdown",
   "metadata": {
    "id": "ECrknSMyrOIb"
   },
   "source": [
    "Задание 2\n"
   ]
  },
  {
   "cell_type": "code",
   "execution_count": 2,
   "metadata": {
    "colab": {
     "base_uri": "https://localhost:8080/",
     "height": 373
    },
    "executionInfo": {
     "elapsed": 198970,
     "status": "error",
     "timestamp": 1746872271945,
     "user": {
      "displayName": "",
      "userId": ""
     },
     "user_tz": -180
    },
    "id": "d2qzPUUwrfHD",
    "outputId": "f258c3e0-2a90-466b-882a-d2bae5bea52f"
   },
   "outputs": [
    {
     "name": "stdout",
     "output_type": "stream",
     "text": [
      "Вводите числа по одному. Для остановки введите числа, дающие в сумме 0.\n"
     ]
    },
    {
     "name": "stdin",
     "output_type": "stream",
     "text": [
      "Введите число:  10\n",
      "Введите число:  2\n",
      "Введите число:  4\n",
      "Введите число:  -12\n",
      "Введите число:  -4\n"
     ]
    },
    {
     "name": "stdout",
     "output_type": "stream",
     "text": [
      "Сумма квадратов всех введенных чисел: 280\n"
     ]
    }
   ],
   "source": [
    "numbers = []\n",
    "total_sum = 0\n",
    "sum_of_squares = 0\n",
    "print(\"Вводите числа по одному. Для остановки введите числа, дающие в сумме 0.\")\n",
    "while True:\n",
    "    num = int(input(\"Введите число: \"))\n",
    "    numbers.append(num)\n",
    "    total_sum += num\n",
    "    if total_sum == 0:\n",
    "        break\n",
    "for num in numbers:\n",
    "    sum_of_squares += num ** 2\n",
    "print(\"Сумма квадратов всех введенных чисел:\", sum_of_squares)"
   ]
  },
  {
   "cell_type": "markdown",
   "metadata": {
    "id": "xGl8q_AJsFZz"
   },
   "source": [
    "Задание 3"
   ]
  },
  {
   "cell_type": "code",
   "execution_count": 6,
   "metadata": {
    "colab": {
     "base_uri": "https://localhost:8080/"
    },
    "executionInfo": {
     "elapsed": 2921,
     "status": "ok",
     "timestamp": 1746872277340,
     "user": {
      "displayName": "",
      "userId": ""
     },
     "user_tz": -180
    },
    "id": "v-ad2ncRsJbm",
    "outputId": "44b504ea-5d5b-4f0c-f2a1-5e333318d647"
   },
   "outputs": [
    {
     "name": "stdin",
     "output_type": "stream",
     "text": [
      "Введите количество элементов (n):  18\n"
     ]
    },
    {
     "name": "stdout",
     "output_type": "stream",
     "text": [
      "1 2 2 3 3 3 4 4 4 4 5 5 5 5 5 6 6 6\n"
     ]
    }
   ],
   "source": [
    "n = int(input(\"Введите количество элементов (n): \"))\n",
    "sequence = []\n",
    "current_number = 1\n",
    "while len(sequence) < n:\n",
    "    for _ in range(current_number):\n",
    "        sequence.append(current_number)\n",
    "        if len(sequence) == n:\n",
    "            break\n",
    "    current_number += 1\n",
    "print(' '.join(map(str, sequence[:n])))"
   ]
  },
  {
   "cell_type": "code",
   "execution_count": null,
   "metadata": {},
   "outputs": [],
   "source": []
  }
 ],
 "metadata": {
  "colab": {
   "provenance": [
    {
     "file_id": "/v2/external/notebooks/intro.ipynb",
     "timestamp": 1746872302648
    }
   ],
   "toc_visible": true
  },
  "kernelspec": {
   "display_name": "Python 3 (ipykernel)",
   "language": "python",
   "name": "python3"
  },
  "language_info": {
   "codemirror_mode": {
    "name": "ipython",
    "version": 3
   },
   "file_extension": ".py",
   "mimetype": "text/x-python",
   "name": "python",
   "nbconvert_exporter": "python",
   "pygments_lexer": "ipython3",
   "version": "3.12.2"
  }
 },
 "nbformat": 4,
 "nbformat_minor": 4
}
