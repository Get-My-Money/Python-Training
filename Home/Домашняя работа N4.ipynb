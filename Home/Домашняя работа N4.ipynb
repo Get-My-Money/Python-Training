{
 "cells": [
  {
   "cell_type": "markdown",
   "metadata": {
    "id": "gsYHxLdFpgQZ"
   },
   "source": [
    "Задание первое."
   ]
  },
  {
   "cell_type": "code",
   "execution_count": 1,
   "metadata": {
    "colab": {
     "base_uri": "https://localhost:8080/"
    },
    "executionInfo": {
     "elapsed": 10067,
     "status": "ok",
     "timestamp": 1747508983627,
     "user": {
      "displayName": "",
      "userId": ""
     },
     "user_tz": -180
    },
    "id": "MzdR0YfQplkp",
    "outputId": "4ca4720c-335c-410e-ce03-f6f6d9384ef7"
   },
   "outputs": [
    {
     "name": "stdin",
     "output_type": "stream",
     "text": [
      " -5 6 20 0 15 23 14\n"
     ]
    },
    {
     "name": "stdout",
     "output_type": "stream",
     "text": [
      "[6, 0]\n",
      "2\n"
     ]
    }
   ],
   "source": [
    "input_numbers = input().split()\n",
    "numbers = []\n",
    "for num in input_numbers:\n",
    "    numbers.append(int(num))\n",
    "result = []\n",
    "for index in range(len(numbers)):\n",
    "    if index % 2 == 1 and numbers[index] % 2 == 0:\n",
    "        result.append(numbers[index])\n",
    "print(result)\n",
    "print(len(result))"
   ]
  },
  {
   "cell_type": "markdown",
   "metadata": {
    "id": "AMQLyVz6p5GC"
   },
   "source": [
    "Задание второе"
   ]
  },
  {
   "cell_type": "code",
   "execution_count": 6,
   "metadata": {
    "colab": {
     "base_uri": "https://localhost:8080/"
    },
    "executionInfo": {
     "elapsed": 4517,
     "status": "ok",
     "timestamp": 1747509078159,
     "user": {
      "displayName": "",
      "userId": ""
     },
     "user_tz": -180
    },
    "id": "XecsyoRbp6rU",
    "outputId": "e5c84f27-7c74-40d4-db98-724552c4400e"
   },
   "outputs": [
    {
     "name": "stdin",
     "output_type": "stream",
     "text": [
      " 2 5\n"
     ]
    },
    {
     "name": "stdout",
     "output_type": "stream",
     "text": [
      "[3]\n"
     ]
    }
   ],
   "source": [
    "input_numbers = input().split()\n",
    "numbers = []\n",
    "for num in input_numbers:\n",
    "    numbers.append(int(num))\n",
    "result = []\n",
    "for i in range(len(numbers) - 1):\n",
    "    diff = numbers[i + 1] - numbers[i]\n",
    "    result.append(diff)\n",
    "print(result)"
   ]
  },
  {
   "cell_type": "markdown",
   "metadata": {
    "id": "KL2YtDe0qWSl"
   },
   "source": [
    "Задание третье"
   ]
  },
  {
   "cell_type": "code",
   "execution_count": 10,
   "metadata": {
    "colab": {
     "base_uri": "https://localhost:8080/"
    },
    "executionInfo": {
     "elapsed": 11528,
     "status": "ok",
     "timestamp": 1747509176438,
     "user": {
      "displayName": "",
      "userId": ""
     },
     "user_tz": -180
    },
    "id": "OvLaBX5HqYRH",
    "outputId": "0ef52d72-cb8c-44ad-c1a1-f97973d23fc7"
   },
   "outputs": [
    {
     "name": "stdin",
     "output_type": "stream",
     "text": [
      " 1 2 3\n",
      " -1\n"
     ]
    },
    {
     "name": "stdout",
     "output_type": "stream",
     "text": [
      "[2, 3, 1]\n"
     ]
    }
   ],
   "source": [
    "numbers = list(map(int, input().split()))\n",
    "k = int(input())\n",
    "k = k % len(numbers)\n",
    "rotated = numbers[-k:] + numbers[:-k]\n",
    "print(rotated)"
   ]
  },
  {
   "cell_type": "markdown",
   "metadata": {
    "id": "1kTViaZ2quag"
   },
   "source": [
    "Задание четвертое"
   ]
  },
  {
   "cell_type": "code",
   "execution_count": 11,
   "metadata": {
    "colab": {
     "base_uri": "https://localhost:8080/"
    },
    "executionInfo": {
     "elapsed": 14866,
     "status": "ok",
     "timestamp": 1747509278559,
     "user": {
      "displayName": "",
      "userId": ""
     },
     "user_tz": -180
    },
    "id": "epqXEhsHqwVp",
    "outputId": "d119d0bd-5eb9-4ab7-c20c-5b3650b9c022"
   },
   "outputs": [
    {
     "name": "stdin",
     "output_type": "stream",
     "text": [
      "Введите название фильма:  bison\n",
      "Введите год выпуска:  1855\n",
      "Введите вашу оценку (от 1 до 10):  6\n"
     ]
    },
    {
     "name": "stdout",
     "output_type": "stream",
     "text": [
      "[['Оценка', 6], ['Жанр', 'Фантастика']]\n"
     ]
    }
   ],
   "source": [
    "film_name = input(\"Введите название фильма: \")\n",
    "film_year = int(input(\"Введите год выпуска: \"))\n",
    "film_rating = int(input(\"Введите вашу оценку (от 1 до 10): \"))\n",
    "film_data = [\n",
    "    [\"Название\", film_name],\n",
    "    [\"Год\", film_year],\n",
    "    [\"Оценка\", film_rating]\n",
    "]\n",
    "film_data.append([\"Жанр\", \"Фантастика\"])\n",
    "slice_result = film_data[2:4]\n",
    "print(slice_result)"
   ]
  },
  {
   "cell_type": "code",
   "execution_count": null,
   "metadata": {},
   "outputs": [],
   "source": []
  },
  {
   "cell_type": "code",
   "execution_count": 21,
   "metadata": {},
   "outputs": [
    {
     "name": "stdin",
     "output_type": "stream",
     "text": [
      "Введите номер билета, состоящий из 6 цифр: 123456\n"
     ]
    },
    {
     "name": "stdout",
     "output_type": "stream",
     "text": [
      "6 15\n"
     ]
    }
   ],
   "source": [
    "a = int(input(\"Введите номер билета, состоящий из 6 цифр:\"))\n",
    "\n",
    "first_half = a//100000 + (a//10000 % 10) + (a//1000 % 10)\n",
    "second_half = (a//100 % 10) + (a//10 % 10) + a % 10\n",
    "\n",
    "print(first_half, second_half)"
   ]
  },
  {
   "cell_type": "code",
   "execution_count": 20,
   "metadata": {},
   "outputs": [
    {
     "data": {
      "text/plain": [
       "3"
      ]
     },
     "execution_count": 20,
     "metadata": {},
     "output_type": "execute_result"
    }
   ],
   "source": [
    "(a//1000 % 10)"
   ]
  },
  {
   "cell_type": "code",
   "execution_count": null,
   "metadata": {},
   "outputs": [],
   "source": []
  }
 ],
 "metadata": {
  "colab": {
   "name": "Добро пожаловать в Colab!",
   "provenance": [
    {
     "file_id": "/v2/external/notebooks/intro.ipynb",
     "timestamp": 1747509302844
    }
   ],
   "toc_visible": true
  },
  "kernelspec": {
   "display_name": "Python 3 (ipykernel)",
   "language": "python",
   "name": "python3"
  },
  "language_info": {
   "codemirror_mode": {
    "name": "ipython",
    "version": 3
   },
   "file_extension": ".py",
   "mimetype": "text/x-python",
   "name": "python",
   "nbconvert_exporter": "python",
   "pygments_lexer": "ipython3",
   "version": "3.12.2"
  }
 },
 "nbformat": 4,
 "nbformat_minor": 4
}
