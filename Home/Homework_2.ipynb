{
 "cells": [
  {
   "cell_type": "markdown",
   "metadata": {},
   "source": [
    "# Домашнее задание 2"
   ]
  },
  {
   "cell_type": "markdown",
   "metadata": {},
   "source": [
    "## Задача 1. Проверка интервала чисел"
   ]
  },
  {
   "cell_type": "markdown",
   "metadata": {},
   "source": [
    "«Напишите программу, которая читает целое число и выводит True, если оно попадает в интервал от -10 (не включая) до 10 (включая), либо в интервал (12, 15), либо в [18, +∞). В остальных случаях вывести False.»"
   ]
  },
  {
   "cell_type": "code",
   "execution_count": null,
   "metadata": {},
   "outputs": [],
   "source": []
  },
  {
   "cell_type": "markdown",
   "metadata": {},
   "source": [
    "## Задача 2*. «Счастливый билет» c условием"
   ]
  },
  {
   "cell_type": "markdown",
   "metadata": {},
   "source": [
    "«Программа читает с клавиатуры строку из 6 символов (гарантируется, что это 6 цифр). Проверяет, совпадает ли сумма первых трёх и последних трёх цифр. Если совпадают — “Lucky”, иначе — “Not Lucky”.» Нельзя использовать операции со строками и их преобразования.(Операция целочисленного деления(//) может быть полезна)"
   ]
  },
  {
   "cell_type": "code",
   "execution_count": null,
   "metadata": {},
   "outputs": [],
   "source": [
    "a = int(input(\"Введите номер билета, состоящий из 6 цифр:\"))"
   ]
  }
 ],
 "metadata": {
  "colab": {
   "provenance": []
  },
  "kernelspec": {
   "display_name": "Python 3 (ipykernel)",
   "language": "python",
   "name": "python3"
  },
  "language_info": {
   "codemirror_mode": {
    "name": "ipython",
    "version": 3
   },
   "file_extension": ".py",
   "mimetype": "text/x-python",
   "name": "python",
   "nbconvert_exporter": "python",
   "pygments_lexer": "ipython3",
   "version": "3.12.2"
  }
 },
 "nbformat": 4,
 "nbformat_minor": 4
}
