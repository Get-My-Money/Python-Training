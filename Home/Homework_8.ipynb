{
 "cells": [
  {
   "cell_type": "markdown",
   "metadata": {},
   "source": [
    "# Домашнее задание 8"
   ]
  },
  {
   "cell_type": "markdown",
   "metadata": {
    "jp-MarkdownHeadingCollapsed": true
   },
   "source": [
    "## Задача 1 ― «Анализ давления на основе данных»"
   ]
  },
  {
   "cell_type": "markdown",
   "metadata": {},
   "source": [
    "Найдите и выведите(доделать):\n",
    "\n",
    "    Среднее давление (систолическое и диастолическое)\n",
    "    \n",
    "    Самого гипертоничного пациента (макс sys)\n",
    "    \n",
    "    Количество пациентов с dia > 90"
   ]
  },
  {
   "cell_type": "code",
   "execution_count": null,
   "metadata": {},
   "outputs": [],
   "source": []
  },
  {
   "cell_type": "markdown",
   "metadata": {
    "jp-MarkdownHeadingCollapsed": true
   },
   "source": [
    "## Задача 2 ― «Импорт рецептов + фильтрация по словарю»"
   ]
  },
  {
   "cell_type": "markdown",
   "metadata": {},
   "source": [
    "Файл recipes.txt, в нём каждая строка:\n",
    "\n",
    "Плов:рис,мясо,морковь,лук\n",
    "\n",
    "Салат:огурец,помидор,соль\n",
    "\n",
    "...\n",
    "Нужно написать функцию, которая при запуске:\n",
    "\n",
    "1. Спрашивает у пользователя нужен ли им рецепт или блюдо по ингредиенту\n",
    "\n",
    "2. Если он вводит Блюдо и его название через тире, то вывести его рецепт.\n",
    "\n",
    "3. Если он вводит Ингредиент и его наменование через тире, вывести все блюда которые содержат этот ингредиент."
   ]
  },
  {
   "cell_type": "code",
   "execution_count": null,
   "metadata": {},
   "outputs": [],
   "source": []
  },
  {
   "cell_type": "markdown",
   "metadata": {
    "jp-MarkdownHeadingCollapsed": true
   },
   "source": [
    "## Задача 3 ― «Импорт рецептов + фильтрация по словарю»"
   ]
  },
  {
   "cell_type": "markdown",
   "metadata": {},
   "source": [
    "В файле results.txt — имя студента и 1 число в каждой строке(баллы студентов).\n",
    "\n",
    "Прочитай все числа и выведите их:\n",
    "\n",
    "Среднее значение\n",
    "\n",
    "Медиану\n",
    "\n",
    "Стандартное отклонение\n",
    "А так же нарисуйте гистограмму распределения их баллов.\n",
    "\n",
    "Формат файла:\n",
    "\n",
    "Егор : 17\n",
    "\n",
    "Сидор : 85\n",
    "\n",
    "Маша : 92\n",
    "\n",
    "Петя : 68\n",
    "\n",
    "Оля : 45\n",
    "\n",
    "..."
   ]
  },
  {
   "cell_type": "code",
   "execution_count": null,
   "metadata": {},
   "outputs": [],
   "source": []
  }
 ],
 "metadata": {
  "colab": {
   "provenance": []
  },
  "kernelspec": {
   "display_name": "Python 3 (ipykernel)",
   "language": "python",
   "name": "python3"
  },
  "language_info": {
   "codemirror_mode": {
    "name": "ipython",
    "version": 3
   },
   "file_extension": ".py",
   "mimetype": "text/x-python",
   "name": "python",
   "nbconvert_exporter": "python",
   "pygments_lexer": "ipython3",
   "version": "3.12.2"
  }
 },
 "nbformat": 4,
 "nbformat_minor": 4
}
