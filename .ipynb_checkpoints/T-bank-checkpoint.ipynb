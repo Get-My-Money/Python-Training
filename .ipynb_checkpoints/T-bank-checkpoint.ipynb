{
 "cells": [
  {
   "cell_type": "markdown",
   "metadata": {},
   "source": [
    "# Задачи"
   ]
  },
  {
   "cell_type": "markdown",
   "metadata": {
    "jp-MarkdownHeadingCollapsed": true
   },
   "source": [
    "## Задача 1"
   ]
  },
  {
   "cell_type": "code",
   "execution_count": 1,
   "metadata": {},
   "outputs": [
    {
     "name": "stderr",
     "output_type": "stream",
     "text": [
      "\n",
      "KeyboardInterrupt\n",
      "\n"
     ]
    }
   ],
   "source": [
    "text = input()\n",
    "text1 = text[:3]\n",
    "text2 = text[:2] + text[3:]\n",
    "text3 = text[0] + text[2:]\n",
    "text4 = text[1:]\n",
    "\n",
    "if text1 == text1[::-1]:\n",
    "    print(\"YES\")\n",
    "elif text2 == text2[::-1]:\n",
    "    print(\"YES\")\n",
    "elif text3 == text3[::-1]:\n",
    "    print(\"YES\")\n",
    "elif text4 == text4[::-1]:\n",
    "    print(\"YES\")\n",
    "else:\n",
    "    print(\"NO\")"
   ]
  },
  {
   "cell_type": "markdown",
   "metadata": {
    "jp-MarkdownHeadingCollapsed": true
   },
   "source": [
    "## Задача 2"
   ]
  },
  {
   "cell_type": "code",
   "execution_count": null,
   "metadata": {},
   "outputs": [],
   "source": [
    "n = int(input())\n",
    "a = [0 for i in range(n+1)]\n",
    "b = [0 for i in range(n+1)]\n",
    "\n",
    "for i in range(1, n + 1):\n",
    "    ai, bi = map(int, input().split())\n",
    "    a[i], b[i] = ai, bi\n",
    "\n",
    "q = int(input())\n",
    "for i in range(q):\n",
    "    t, d = map(int, input().split())\n",
    "    if d <= a[t]:\n",
    "        print(a[t])\n",
    "    else:\n",
    "        k = (d - a[t] + b[t] - 1) // b[t]\n",
    "        print(a[t] + k * b[t])"
   ]
  },
  {
   "cell_type": "markdown",
   "metadata": {
    "jp-MarkdownHeadingCollapsed": true
   },
   "source": [
    "## Задача 3"
   ]
  },
  {
   "cell_type": "code",
   "execution_count": null,
   "metadata": {},
   "outputs": [],
   "source": [
    "n = int(input())\n",
    "a = list(map(int, input().split()))\n",
    "\n",
    "used = set()\n",
    "a.sort(reverse=True)\n",
    "\n",
    "for x in a:\n",
    "    while x > 0 and x in used:\n",
    "        x //= 2\n",
    "    if x not in used:\n",
    "        used.add(x)\n",
    "\n",
    "print(len(used))"
   ]
  },
  {
   "cell_type": "markdown",
   "metadata": {
    "jp-MarkdownHeadingCollapsed": true
   },
   "source": [
    "## Задача 4"
   ]
  },
  {
   "cell_type": "code",
   "execution_count": null,
   "metadata": {},
   "outputs": [],
   "source": [
    "from bisect import bisect_left\n",
    "\n",
    "n = int(input())\n",
    "A = list(map(int, input().split()))\n",
    "pos   = {v: [] for v in range(1, 11)}\n",
    "start = {v: 0  for v in range(1, 11)}\n",
    "L = 1\n",
    "good = 0\n",
    "\n",
    "for r, x in enumerate(A, start=1):\n",
    "    pos[x].append(r)\n",
    "    max_i = 0\n",
    "    px = pos[x]\n",
    "    if len(px) - start[x] >= 3:\n",
    "        max_i = max(max_i, px[-3])\n",
    "\n",
    "    for b in range(1, 11):\n",
    "        if b == x:\n",
    "            continue\n",
    "        a = 2*b - x\n",
    "        if a < 1 or a > 10:\n",
    "            continue\n",
    "\n",
    "        pa = pos[a]\n",
    "        pb = pos[b]\n",
    "        if start[a] >= len(pa) or start[b] >= len(pb):\n",
    "            continue\n",
    "\n",
    "        j = pb[-1]\n",
    "        idx = bisect_left(pa, j)\n",
    "        if idx - 1 >= start[a]:\n",
    "            max_i = max(max_i, pa[idx - 1])\n",
    "\n",
    "    if max_i + 1 > L:\n",
    "        L = max_i + 1\n",
    "        for v in range(1, 11):\n",
    "            pv = pos[v]\n",
    "            s  = start[v]\n",
    "            while s < len(pv) and pv[s] < L:\n",
    "                s += 1\n",
    "            start[v] = s\n",
    "\n",
    "    good += (r - L + 1)\n",
    "\n",
    "total = n * (n + 1) // 2\n",
    "print(total - good)"
   ]
  },
  {
   "cell_type": "markdown",
   "metadata": {
    "jp-MarkdownHeadingCollapsed": true
   },
   "source": [
    "## Задача 5"
   ]
  },
  {
   "cell_type": "code",
   "execution_count": null,
   "metadata": {},
   "outputs": [],
   "source": [
    "n, a, b = map(int, input().split())\n",
    "s = input().strip()\n",
    "\n",
    "bal = 0\n",
    "y = 0\n",
    "for c in s:\n",
    "    if c == '(':\n",
    "        bal += 1\n",
    "    else:  \n",
    "        if bal > 0:\n",
    "            bal -= 1\n",
    "        else:\n",
    "            y += 1\n",
    "            bal = 1\n",
    "\n",
    "x = bal // 2\n",
    "D = x + y\n",
    "pairs = min(x, y)\n",
    "if a < 2 * b:\n",
    "    ans = pairs * a + (D - 2 * pairs) * b\n",
    "else:\n",
    "    ans = D * b\n",
    "\n",
    "print(ans)"
   ]
  },
  {
   "cell_type": "markdown",
   "metadata": {
    "jp-MarkdownHeadingCollapsed": true
   },
   "source": [
    "## Задача 6"
   ]
  },
  {
   "cell_type": "code",
   "execution_count": null,
   "metadata": {},
   "outputs": [],
   "source": [
    "import heapq\n",
    "\n",
    "n = int(input())\n",
    "a = list(map(int, input().split()))\n",
    "\n",
    "prev = [i-1 for i in range(n)]\n",
    "nxt  = [i+1 for i in range(n)]\n",
    "nxt[-1] = -1\n",
    "alive = [True]*n\n",
    "\n",
    "heap = []\n",
    "for i in range(n-1):\n",
    "    heapq.heappush(heap, (-abs(a[i]-a[i+1]), i, i+1))\n",
    "\n",
    "total = 0\n",
    "while heap:\n",
    "    negw, i, j = heapq.heappop(heap)\n",
    "    w = -negw\n",
    "    if alive[i] and alive[j] and nxt[i] == j:\n",
    "        total += w\n",
    "        alive[i] = alive[j] = False\n",
    "        L = prev[i]\n",
    "        R = nxt[j]\n",
    "        if L != -1:\n",
    "            nxt[L] = R\n",
    "        if R != -1:\n",
    "            prev[R] = L\n",
    "        if L != -1 and R != -1:\n",
    "            heapq.heappush(heap, (-abs(a[L]-a[R]), L, R))\n",
    "\n",
    "print(total)"
   ]
  },
  {
   "cell_type": "markdown",
   "metadata": {},
   "source": [
    "## Задача 7"
   ]
  },
  {
   "cell_type": "code",
   "execution_count": 22,
   "metadata": {},
   "outputs": [
    {
     "name": "stdin",
     "output_type": "stream",
     "text": [
      " 4\n",
      " 2 3 2\n"
     ]
    },
    {
     "name": "stdout",
     "output_type": "stream",
     "text": [
      "720\n"
     ]
    }
   ],
   "source": [
    "from fractions import Fraction\n",
    "from math import gcd\n",
    "from itertools import product\n",
    "\n",
    "MOD = 998244353\n",
    "\n",
    "# Функция для поиска унитарных делителей d числа x (gcd(d, x//d) == 1)\n",
    "def unitary_divs(x):\n",
    "    res = []\n",
    "    i = 1\n",
    "    while i * i <= x:\n",
    "        if x % i == 0:\n",
    "            j = x // i\n",
    "            if gcd(i, j) == 1:\n",
    "                res.append(i)\n",
    "            if j != i and gcd(j, i) == 1:\n",
    "                res.append(j)\n",
    "        i += 1\n",
    "    return res\n",
    "\n",
    "# Читаем вход\n",
    "n = int(input().strip())\n",
    "a = list(map(int, input().split()))  # длина n-1\n",
    "\n",
    "# Предварительно готовим список унитарных делителей для каждого a_i\n",
    "uds = [unitary_divs(ai) for ai in a]\n",
    "\n",
    "answer = 0\n",
    "\n",
    "# Перебираем все сочетания p1..p_{n-1}\n",
    "for Ps in product(*uds):\n",
    "    # Восстанавливаем qi = ai/pi\n",
    "    Qs = [a[i] // Ps[i] for i in range(n - 1)]\n",
    "    \n",
    "    # Составляем дробную последовательность b_frac, где b_i = b_frac[i] * k1\n",
    "    b_frac = [Fraction(Ps[0], 1)]\n",
    "    for i in range(1, n):\n",
    "        # b_i = b_{i-1} * (q_{i-1}/p_{i-1})\n",
    "        b_frac.append(b_frac[-1] * Fraction(Qs[i - 1], Ps[i - 1]))\n",
    "    \n",
    "    # Находим систему знаменателей D_i\n",
    "    Ds = [bf.denominator for bf in b_frac]\n",
    "    # Минимальный k1, при котором все b_i целые, — это lcm всех D_i\n",
    "    L = 1\n",
    "    for d in Ds:\n",
    "        L = L * d // gcd(L, d)\n",
    "    \n",
    "    # Строим целочисленную b-последовательность\n",
    "    b_int = [(bf * L).numerator for bf in b_frac]\n",
    "    \n",
    "    # Проверяем gcd(b1..bn) == 1\n",
    "    g = 0\n",
    "    for bi in b_int:\n",
    "        g = gcd(g, bi)\n",
    "    if g != 1:\n",
    "        continue\n",
    "    \n",
    "    # Накопим интерес = ∏ b_i mod MOD\n",
    "    prod = 1\n",
    "    for bi in b_int:\n",
    "        prod = prod * (bi % MOD) % MOD\n",
    "    \n",
    "    answer = (answer + prod) % MOD\n",
    "\n",
    "print(answer)"
   ]
  },
  {
   "cell_type": "code",
   "execution_count": null,
   "metadata": {},
   "outputs": [],
   "source": []
  }
 ],
 "metadata": {
  "colab": {
   "provenance": []
  },
  "kernelspec": {
   "display_name": "Python 3 (ipykernel)",
   "language": "python",
   "name": "python3"
  },
  "language_info": {
   "codemirror_mode": {
    "name": "ipython",
    "version": 3
   },
   "file_extension": ".py",
   "mimetype": "text/x-python",
   "name": "python",
   "nbconvert_exporter": "python",
   "pygments_lexer": "ipython3",
   "version": "3.12.2"
  }
 },
 "nbformat": 4,
 "nbformat_minor": 4
}
