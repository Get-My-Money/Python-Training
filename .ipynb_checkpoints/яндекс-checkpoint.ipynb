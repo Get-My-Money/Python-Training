{
 "cells": [
  {
   "cell_type": "markdown",
   "metadata": {},
   "source": [
    "# Задачи"
   ]
  },
  {
   "cell_type": "markdown",
   "metadata": {
    "jp-MarkdownHeadingCollapsed": true
   },
   "source": [
    "## Line Reflection"
   ]
  },
  {
   "cell_type": "code",
   "execution_count": 1,
   "metadata": {},
   "outputs": [
    {
     "name": "stdin",
     "output_type": "stream",
     "text": [
      " dzsf\n"
     ]
    },
    {
     "name": "stdout",
     "output_type": "stream",
     "text": [
      "NO\n"
     ]
    }
   ],
   "source": [
    "text = input()\n",
    "text1 = text[:3]\n",
    "text2 = text[:2] + text[3:]\n",
    "text3 = text[0] + text[2:]\n",
    "text4 = text[1:]\n",
    "\n",
    "if text1 == text1[::-1]:\n",
    "    print(\"YES\")\n",
    "elif text2 == text2[::-1]:\n",
    "    print(\"YES\")\n",
    "elif text3 == text3[::-1]:\n",
    "    print(\"YES\")\n",
    "elif text4 == text4[::-1]:\n",
    "    print(\"YES\")\n",
    "else:\n",
    "    print(\"NO\")"
   ]
  },
  {
   "cell_type": "markdown",
   "metadata": {
    "jp-MarkdownHeadingCollapsed": true
   },
   "source": [
    "## Longest Subarray of 1’s After Deleting One Element"
   ]
  },
  {
   "cell_type": "code",
   "execution_count": 2,
   "metadata": {},
   "outputs": [
    {
     "name": "stdout",
     "output_type": "stream",
     "text": [
      "3\n"
     ]
    }
   ],
   "source": [
    "llist = [0,1,1,1,0,0,0,1,1,0,1]\n",
    "str_list = \"\"\n",
    "max_length = 0\n",
    "for num in llist:\n",
    "    str_list += str(num)\n",
    "\n",
    "num_list = str_list.split(\"0\")\n",
    "for i in range(len(num_list)-1):\n",
    "    if '0' not in (num_list[i] + num_list[i+1]) and len(num_list[i] + num_list[i+1]) > max_length:\n",
    "        max_length = len(num_list[i] + num_list[i+1])\n",
    "print(max_length)"
   ]
  },
  {
   "cell_type": "markdown",
   "metadata": {
    "jp-MarkdownHeadingCollapsed": true
   },
   "source": [
    "## Summary Ranges"
   ]
  },
  {
   "cell_type": "code",
   "execution_count": 3,
   "metadata": {},
   "outputs": [
    {
     "name": "stdout",
     "output_type": "stream",
     "text": [
      "['1', '3']\n"
     ]
    }
   ],
   "source": [
    "nums = [1,3]\n",
    "if not nums:\n",
    "    print([])\n",
    "else:\n",
    "    nums_list = [] \n",
    "    rrange = str(nums[0])\n",
    "    \n",
    "    for i in range(1, len(nums)):\n",
    "        if nums[i] != nums[i - 1] + 1:\n",
    "            if rrange != str(nums[i - 1]):\n",
    "                rrange += \"->\" + str(nums[i - 1])\n",
    "            nums_list.append(rrange)\n",
    "            rrange = str(nums[i])\n",
    "    \n",
    "    if rrange != str(nums[-1]):\n",
    "        rrange += \"->\" + str(nums[-1])\n",
    "    nums_list.append(rrange)\n",
    "     \n",
    "    print(nums_list)"
   ]
  },
  {
   "cell_type": "markdown",
   "metadata": {
    "jp-MarkdownHeadingCollapsed": true
   },
   "source": [
    "## String Compression"
   ]
  },
  {
   "cell_type": "code",
   "execution_count": 37,
   "metadata": {},
   "outputs": [
    {
     "name": "stdout",
     "output_type": "stream",
     "text": [
      "['a', '6', 'b', '2', '1', 'c', '1', '4']\n"
     ]
    }
   ],
   "source": [
    "chars = [\"a\",\"a\",\"a\",\"a\",\"a\",\"a\",\"b\",\"b\",\"b\",\"b\",\"b\",\"b\",\"b\",\"b\",\"b\",\"b\",\"b\",\"b\",\"b\",\"b\",\"b\",\"b\",\"b\",\"b\",\"b\",\"b\",\"b\",\"c\",\"c\",\"c\",\"c\",\"c\",\"c\",\"c\",\"c\",\"c\",\"c\",\"c\",\"c\",\"c\",\"c\"]\n",
    "\n",
    "char_now = chars[0]\n",
    "char_counter = 0\n",
    "before_counter = 0\n",
    "after_counter = 0\n",
    "\n",
    "for i in range(len(chars)):\n",
    "    if chars[i] == char_now and i+1 != len(chars):\n",
    "        char_counter += 1\n",
    "    elif chars[i] == char_now and i+1 == len(chars):\n",
    "        char_counter += 1\n",
    "        before_counter = after_counter \n",
    "        after_counter += char_counter\n",
    "        if char_counter <= 9 and char_counter != 1:\n",
    "            chars[before_counter:after_counter] = [char_now, str(char_counter)] + (char_counter - len([char_now, str(char_counter)]))*['й']\n",
    "        elif char_counter == 1:\n",
    "            chars[before_counter:after_counter] = [char_now]\n",
    "        else:\n",
    "            new_line = [char_now]\n",
    "            for num in str(char_counter):\n",
    "                new_line.append(num)\n",
    "            chars[before_counter:after_counter] = new_line + (char_counter - len(new_line))*['й']\n",
    "    else:\n",
    "        before_counter = after_counter \n",
    "        after_counter += char_counter\n",
    "        if char_counter <= 9 and char_counter != 1:\n",
    "            chars[before_counter:after_counter] = [char_now, str(char_counter)] + (char_counter - len([char_now, str(char_counter)]))*['й']\n",
    "        elif char_counter == 1:\n",
    "            chars[before_counter:after_counter] = [char_now]\n",
    "        else:\n",
    "            new_line = [char_now]\n",
    "            for num in str(char_counter):\n",
    "                new_line.append(num)\n",
    "            chars[before_counter:after_counter] = new_line + (char_counter - len(new_line))*['й']     \n",
    "        char_now = chars[i]\n",
    "        char_counter = 1\n",
    "try:\n",
    "    while chars.index('й'):\n",
    "        del chars[chars.index('й')]\n",
    "except:\n",
    "    print(chars)\n",
    "\n",
    "\n",
    "[\"a\",\"6\",\"b\",\"2\",\"1\",\"c\",\"1\",\"4\"]\n",
    "\n",
    "\n",
    "\n",
    "\n"
   ]
  },
  {
   "cell_type": "code",
   "execution_count": 5,
   "metadata": {},
   "outputs": [
    {
     "ename": "ValueError",
     "evalue": "'4' is not in list",
     "output_type": "error",
     "traceback": [
      "\u001b[1;31m---------------------------------------------------------------------------\u001b[0m",
      "\u001b[1;31mValueError\u001b[0m                                Traceback (most recent call last)",
      "Cell \u001b[1;32mIn[5], line 1\u001b[0m\n\u001b[1;32m----> 1\u001b[0m \u001b[43mchars\u001b[49m\u001b[38;5;241;43m.\u001b[39;49m\u001b[43mindex\u001b[49m\u001b[43m(\u001b[49m\u001b[38;5;124;43m'\u001b[39;49m\u001b[38;5;124;43m4\u001b[39;49m\u001b[38;5;124;43m'\u001b[39;49m\u001b[43m)\u001b[49m\n",
      "\u001b[1;31mValueError\u001b[0m: '4' is not in list"
     ]
    }
   ],
   "source": [
    "chars.index('4')"
   ]
  },
  {
   "cell_type": "markdown",
   "metadata": {
    "jp-MarkdownHeadingCollapsed": true
   },
   "source": [
    "## Valid Palindrome"
   ]
  },
  {
   "cell_type": "code",
   "execution_count": 26,
   "metadata": {},
   "outputs": [
    {
     "name": "stdout",
     "output_type": "stream",
     "text": [
      "false\n",
      "m9yyjj9m\n"
     ]
    }
   ],
   "source": [
    "s = \",M 9y\\\"yj\\\"j9 M,\".lower()\n",
    "good_symb = \"abcdefghikjlmnopqrstuvwxzy0123456789\"\n",
    "ss = \"\"\n",
    "for sym in s:\n",
    "    if sym in good_symb:\n",
    "        ss += sym\n",
    "if ss[:(len(ss)+1)//2] == ss[::-1][:(len(ss)+1)//2]:\n",
    "    print(\"true\")\n",
    "else:\n",
    "    print(\"false\")\n",
    "\n",
    "print(ss)\n"
   ]
  },
  {
   "cell_type": "code",
   "execution_count": 12,
   "metadata": {},
   "outputs": [
    {
     "data": {
      "text/plain": [
       "12"
      ]
     },
     "execution_count": 12,
     "metadata": {},
     "output_type": "execute_result"
    }
   ],
   "source": [
    "(24+1)//2 "
   ]
  },
  {
   "cell_type": "markdown",
   "metadata": {
    "jp-MarkdownHeadingCollapsed": true
   },
   "source": [
    "## Subarray Sum Equals K"
   ]
  },
  {
   "cell_type": "code",
   "execution_count": 45,
   "metadata": {},
   "outputs": [
    {
     "name": "stdout",
     "output_type": "stream",
     "text": [
      "6\n"
     ]
    }
   ],
   "source": [
    "num_list = [0,0,0]\n",
    "k = 0\n",
    "count_map = {0: 1} \n",
    "sum_so_far = 0\n",
    "count = 0\n",
    "\n",
    "for num in num_list:\n",
    "    sum_so_far += num\n",
    "    if sum_so_far-k in count_map:\n",
    "        count += count_map[sum_so_far-k]\n",
    "    try:\n",
    "        count_map[sum_so_far] += 1\n",
    "    except:\n",
    "        count_map[sum_so_far] = 1\n",
    "\n",
    "\n",
    "print(count)"
   ]
  },
  {
   "cell_type": "markdown",
   "metadata": {
    "jp-MarkdownHeadingCollapsed": true
   },
   "source": [
    "## Move Zeroes"
   ]
  },
  {
   "cell_type": "code",
   "execution_count": 21,
   "metadata": {},
   "outputs": [
    {
     "name": "stdout",
     "output_type": "stream",
     "text": [
      "[1, 3, 12, 0, 0]\n"
     ]
    }
   ],
   "source": [
    "nums = [0,1,0,3,12]\n",
    "order_list = []\n",
    "\n",
    "last_0 = len(nums) - 1\n",
    "\n",
    "for i in range(len(nums)):\n",
    "    if nums[i] != 0:\n",
    "        order_list.append(nums[i])\n",
    "        \n",
    "for i in range(len(nums)):\n",
    "    if nums[i] == 0 and i != last_0:\n",
    "        while nums[last_0] == 0 and last_0 > i:\n",
    "            last_0 -= 1\n",
    "        nums[i], nums[last_0] = nums[last_0], nums[i]\n",
    "\n",
    "if len(order_list) == len(nums):\n",
    "    print(order_list)\n",
    "else:\n",
    "    nums[:last_0] = order_list\n",
    "    print(nums)"
   ]
  },
  {
   "cell_type": "markdown",
   "metadata": {
    "jp-MarkdownHeadingCollapsed": true
   },
   "source": [
    "## Group Anagrams"
   ]
  },
  {
   "cell_type": "code",
   "execution_count": 31,
   "metadata": {},
   "outputs": [
    {
     "data": {
      "text/plain": [
       "[['eat', 'tea', 'ate'], ['tan', 'nat'], ['bat']]"
      ]
     },
     "execution_count": 31,
     "metadata": {},
     "output_type": "execute_result"
    }
   ],
   "source": [
    "strs = [\"eat\",\"tea\",\"tan\",\"ate\",\"nat\",\"bat\"]\n",
    "strs_ind = []\n",
    "str_dict = {}\n",
    "ind = 0\n",
    "\n",
    "for word in strs:\n",
    "    sort_word = \"\".join(sorted(word))\n",
    "    try: \n",
    "        strs_ind.append(str_dict[sort_word])\n",
    "    except:\n",
    "        ind += 1\n",
    "        str_dict[sort_word] = ind\n",
    "        strs_ind.append(str_dict[sort_word])\n",
    "\n",
    "new_list = []\n",
    "for i in range(ind):\n",
    "    new_list.append([])\n",
    "\n",
    "for i, indx in enumerate(strs_ind):\n",
    "    new_list[indx-1].append(strs[i])\n",
    "new_list"
   ]
  },
  {
   "cell_type": "markdown",
   "metadata": {
    "jp-MarkdownHeadingCollapsed": true
   },
   "source": [
    "## Insert Delete GetRandom O(1)"
   ]
  },
  {
   "cell_type": "code",
   "execution_count": null,
   "metadata": {},
   "outputs": [],
   "source": []
  },
  {
   "cell_type": "markdown",
   "metadata": {
    "jp-MarkdownHeadingCollapsed": true
   },
   "source": [
    "## Generate Parentheses"
   ]
  },
  {
   "cell_type": "code",
   "execution_count": 35,
   "metadata": {},
   "outputs": [
    {
     "data": {
      "text/plain": [
       "['((()))', '(()())', '(())()', '()(())', '()()()']"
      ]
     },
     "execution_count": 35,
     "metadata": {},
     "output_type": "execute_result"
    }
   ],
   "source": [
    "n = 3\n",
    "result = []\n",
    "\n",
    "def backtrack(current, open_count, close_count):\n",
    "    if len(current) == 2 * n:\n",
    "        result.append(current)\n",
    "        return\n",
    "\n",
    "    if open_count < n:\n",
    "        backtrack(current + \"(\", open_count + 1, close_count)\n",
    "\n",
    "    if close_count < open_count:\n",
    "        backtrack(current + \")\", open_count, close_count + 1)\n",
    "\n",
    "backtrack(\"\", 0, 0)\n",
    "result"
   ]
  },
  {
   "cell_type": "markdown",
   "metadata": {
    "jp-MarkdownHeadingCollapsed": true
   },
   "source": [
    "## Permutation in String"
   ]
  },
  {
   "cell_type": "code",
   "execution_count": 89,
   "metadata": {},
   "outputs": [
    {
     "name": "stdout",
     "output_type": "stream",
     "text": [
      "True\n"
     ]
    }
   ],
   "source": [
    "from collections import Counter\n",
    "\n",
    "s1 = \"ab\"\n",
    "s2 = \"eidbaooo\"\n",
    "\n",
    "s1_counter = Counter(s1)\n",
    "\n",
    "for i in range(len(s2) - len(s1) + 1):\n",
    "    window = s2[i:i + len(s1)]\n",
    "    if Counter(window) == s1_counter:\n",
    "        print(True)\n",
    "        break\n",
    "else:\n",
    "    print(False)"
   ]
  },
  {
   "cell_type": "markdown",
   "metadata": {
    "jp-MarkdownHeadingCollapsed": true
   },
   "source": [
    "## Valid Parentheses"
   ]
  },
  {
   "cell_type": "code",
   "execution_count": 105,
   "metadata": {},
   "outputs": [
    {
     "name": "stdout",
     "output_type": "stream",
     "text": [
      "5\n"
     ]
    }
   ],
   "source": [
    "s = \"()[]{}\"\n",
    "now_len = len(s) + 1\n",
    "\n",
    "while now_len != len(s) and len(s) != 0:\n",
    "    s = \"\".join(s.split(\"()\"))\n",
    "    s = \"\".join(s.split(\"[]\"))\n",
    "    s = \"\".join(s.split(\"{}\"))\n",
    "if len(s) == 0:\n",
    "    print(True)\n",
    "else:\n",
    "    print(False)\n",
    "\n",
    "class Solution:\n",
    "    def isValid(self, s):\n",
    "        stack = []\n",
    "        mapping = {')': '(', '}': '{', ']': '['}\n",
    "\n",
    "        for char in s:\n",
    "            if char in mapping.values():\n",
    "                stack.append(char)\n",
    "            elif char in mapping:\n",
    "                if not stack or stack[-1] != mapping[char]:\n",
    "                    return False\n",
    "                stack.pop()\n",
    "            else:\n",
    "                return False\n",
    "\n",
    "        return not stack"
   ]
  },
  {
   "cell_type": "markdown",
   "metadata": {
    "jp-MarkdownHeadingCollapsed": true
   },
   "source": [
    "## Maximize Distance to Closest Person"
   ]
  },
  {
   "cell_type": "code",
   "execution_count": null,
   "metadata": {},
   "outputs": [],
   "source": [
    "seats = [1,0,0,1,0,0,0,1,1,1,0,0,0,0,0,0,1,0,0,0,0,0]\n",
    "seats = [str(num) for num in seats]\n",
    "\n",
    "seats = \"\".join(seats).split(\"1\")\n",
    "max_len = 0\n",
    "for nums in seats:\n",
    "    if len(nums) > max_len:\n",
    "        max_len = len(nums)\n",
    "if len(seats[0]) > (max_len-1)//2 + 1 and len(seats[0]) > len(seats[-1]):\n",
    "    print(len(seats[0]))\n",
    "elif len(seats[-1]) > (max_len-1)//2 + 1:\n",
    "    print(len(seats[-1]))\n",
    "else:\n",
    "    print((max_len-1)//2 + 1)"
   ]
  },
  {
   "cell_type": "markdown",
   "metadata": {},
   "source": [
    "# ШАД"
   ]
  },
  {
   "cell_type": "markdown",
   "metadata": {
    "jp-MarkdownHeadingCollapsed": true
   },
   "source": [
    "## A"
   ]
  },
  {
   "cell_type": "code",
   "execution_count": null,
   "metadata": {},
   "outputs": [],
   "source": [
    "import mpmath as mp\n",
    "\n",
    "# Задаём достаточную точность (50 знаков после запятой)\n",
    "mp.mp.dps = 50\n",
    "\n",
    "n = 5\n",
    "# формула M_n = 1/(6^n * n!)\n",
    "M = mp.mpf(1) / (mp.power(6, n) * mp.factorial(n))\n",
    "\n",
    "print(\"Ожидаемое произведение площадей M_5 =\", M)\n",
    "print(\"Натуральный логарифм ln(M_5) =\", mp.log(M))\n"
   ]
  },
  {
   "cell_type": "code",
   "execution_count": null,
   "metadata": {},
   "outputs": [],
   "source": [
    "import math\n",
    "\n",
    "def calculate_log_expected_product(n_cuts):\n",
    "    \"\"\"\n",
    "    Calculates the natural logarithm of the expected product of areas\n",
    "    after n_cuts.\n",
    "    The expected product E_n = 1 / (6^n * n!).\n",
    "    So, ln(E_n) = -(n * ln(6) + ln(n!)).\n",
    "    \"\"\"\n",
    "    if n_cuts < 0:\n",
    "        raise ValueError(\"Number of cuts cannot be negative.\")\n",
    "    if n_cuts == 0:\n",
    "        # E_0 = 1, ln(E_0) = 0\n",
    "        return 0.0\n",
    "\n",
    "    log_6 = math.log(6)\n",
    "    \n",
    "    # math.lgamma(x) returns ln(Γ(x)). Since Γ(n+1) = n!, ln(n!) = math.lgamma(n+1).\n",
    "    log_n_factorial = math.lgamma(n_cuts + 1)\n",
    "    \n",
    "    log_E_n = -(n_cuts * log_6 + log_n_factorial)\n",
    "    \n",
    "    return log_E_n\n",
    "\n",
    "# Calculate for n = 5\n",
    "n_5 = 5\n",
    "log_E_5 = calculate_log_expected_product(n_5)\n",
    "\n",
    "log_E_5"
   ]
  },
  {
   "cell_type": "markdown",
   "metadata": {
    "jp-MarkdownHeadingCollapsed": true
   },
   "source": [
    "## B"
   ]
  },
  {
   "cell_type": "code",
   "execution_count": null,
   "metadata": {},
   "outputs": [],
   "source": [
    "import mpmath as mp\n",
    "\n",
    "mp.mp.dps = 50  # точность 50 знаков\n",
    "a = mp.mpf(2)/5\n",
    "x0 = mp.pi\n",
    "y = 3 * mp.log(x0)\n",
    "F_pi = 1 - mp.exp(-a * mp.power(y, mp.mpf(3)/2))\n",
    "\n",
    "print(\"F_κ(π) =\", F_pi)"
   ]
  },
  {
   "cell_type": "markdown",
   "metadata": {
    "jp-MarkdownHeadingCollapsed": true
   },
   "source": [
    "## C"
   ]
  },
  {
   "cell_type": "code",
   "execution_count": null,
   "metadata": {},
   "outputs": [],
   "source": [
    "import mpmath as mp\n",
    "\n",
    "mp.mp.dps = 50\n",
    "\n",
    "def tail_integral(alpha):\n",
    "    f = lambda t: t**(-alpha) * (mp.log(t))**(-alpha)\n",
    "    # интегрируем от 2 до бесконечности\n",
    "    return mp.quad(f, [2, mp.inf])\n",
    "\n",
    "for a in [0.9, 1.0, 1.1, 2.0]:\n",
    "    try:\n",
    "        val = tail_integral(a)\n",
    "    except Exception:\n",
    "        val = mp.inf\n",
    "    print(f\"alpha = {a}: integral = {val}\")\n"
   ]
  },
  {
   "cell_type": "markdown",
   "metadata": {},
   "source": [
    "## D"
   ]
  },
  {
   "cell_type": "code",
   "execution_count": null,
   "metadata": {},
   "outputs": [],
   "source": [
    "import math\n",
    "\n",
    "def v_p_in_factorial(n, p):\n",
    "    cnt = 0\n",
    "    while n:\n",
    "        n //= p\n",
    "        cnt += n\n",
    "    return cnt\n",
    "\n",
    "def vp_in_int(x, p):\n",
    "    cnt = 0\n",
    "    while x % p == 0:\n",
    "        x //= p\n",
    "        cnt += 1\n",
    "    return cnt\n",
    "\n",
    "def qualifies(p):\n",
    "    n = p + 2024\n",
    "    vp_fact = v_p_in_factorial(n, p)\n",
    "    vp_num  = vp_in_int(7*n*n + 17*n + 8, p)\n",
    "    vp_den  = 3 if p == 2 else 0   # в 8=2^3, только p=2\n",
    "    E = 2*vp_fact + vp_num - vp_den\n",
    "    return E >= 3\n",
    "\n",
    "# ищем все простые до 5000\n",
    "def is_prime(x):\n",
    "    if x < 2: return False\n",
    "    if x % 2 == 0: return x == 2\n",
    "    r = int(math.isqrt(x))\n",
    "    for i in range(3, r+1, 2):\n",
    "        if x % i == 0:\n",
    "            return False\n",
    "    return True\n",
    "\n",
    "best = None\n",
    "for p in range(2, 5000):\n",
    "    if is_prime(p) and qualifies(p):\n",
    "        best = p\n",
    "\n",
    "print(\"Наибольшее простое p:\", best)  # ожидаем 2017"
   ]
  },
  {
   "cell_type": "markdown",
   "metadata": {},
   "source": [
    "## E"
   ]
  },
  {
   "cell_type": "code",
   "execution_count": null,
   "metadata": {},
   "outputs": [],
   "source": []
  },
  {
   "cell_type": "markdown",
   "metadata": {
    "jp-MarkdownHeadingCollapsed": true
   },
   "source": [
    "## F"
   ]
  },
  {
   "cell_type": "code",
   "execution_count": null,
   "metadata": {},
   "outputs": [],
   "source": [
    "Friends1 = [1,2,3]\n",
    "Friends2 = [4,5,6]\n",
    "friends_all = []\n",
    "\n",
    "for i1 in range(1,7):\n",
    "    for i2 in range(1,7):\n",
    "        for i3 in range(1,7):\n",
    "            for i4 in range(1,7):\n",
    "                for i5 in range(1,7):\n",
    "                    for i6 in range(1,7):\n",
    "                        if not ((i1 in Friends1 and i2 in Friends1) or (i1 in Friends2 and i2 in Friends2)):\n",
    "                            if not ((i3 in Friends1 and i4 in Friends1) or (i3 in Friends2 and i4 in Friends2)):\n",
    "                                if not ((i5 in Friends1 and i6 in Friends1) or (i5 in Friends2 and i6 in Friends2)):\n",
    "                                    if i1 != i2 and i1 != i3 and i1 != i4 and i1 != i5 and i1 != i6 and i2 != i3 and i2 != i4 and i2 != i5 and i2 != i6 and i3 != i4 and i3 != i5 and i3 != i6 and i4 != i5 and i4 != i6 and i5 != i6:\n",
    "                                        friends_all.append([i1,i2,i3,i4,i5,i6])\n",
    "\n",
    "len(friends_all)"
   ]
  },
  {
   "cell_type": "code",
   "execution_count": null,
   "metadata": {},
   "outputs": [],
   "source": [
    "import itertools\n",
    "\n",
    "Friends = [\n",
    "    {1,2,3,4},\n",
    "    {5,6,7,8},\n",
    "    {9,10,11,12},\n",
    "]\n",
    "\n",
    "count = 0\n",
    "# все перестановки 12 человек на 12 мест\n",
    "for perm in itertools.permutations(range(1,13), 12):\n",
    "    bad = False\n",
    "    # шесть парт: индексы (0,1), (2,3), …, (10,11)\n",
    "    for a,b in [(0,1),(2,3),(4,5),(6,7),(8,9),(10,11)]:\n",
    "        # если оба сидящих принадлежат одной из групп —\n",
    "        if any(perm[a] in G and perm[b] in G for G in Friends):\n",
    "            bad = True\n",
    "            break\n",
    "    if not bad:\n",
    "        count += 1\n",
    "\n",
    "print(count)\n"
   ]
  },
  {
   "cell_type": "code",
   "execution_count": null,
   "metadata": {},
   "outputs": [],
   "source": [
    "import math\n",
    "\n",
    "def T(N: int) -> int:\n",
    "    total = 0\n",
    "    for j in range(0, 3*N + 1):\n",
    "        total += ((-1)**j\n",
    "                  * math.comb(3*N, j)**2\n",
    "                  * math.factorial(j)\n",
    "                  * 2**j\n",
    "                  * math.factorial(6*N - 2*j))\n",
    "    return total\n",
    "\n",
    "for N in (1, 3):\n",
    "    print(f\"N={N} → T(N) = {T(N):,}\")\n"
   ]
  },
  {
   "cell_type": "code",
   "execution_count": null,
   "metadata": {},
   "outputs": [],
   "source": [
    "import math\n",
    "\n",
    "S = [0]*7 # S[k] will store the sum for k pairs of friends\n",
    "\n",
    "# S[0] is the total number of arrangements without restrictions\n",
    "S[0] = math.factorial(18)\n",
    "\n",
    "# S_k = C(6,k) * 3^k * P(9,k) * 2^k * (18-2k)!\n",
    "# where C(n,r) is combinations, P(n,r) is permutations.\n",
    "# P(n,r) = n! / (n-r)!\n",
    "\n",
    "# k=1\n",
    "S[1] = math.comb(6,1) * (3**1) * (math.factorial(9)//math.factorial(9-1)) * (2**1) * math.factorial(18-2)\n",
    "# k=2\n",
    "S[2] = math.comb(6,2) * (3**2) * (math.factorial(9)//math.factorial(9-2)) * (2**2) * math.factorial(18-4)\n",
    "# k=3\n",
    "S[3] = math.comb(6,3) * (3**3) * (math.factorial(9)//math.factorial(9-3)) * (2**3) * math.factorial(18-6)\n",
    "# k=4\n",
    "S[4] = math.comb(6,4) * (3**4) * (math.factorial(9)//math.factorial(9-4)) * (2**4) * math.factorial(18-8)\n",
    "# k=5\n",
    "S[5] = math.comb(6,5) * (3**5) * (math.factorial(9)//math.factorial(9-5)) * (2**5) * math.factorial(18-10)\n",
    "# k=6\n",
    "S[6] = math.comb(6,6) * (3**6) * (math.factorial(9)//math.factorial(9-6)) * (2**6) * math.factorial(18-12)\n",
    "\n",
    "ans = S[0] - S[1] + S[2] - S[3] + S[4] - S[5] + S[6]\n",
    "\n",
    "ans"
   ]
  },
  {
   "cell_type": "markdown",
   "metadata": {
    "jp-MarkdownHeadingCollapsed": true
   },
   "source": [
    "## G"
   ]
  },
  {
   "cell_type": "code",
   "execution_count": null,
   "metadata": {},
   "outputs": [],
   "source": [
    "A = input().strip()\n",
    "n = len(A)\n",
    "\n",
    "S0 = sum(int(d) for d in A)\n",
    "print(S0)\n",
    "\n",
    "s = str(S0)\n",
    "a = [int(d) for d in reversed(s)]\n",
    "m = len(a)\n",
    "print(s,a,m)\n",
    "\n",
    "carry = 0\n",
    "digit_sum = 0\n",
    "L = n + m - 1\n",
    "\n",
    "for k in range(L):\n",
    "    lo = max(0, k - (n - 1))\n",
    "    hi = min(m - 1, k)\n",
    "    Bk = sum(a[lo:hi+1])\n",
    "    total = Bk + carry\n",
    "    digit_sum += total % 10\n",
    "    carry = total // 10\n",
    "\n",
    "while carry:\n",
    "    digit_sum += carry % 10\n",
    "    carry //= 10\n",
    "\n",
    "print(digit_sum)"
   ]
  },
  {
   "cell_type": "markdown",
   "metadata": {},
   "source": [
    "## H"
   ]
  },
  {
   "cell_type": "code",
   "execution_count": null,
   "metadata": {},
   "outputs": [],
   "source": [
    "Q, L = map(int, input().split())\n",
    "\n",
    "N = L + 2\n",
    "cnt = [0]*N   \n",
    "sm  = [0]*N  \n",
    "\n",
    "k = 0\n",
    "total = 0\n",
    "sumdist = 0.0\n",
    "\n",
    "def bit_add(bit, i, v):\n",
    "    while i < N:\n",
    "        bit[i] += v\n",
    "        i += i & -i\n",
    "\n",
    "def bit_sum(bit, i):\n",
    "    s = 0\n",
    "    while i > 0:\n",
    "        s += bit[i]\n",
    "        i -= i & -i\n",
    "    return s\n",
    "\n",
    "def add_point(x):\n",
    "    global k, total, sumdist\n",
    "    i = x + 1\n",
    "    cL = bit_sum(cnt, i-1)\n",
    "    sL = bit_sum(sm,  i-1)\n",
    "    cG = k - cL\n",
    "    sG = total - sL\n",
    "    sumdist += cL*x - sL + sG - cG*x\n",
    "    bit_add(cnt, i, 1)\n",
    "    bit_add(sm,  i, x)\n",
    "    k += 1\n",
    "    total += x\n",
    "\n",
    "def remove_point(x):\n",
    "    global k, total, sumdist\n",
    "    i = x + 1\n",
    "    cL = bit_sum(cnt, i-1)\n",
    "    sL = bit_sum(sm,  i-1)\n",
    "    cG = k - cL - 1\n",
    "    sG = total - sL - x\n",
    "    sumdist -= cL*x - sL + sG - cG*x\n",
    "    bit_add(cnt, i, -1)\n",
    "    bit_add(sm,  i, -x)\n",
    "    k -= 1\n",
    "    total -= x\n",
    "\n",
    "add_point(0)\n",
    "add_point(L)\n",
    "\n",
    "for _ in range(Q):\n",
    "    t, *rest = map(int, input().split())\n",
    "    if t == 1:\n",
    "        add_point(rest[0])\n",
    "    elif t == 2:\n",
    "        remove_point(rest[0])\n",
    "    else:\n",
    "        if k < 2:\n",
    "            print(\"0.000000\")\n",
    "        else:\n",
    "            ans = 2*sumdist / (k*(k-1))\n",
    "            print(f\"{ans:.6f}\")"
   ]
  },
  {
   "cell_type": "markdown",
   "metadata": {},
   "source": [
    "## Тестовое"
   ]
  },
  {
   "cell_type": "code",
   "execution_count": null,
   "metadata": {},
   "outputs": [],
   "source": [
    "# Чтения оригинального файла\n",
    "def read_input(filename):\n",
    "    with open(filename, 'r') as f:\n",
    "        lines = [line.strip() for line in f if line.strip() != '']\n",
    "    nv, ne = int(lines[0].split()[0]), int(lines[0].split()[1])\n",
    "    edge_list = []\n",
    "    for i in range(ne):\n",
    "        edge_values = lines[i+1].split()\n",
    "        edge_list.append(tuple([int(edge_values[0]), int(edge_values[1])]))\n",
    "    rules = lines[1+ne:]\n",
    "    return nv, ne, edge_list, rules\n",
    "\n",
    "# Распределение данных по структурам\n",
    "def build_graph(nv, ne, edge_list):\n",
    "    vertices = {i+1: {\"input_edges\": [], \"value\": None} for i in range(nv)}\n",
    "    edges = {}\n",
    "    for idx, (u, v) in enumerate(edge_list):\n",
    "        edge_id = idx + 1\n",
    "        edges[edge_id] = {\"start_v\": u, \"end_v\": v, \"value\": None}\n",
    "        vertices[v][\"input_edges\"].append(edge_id)\n",
    "    return vertices, edges\n",
    "\n",
    "# Определяем значения атрибутов согласно правилам \n",
    "def evaluate_rules(vertices, edges, rules, max_passes=200):\n",
    "    nv = len(vertices)\n",
    "    ne = len(edges)\n",
    "    vertex_rules = rules[:nv]\n",
    "    edge_rules = rules[nv:]\n",
    "\n",
    "    # геттеры атрибутов \n",
    "    def get_vertex_attr(v):\n",
    "        return vertices[v][\"value\"]\n",
    "\n",
    "    def get_edge_attr(e):\n",
    "        return edges[e][\"value\"]\n",
    "\n",
    "    # Помечаем, значение каких узлов и вершин нужно найти, динамически обновляем каждый цикл\n",
    "    pending_vertices = list(range(1, nv+1))\n",
    "    pending_edges = list(range(1, ne+1))\n",
    "\n",
    "    for _ in range(max_passes):\n",
    "        # Вершины\n",
    "        for idx in list(pending_vertices):\n",
    "            rule = vertex_rules[idx-1]\n",
    "            result = None\n",
    "\n",
    "            if rule == \"min\":\n",
    "                atrs = [get_edge_attr(e) for e in vertices[idx][\"input_edges\"]]\n",
    "                if None not in atrs and atrs:\n",
    "                    result = min(atrs)\n",
    "            elif rule[0] == \"v\":\n",
    "                ref = int(rule.split()[1])\n",
    "                val = get_vertex_attr(ref)\n",
    "                if val is not None:\n",
    "                    result = val\n",
    "            elif rule[0] == \"e\":\n",
    "                ref = int(rule.split()[1])\n",
    "                val = get_edge_attr(ref)\n",
    "                if val is not None:\n",
    "                    result = val\n",
    "            else:\n",
    "                result = float(rule)\n",
    "\n",
    "            if result is not None:\n",
    "                if vertices[idx][\"value\"] != result:\n",
    "                    vertices[idx][\"value\"] = result\n",
    "                    full_vertices = True\n",
    "                del pending_vertices[pending_vertices.index(idx)]\n",
    "\n",
    "        # Рёбра\n",
    "        for idx in list(pending_edges):\n",
    "            rule = edge_rules[idx-1]\n",
    "            result = None\n",
    "            u = edges[idx][\"start_v\"]\n",
    "            if rule == \"*\":\n",
    "                u_val = get_vertex_attr(u)\n",
    "                edge_vals = [get_edge_attr(e) for e in vertices[u][\"input_edges\"]]\n",
    "                if u_val is not None and None not in edge_vals:\n",
    "                    result = u_val\n",
    "                    for val in edge_vals:\n",
    "                        result *= val\n",
    "            elif rule[0] == \"v\":\n",
    "                ref = int(rule.split()[1])\n",
    "                val = get_vertex_attr(ref)\n",
    "                if val is not None:\n",
    "                    result = val\n",
    "            elif rule[0] == \"e\":\n",
    "                ref = int(rule.split()[1])\n",
    "                val = get_edge_attr(ref)\n",
    "                if val is not None:\n",
    "                    result = val\n",
    "            else:\n",
    "                result = float(rule)\n",
    "\n",
    "            if result is not None:\n",
    "                if edges[idx][\"value\"] != result:\n",
    "                    edges[idx][\"value\"] = result\n",
    "                del pending_edges[pending_edges.index(idx)]\n",
    "\n",
    "        if len(pending_vertices) == 0 and len(pending_edges) == 0:\n",
    "            break  # Найдены все значения атрибутов\n",
    "\n",
    "def write_output(vertices, edges, filename):\n",
    "    with open(filename, 'w') as f:\n",
    "        for i in range(1, len(vertices)+1):\n",
    "            f.write(f\"{vertices[i]['value']}\\n\")\n",
    "        for i in range(1, len(edges)+1):\n",
    "            f.write(f\"{edges[i]['value']}\\n\")\n",
    "\n",
    "input_file = input()\n",
    "output_file = input()\n",
    "nv, ne, edge_list, rules = read_input(input_file)\n",
    "vertices, edges = build_graph(nv, ne, edge_list)\n",
    "evaluate_rules(vertices, edges, rules)\n",
    "write_output(vertices, edges, output_file)"
   ]
  },
  {
   "cell_type": "code",
   "execution_count": null,
   "metadata": {},
   "outputs": [],
   "source": [
    "#input_file = input()\n",
    "#output_file = input()\n",
    "input_file = \"input.txt\"\n",
    "output_file = \"output.txt\"\n",
    "\n",
    "nv, ne, edge_list, rules = read_input(input_file)\n",
    "vertices, edges = build_graph(nv, ne, edge_list)\n",
    "evaluate_rules(vertices, edges, rules)\n",
    "write_output(vertices, edges, output_file)"
   ]
  },
  {
   "cell_type": "code",
   "execution_count": null,
   "metadata": {},
   "outputs": [],
   "source": [
    "vertices"
   ]
  },
  {
   "cell_type": "code",
   "execution_count": null,
   "metadata": {},
   "outputs": [],
   "source": [
    "edges"
   ]
  },
  {
   "cell_type": "code",
   "execution_count": null,
   "metadata": {},
   "outputs": [],
   "source": []
  }
 ],
 "metadata": {
  "colab": {
   "provenance": []
  },
  "kernelspec": {
   "display_name": "Python 3 (ipykernel)",
   "language": "python",
   "name": "python3"
  },
  "language_info": {
   "codemirror_mode": {
    "name": "ipython",
    "version": 3
   },
   "file_extension": ".py",
   "mimetype": "text/x-python",
   "name": "python",
   "nbconvert_exporter": "python",
   "pygments_lexer": "ipython3",
   "version": "3.12.2"
  }
 },
 "nbformat": 4,
 "nbformat_minor": 4
}
