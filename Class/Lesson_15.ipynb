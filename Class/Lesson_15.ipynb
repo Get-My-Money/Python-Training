{
 "cells": [
  {
   "cell_type": "markdown",
   "metadata": {},
   "source": [
    "# Урок 15"
   ]
  },
  {
   "cell_type": "code",
   "execution_count": 1,
   "metadata": {},
   "outputs": [],
   "source": [
    "import numpy as np\n",
    "import random\n",
    "import matplotlib.pyplot as plt"
   ]
  },
  {
   "cell_type": "markdown",
   "metadata": {},
   "source": [
    "## Задача A ―  «Анализ логов»"
   ]
  },
  {
   "cell_type": "markdown",
   "metadata": {},
   "source": [
    "В файле access_log.txt строки вида:\n",
    "\n",
    "    192.168.0.1 - OK\n",
    "    \n",
    "    192.168.0.2 - FAIL\n",
    "    \n",
    "    ...\n",
    "\n",
    "Сделайте:\n",
    "\n",
    "    Подсчёт строк OK и FAIL\n",
    "    \n",
    "    Построй график bar (OK vs FAIL) через matplotlib"
   ]
  },
  {
   "cell_type": "code",
   "execution_count": 12,
   "metadata": {},
   "outputs": [
    {
     "data": {
      "text/plain": [
       "<BarContainer object of 2 artists>"
      ]
     },
     "execution_count": 12,
     "metadata": {},
     "output_type": "execute_result"
    },
    {
     "data": {
      "image/png": "[encoded data removed]",
      "text/plain": [
       "<Figure size 640x480 with 1 Axes>"
      ]
     },
     "metadata": {},
     "output_type": "display_data"
    }
   ],
   "source": [
    "file_base = \"B:/Python projects/Python-Training/Files/access_log.txt\"\n",
    "OK_counter = 0\n",
    "FAIL_counter = 0\n",
    "with open(file_base, 'r') as file:\n",
    "    for line in file:\n",
    "        try:\n",
    "            line.index('OK')\n",
    "            OK_counter += 1\n",
    "        except:\n",
    "            FAIL_counter += 1\n",
    "plt.bar(['OK', 'FAIL'], [OK_counter, FAIL_counter])"
   ]
  },
  {
   "cell_type": "markdown",
   "metadata": {},
   "source": [
    "### Решение"
   ]
  },
  {
   "cell_type": "code",
   "execution_count": 8,
   "metadata": {},
   "outputs": [
    {
     "data": {
      "text/plain": [
       "<BarContainer object of 2 artists>"
      ]
     },
     "execution_count": 8,
     "metadata": {},
     "output_type": "execute_result"
    },
    {
     "data": {
      "image/png": "[encoded data removed]",
      "text/plain": [
       "<Figure size 640x480 with 1 Axes>"
      ]
     },
     "metadata": {},
     "output_type": "display_data"
    }
   ],
   "source": [
    "file_path = \"B:/Python projects/Python-Training/Files/access_log.txt\"\n",
    "\n",
    "with open(file_path, 'r', encoding='utf-8') as f:\n",
    "    need_str = f.readlines()\n",
    "\n",
    "OK_counter = 0\n",
    "FAIL_counter = 0\n",
    "\n",
    "for sent in need_str:\n",
    "    if \"OK\" in sent:\n",
    "        OK_counter += 1\n",
    "    else:\n",
    "        FAIL_counter += 1\n",
    "\n",
    "plt.bar(['OK', 'FAIL'], [OK_counter, FAIL_counter])"
   ]
  },
  {
   "cell_type": "markdown",
   "metadata": {},
   "source": [
    "## Задача B ―  «Генератор медицинских данных»"
   ]
  },
  {
   "cell_type": "markdown",
   "metadata": {},
   "source": [
    "Напиши программу, которая:\n",
    "\n",
    "    Генерирует 100 пациентов, каждый с:\n",
    "    \n",
    "        id: от 1 до 100\n",
    "    \n",
    "        возраст: от 20 до 80\n",
    "    \n",
    "        давление: систолическое от 90 до 180, диастолическое от 60 до 120\n",
    "    \n",
    "В итоге эти данные должны быть сохранены в файле patients.txt, каждый новый пациент в новой строке.\n",
    "\n",
    "Пример файла:\n",
    "\n",
    "    id,age,sys,dia\n",
    "    \n",
    "    1,52,130,98\n",
    "    \n",
    "    2,36,175,93\n",
    "\n",
    "    ...\n",
    "\n",
    "    99,44,98,117\n",
    "    \n",
    "    100,70,116,64"
   ]
  },
  {
   "cell_type": "code",
   "execution_count": 23,
   "metadata": {},
   "outputs": [],
   "source": [
    "file_name = \"B:/Python projects/Python-Training/Files/patients.txt\"\n",
    "with open(file_name, 'w') as file:\n",
    "    file.write(\"id,age,sys,dia\\n\")\n",
    "    for i in range(1,101):\n",
    "        age=(random.randint(20, 80))\n",
    "        sys=(random.randint(90, 180))\n",
    "        dia=(random.randint(60, 120))\n",
    "        info=str(i) + \",\" + str(age) + \",\" + str(sys) + \",\" + str(dia) +  \"\\n\"\n",
    "        file.write(info)\n",
    "    "
   ]
  },
  {
   "cell_type": "markdown",
   "metadata": {},
   "source": [
    "### Решение"
   ]
  },
  {
   "cell_type": "code",
   "execution_count": 10,
   "metadata": {},
   "outputs": [],
   "source": [
    "file_path = \"B:/Python projects/Python-Training/Files/patients.txt\"\n",
    "\n",
    "# Генерация данных\n",
    "with open(file_path, \"w\") as f:\n",
    "    f.write(\"id,age,sys,dia\\n\")\n",
    "    for i in range(1, 101):\n",
    "        age = random.randint(20, 80)\n",
    "        sys = random.randint(90, 180)\n",
    "        dia = random.randint(60, 120)\n",
    "        f.write(f\"{i},{age},{sys},{dia}\\n\")"
   ]
  },
  {
   "cell_type": "markdown",
   "metadata": {},
   "source": [
    "## Задача C ― «Анализ давления на основе данных»"
   ]
  },
  {
   "cell_type": "markdown",
   "metadata": {},
   "source": [
    "Прочитайте файл patients.txt и построй словарь где ключ это id пациента, а значение - словарь из остальных данных, пример - {1:{'age': 52, 'sys': 130, 'dia': 98}, 2:{'age': 36, 'sys': 175, 'dia': 93}, ...}.\n",
    "\n",
    "Найдите и выведите:\n",
    "\n",
    "    Среднее давление (систолическое и диастолическое)\n",
    "    \n",
    "    Самого гипертоничного пациента (макс sys)\n",
    "    \n",
    "    Количество пациентов с dia > 90"
   ]
  },
  {
   "cell_type": "code",
   "execution_count": 34,
   "metadata": {},
   "outputs": [
    {
     "data": {
      "text/plain": [
       "{1: {'age': 25, 'sys': 140, 'dia': 61},\n",
       " 2: {'age': 58, 'sys': 96, 'dia': 70},\n",
       " 3: {'age': 80, 'sys': 132, 'dia': 66},\n",
       " 4: {'age': 25, 'sys': 165, 'dia': 63},\n",
       " 5: {'age': 39, 'sys': 141, 'dia': 105},\n",
       " 6: {'age': 28, 'sys': 92, 'dia': 84},\n",
       " 7: {'age': 76, 'sys': 176, 'dia': 66},\n",
       " 8: {'age': 79, 'sys': 120, 'dia': 87},\n",
       " 9: {'age': 41, 'sys': 117, 'dia': 68},\n",
       " 10: {'age': 30, 'sys': 144, 'dia': 73},\n",
       " 11: {'age': 58, 'sys': 168, 'dia': 88},\n",
       " 12: {'age': 26, 'sys': 124, 'dia': 90},\n",
       " 13: {'age': 26, 'sys': 101, 'dia': 111},\n",
       " 14: {'age': 25, 'sys': 152, 'dia': 103},\n",
       " 15: {'age': 37, 'sys': 161, 'dia': 77},\n",
       " 16: {'age': 56, 'sys': 111, 'dia': 75},\n",
       " 17: {'age': 69, 'sys': 118, 'dia': 114},\n",
       " 18: {'age': 33, 'sys': 100, 'dia': 85},\n",
       " 19: {'age': 67, 'sys': 109, 'dia': 81},\n",
       " 20: {'age': 34, 'sys': 99, 'dia': 73},\n",
       " 21: {'age': 61, 'sys': 139, 'dia': 68},\n",
       " 22: {'age': 32, 'sys': 142, 'dia': 108},\n",
       " 23: {'age': 52, 'sys': 170, 'dia': 66},\n",
       " 24: {'age': 61, 'sys': 132, 'dia': 84},\n",
       " 25: {'age': 56, 'sys': 133, 'dia': 102},\n",
       " 26: {'age': 36, 'sys': 134, 'dia': 73},\n",
       " 27: {'age': 50, 'sys': 94, 'dia': 64},\n",
       " 28: {'age': 43, 'sys': 91, 'dia': 71},\n",
       " 29: {'age': 57, 'sys': 147, 'dia': 100},\n",
       " 30: {'age': 55, 'sys': 138, 'dia': 89},\n",
       " 31: {'age': 56, 'sys': 176, 'dia': 116},\n",
       " 32: {'age': 70, 'sys': 121, 'dia': 104},\n",
       " 33: {'age': 65, 'sys': 114, 'dia': 68},\n",
       " 34: {'age': 60, 'sys': 112, 'dia': 120},\n",
       " 35: {'age': 70, 'sys': 123, 'dia': 117},\n",
       " 36: {'age': 39, 'sys': 144, 'dia': 89},\n",
       " 37: {'age': 54, 'sys': 164, 'dia': 85},\n",
       " 38: {'age': 42, 'sys': 153, 'dia': 110},\n",
       " 39: {'age': 52, 'sys': 126, 'dia': 109},\n",
       " 40: {'age': 39, 'sys': 92, 'dia': 61},\n",
       " 41: {'age': 23, 'sys': 103, 'dia': 110},\n",
       " 42: {'age': 42, 'sys': 134, 'dia': 110},\n",
       " 43: {'age': 71, 'sys': 170, 'dia': 89},\n",
       " 44: {'age': 77, 'sys': 132, 'dia': 81},\n",
       " 45: {'age': 25, 'sys': 113, 'dia': 60},\n",
       " 46: {'age': 63, 'sys': 147, 'dia': 112},\n",
       " 47: {'age': 60, 'sys': 144, 'dia': 71},\n",
       " 48: {'age': 64, 'sys': 138, 'dia': 116},\n",
       " 49: {'age': 44, 'sys': 133, 'dia': 119},\n",
       " 50: {'age': 48, 'sys': 144, 'dia': 86},\n",
       " 51: {'age': 31, 'sys': 108, 'dia': 70},\n",
       " 52: {'age': 78, 'sys': 144, 'dia': 117},\n",
       " 53: {'age': 30, 'sys': 177, 'dia': 115},\n",
       " 54: {'age': 39, 'sys': 177, 'dia': 89},\n",
       " 55: {'age': 48, 'sys': 172, 'dia': 74},\n",
       " 56: {'age': 63, 'sys': 107, 'dia': 114},\n",
       " 57: {'age': 23, 'sys': 102, 'dia': 73},\n",
       " 58: {'age': 67, 'sys': 152, 'dia': 62},\n",
       " 59: {'age': 36, 'sys': 150, 'dia': 74},\n",
       " 60: {'age': 25, 'sys': 137, 'dia': 115},\n",
       " 61: {'age': 64, 'sys': 168, 'dia': 103},\n",
       " 62: {'age': 54, 'sys': 151, 'dia': 89},\n",
       " 63: {'age': 36, 'sys': 116, 'dia': 60},\n",
       " 64: {'age': 34, 'sys': 145, 'dia': 61},\n",
       " 65: {'age': 65, 'sys': 100, 'dia': 79},\n",
       " 66: {'age': 45, 'sys': 110, 'dia': 87},\n",
       " 67: {'age': 27, 'sys': 149, 'dia': 97},\n",
       " 68: {'age': 42, 'sys': 141, 'dia': 96},\n",
       " 69: {'age': 22, 'sys': 98, 'dia': 111},\n",
       " 70: {'age': 72, 'sys': 170, 'dia': 108},\n",
       " 71: {'age': 61, 'sys': 138, 'dia': 76},\n",
       " 72: {'age': 79, 'sys': 148, 'dia': 91},\n",
       " 73: {'age': 52, 'sys': 158, 'dia': 77},\n",
       " 74: {'age': 79, 'sys': 148, 'dia': 65},\n",
       " 75: {'age': 65, 'sys': 145, 'dia': 83},\n",
       " 76: {'age': 22, 'sys': 104, 'dia': 116},\n",
       " 77: {'age': 32, 'sys': 141, 'dia': 78},\n",
       " 78: {'age': 47, 'sys': 152, 'dia': 81},\n",
       " 79: {'age': 24, 'sys': 109, 'dia': 99},\n",
       " 80: {'age': 61, 'sys': 94, 'dia': 112},\n",
       " 81: {'age': 80, 'sys': 180, 'dia': 104},\n",
       " 82: {'age': 75, 'sys': 174, 'dia': 104},\n",
       " 83: {'age': 58, 'sys': 97, 'dia': 115},\n",
       " 84: {'age': 55, 'sys': 111, 'dia': 79},\n",
       " 85: {'age': 61, 'sys': 177, 'dia': 76},\n",
       " 86: {'age': 53, 'sys': 142, 'dia': 89},\n",
       " 87: {'age': 57, 'sys': 127, 'dia': 96},\n",
       " 88: {'age': 28, 'sys': 162, 'dia': 94},\n",
       " 89: {'age': 25, 'sys': 104, 'dia': 107},\n",
       " 90: {'age': 21, 'sys': 149, 'dia': 111},\n",
       " 91: {'age': 30, 'sys': 107, 'dia': 72},\n",
       " 92: {'age': 32, 'sys': 108, 'dia': 67},\n",
       " 93: {'age': 35, 'sys': 165, 'dia': 103},\n",
       " 94: {'age': 42, 'sys': 131, 'dia': 86},\n",
       " 95: {'age': 49, 'sys': 133, 'dia': 72},\n",
       " 96: {'age': 42, 'sys': 166, 'dia': 117},\n",
       " 97: {'age': 56, 'sys': 173, 'dia': 64},\n",
       " 98: {'age': 23, 'sys': 112, 'dia': 115},\n",
       " 99: {'age': 42, 'sys': 147, 'dia': 96},\n",
       " 100: {'age': 26, 'sys': 110, 'dia': 94}}"
      ]
     },
     "execution_count": 34,
     "metadata": {},
     "output_type": "execute_result"
    }
   ],
   "source": [
    "file_name = \"B:/Python projects/Python-Training/Files/patients.txt\"\n",
    "data_baze = {}\n",
    "with open(file_name, 'r') as file:\n",
    "    for line in file:\n",
    "        info = line.strip().split(\",\")\n",
    "        id = info[0]\n",
    "        age = info[1]\n",
    "        sys = info[2]\n",
    "        dia = info[3]\n",
    "        if age != \"age\":\n",
    "            data_baze_id = {\"age\": int(age), \"sys\": int(sys), \"dia\": int(dia)}\n",
    "            data_baze[int(id)] = data_baze_id\n",
    "data_baze"
   ]
  }
 ],
 "metadata": {
  "colab": {
   "provenance": []
  },
  "kernelspec": {
   "display_name": "Python 3 (ipykernel)",
   "language": "python",
   "name": "python3"
  },
  "language_info": {
   "codemirror_mode": {
    "name": "ipython",
    "version": 3
   },
   "file_extension": ".py",
   "mimetype": "text/x-python",
   "name": "python",
   "nbconvert_exporter": "python",
   "pygments_lexer": "ipython3",
   "version": "3.12.2"
  }
 },
 "nbformat": 4,
 "nbformat_minor": 4
}
