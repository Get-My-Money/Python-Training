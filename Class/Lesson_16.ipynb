{
 "cells": [
  {
   "cell_type": "markdown",
   "metadata": {},
   "source": [
    "# Урок 16"
   ]
  },
  {
   "cell_type": "markdown",
   "metadata": {},
   "source": [
    "## Задача T1 ― «Временные отметки логов»"
   ]
  },
  {
   "cell_type": "markdown",
   "metadata": {},
   "source": [
    "Файл log.txt содержит строки вида:\n",
    "\n",
    "    1:03 - OK  \n",
    "    \n",
    "    1:05 - FAIL  \n",
    "    \n",
    "    1:07 - OK  \n",
    "    \n",
    "    ...\n",
    "\n",
    "Задание:\n",
    "\n",
    "    Прочитайте файл и составьте список или словарь всех отметок времени для ошибок (FAIL).\n",
    "     \n",
    "    Создайте файл fails.txt в котором будут записаны часы и кол-во ошибок за этот час в формате:\n",
    "\n",
    "        hour error_counter\n",
    "\n",
    "        1:00-1:59 5\n",
    "        \n",
    "        2:00-2:59 4\n",
    "        \n",
    "        3:00-3:59 5\n",
    "        \n",
    "        ..."
   ]
  },
  {
   "cell_type": "code",
   "execution_count": 12,
   "metadata": {},
   "outputs": [],
   "source": [
    "file_base_1 = \"B:/Python projects/Python-Training/Files/l_16/log.txt\"\n",
    "file_base_2 = \"B:/Python projects/Python-Training/Files/l_16/fails.txt\"\n",
    "\n",
    "fail_time = []\n",
    "fail_time_counts = {}\n",
    "\n",
    "OK_counter = 0\n",
    "FAIL_counter = 0\n",
    "with open(file_base_1, 'r') as file:\n",
    "    for line in file:\n",
    "        if \"FAIL\" in line:\n",
    "            fail_time.append(line.split()[0])\n",
    "            time = fail_time[-1].split(\":\")[0] + \":00-\" + fail_time[-1].split(\":\")[0] + \":59\"\n",
    "            try:\n",
    "                fail_time_counts[time] += 1\n",
    "            except:\n",
    "                fail_time_counts[time] = 1\n",
    "\n",
    "with open(file_base_2, 'w') as file:\n",
    "    for info in list(fail_time_counts.items()):\n",
    "         file.write(info[0] + \" \" + str(info[1])) "
   ]
  },
  {
   "cell_type": "markdown",
   "metadata": {
    "jp-MarkdownHeadingCollapsed": true
   },
   "source": [
    "### Решение"
   ]
  },
  {
   "cell_type": "code",
   "execution_count": 11,
   "metadata": {},
   "outputs": [],
   "source": [
    "file_path = \"B:/Python projects/Python-Training/Files/L_16/log.txt\"\n",
    "\n",
    "logs_errors = {}\n",
    "\n",
    "with open(file_path, 'r') as file:\n",
    "    for line in file:\n",
    "        if \"FAIL\" in line:\n",
    "            time = line.split()[0].split(\":\")[0] + \":00-\" + line.split()[0].split(\":\")[0] + \":59\"\n",
    "            try:\n",
    "                logs_errors[time] += 1\n",
    "            except:\n",
    "                logs_errors[time] = 1\n",
    "\n",
    "data_fails = list(logs_errors.items())\n",
    "\n",
    "new_file_path = \"B:/Python projects/Python-Training/Files/L_16/fails.txt\"\n",
    "\n",
    "with open(new_file_path, 'w') as file:\n",
    "    file.write(\"hour error_counter\\n\")\n",
    "    for data in data_fails:\n",
    "        file.write(data[0] + \" \" + str(data[1]) + \"\\n\")   "
   ]
  },
  {
   "cell_type": "markdown",
   "metadata": {},
   "source": [
    "## Задача T2 ― «Покупки и сумма заказов»"
   ]
  },
  {
   "cell_type": "markdown",
   "metadata": {},
   "source": [
    "Файл orders.txt:\n",
    "\n",
    "    Аня: молоко,хлеб,сыр\n",
    "    \n",
    "    Борис: сыр,хлеб\n",
    "    \n",
    "    Вика: молоко,молоко,сыр\n",
    "    \n",
    "    ...\n",
    "\n",
    "Файл prices.txt:\n",
    "\n",
    "    молоко:60  \n",
    "    \n",
    "    хлеб:30  \n",
    "    \n",
    "    сыр:100\n",
    "\n",
    "    ...\n",
    "    \n",
    "Задание:\n",
    "\n",
    "    Составьте словарь цен {продукт: цена}\n",
    "    \n",
    "    Прочитайте файл заказов и создайте словарь {имя: список товаров}\n",
    "    \n",
    "    Посчитайте, сколько потратил каждый покупатель.\n",
    "    \n",
    "    Постройте bar-график, с именами людей и кол-вом денег которые они потратили на заказ."
   ]
  },
  {
   "cell_type": "code",
   "execution_count": 28,
   "metadata": {},
   "outputs": [
    {
     "data": {
      "text/plain": [
       "<BarContainer object of 8 artists>"
      ]
     },
     "execution_count": 28,
     "metadata": {},
     "output_type": "execute_result"
    },
    {
     "data": {
      "image/png": "[encoded data removed]",
      "text/plain": [
       "<Figure size 640x480 with 1 Axes>"
      ]
     },
     "metadata": {},
     "output_type": "display_data"
    }
   ],
   "source": [
    "import matplotlib.pyplot as plt\n",
    "\n",
    "file_path_1 = \"B:/Python projects/Python-Training/Files/l_16/prices.txt\"\n",
    "file_path_2 = \"B:/Python projects/Python-Training/Files/l_16/orders.txt\"\n",
    "prices = {}\n",
    "orders = {}\n",
    "sum_orders = {}\n",
    "\n",
    "with open(file_path_1, 'r', encoding='utf-8') as file:\n",
    "    for line in file:\n",
    "        prices[line.split(\":\")[0]] = int(line.split(\":\")[1][:-1])\n",
    "\n",
    "with open(file_path_2, 'r', encoding='utf-8') as file:\n",
    "    for line in file:\n",
    "        orders[line.split(\":\")[0]] = line.split(\":\")[1][:-1]\n",
    "        sum_orders[line.split(\":\")[0]] = 0\n",
    "        for thing in line.split(\":\")[1][1:-1].split(\",\"):\n",
    "            sum_orders[line.split(\":\")[0]] += prices[thing]\n",
    "\n",
    "plt.bar(list(sum_orders), list(sum_orders.values()))"
   ]
  },
  {
   "cell_type": "markdown",
   "metadata": {},
   "source": [
    "### Решение"
   ]
  },
  {
   "cell_type": "code",
   "execution_count": 2,
   "metadata": {},
   "outputs": [
    {
     "data": {
      "text/plain": [
       "<BarContainer object of 8 artists>"
      ]
     },
     "execution_count": 2,
     "metadata": {},
     "output_type": "execute_result"
    },
    {
     "data": {
      "image/png": "[encoded data removed]",
      "text/plain": [
       "<Figure size 640x480 with 1 Axes>"
      ]
     },
     "metadata": {},
     "output_type": "display_data"
    }
   ],
   "source": [
    "import matplotlib.pyplot as plt\n",
    "\n",
    "file_path1 = \"B:/Python projects/Python-Training/Files/L_16/orders.txt\"\n",
    "file_path2 = \"B:/Python projects/Python-Training/Files/L_16/prices.txt\"\n",
    "\n",
    "prices = {}\n",
    "orders = {}\n",
    "\n",
    "with open(file_path1, 'r', encoding='utf-8') as file:\n",
    "    for line in file:\n",
    "        orders[line.split(\":\")[0]] = line.split()[1]\n",
    "\n",
    "with open(file_path2, 'r', encoding='utf-8') as file:\n",
    "    for line in file:\n",
    "        prices[line.split(\":\")[0]] = line.split(\":\")[1][:-1]\n",
    "\n",
    "names = []\n",
    "costs = []\n",
    "\n",
    "for order in list(orders.items()):\n",
    "    cost = 0\n",
    "    for thing in order[1].split(\",\"):\n",
    "        cost += int(prices[thing])\n",
    "    names.append(order[0])\n",
    "    costs.append(cost)\n",
    "\n",
    "plt.bar(names, costs)"
   ]
  },
  {
   "cell_type": "markdown",
   "metadata": {},
   "source": [
    "### Решение"
   ]
  },
  {
   "cell_type": "markdown",
   "metadata": {
    "jp-MarkdownHeadingCollapsed": true
   },
   "source": [
    "## Задача S2 ― «Отбор уникальных значений»"
   ]
  },
  {
   "cell_type": "markdown",
   "metadata": {},
   "source": [
    "Файл orders.txt:\n",
    "\n",
    "    Аня: молоко,хлеб,сыр\n",
    "    \n",
    "    Борис: сыр,хлеб\n",
    "    \n",
    "    Вика: молоко,молоко,сыр\n",
    "    \n",
    "    ...\n",
    "    \n",
    "Файл prices.txt:\n",
    "\n",
    "    молоко:60  \n",
    "    \n",
    "    хлеб:30  \n",
    "    \n",
    "    сыр:100\n",
    "    \n",
    "    ...\n",
    "\n",
    "Задание:\n",
    "\n",
    "    Прочитай оба файла.\n",
    "    \n",
    "    Создай словарь, где ключ — название товара (например, \"молоко\", \"сыр\"), а значение — общее сумма на которую её купили другие участники.\n",
    "    \n",
    "    Выведи все товары и сумму потраченную на них.\n",
    "    \n",
    "    Найди товар с самых высоким объёмом продаж и выведите его."
   ]
  },
  {
   "cell_type": "code",
   "execution_count": 52,
   "metadata": {},
   "outputs": [
    {
     "name": "stdout",
     "output_type": "stream",
     "text": [
      "{'молоко': 360, 'хлеб': 120, 'сыр': 600, 'масло': 270, 'яйца': 120}\n"
     ]
    }
   ],
   "source": [
    "file_orders = \"B:/Python projects/Python-Training/Files/l_16/orders.txt\"\n",
    "file_prices = \"B:/Python projects/Python-Training/Files/l_16/prices.txt\"\n",
    "\n",
    "orders = {}\n",
    "prices = {}\n",
    "goods = {}\n",
    "\n",
    "with open(file_prices, 'r' , encoding='utf-8')  as file:\n",
    "    for line in file:\n",
    "        prices[line.split(\":\")[0]] = int(line.split(\":\")[1][:-1])\n",
    "        goods[line.split(\":\")[0]] = 0\n",
    "\n",
    "with open(file_orders, 'r' , encoding='utf-8')  as file:\n",
    "    for line in file:\n",
    "        orders[line.split(\":\")[0]] = line.split(\":\")[1][1:-1]\n",
    "\n",
    "orders_ls = (list(orders.values()))\n",
    "for line in orders_ls:\n",
    "    line_split = line.split(\",\")\n",
    "    for thing in line_split:\n",
    "        goods[thing] += prices[thing]\n",
    "print(goods)\n",
    "        "
   ]
  },
  {
   "cell_type": "markdown",
   "metadata": {
    "jp-MarkdownHeadingCollapsed": true
   },
   "source": [
    "### Решение"
   ]
  },
  {
   "cell_type": "code",
   "execution_count": 17,
   "metadata": {},
   "outputs": [
    {
     "name": "stdout",
     "output_type": "stream",
     "text": [
      "{'молоко': 360, 'хлеб': 120, 'сыр': 600, 'яйца': 120, 'масло': 270}\n",
      "сыр\n"
     ]
    }
   ],
   "source": [
    "import matplotlib.pyplot as plt\n",
    "\n",
    "file_path1 = \"B:/Python projects/Python-Training/Files/L_16/orders.txt\"\n",
    "file_path2 = \"B:/Python projects/Python-Training/Files/L_16/prices.txt\"\n",
    "\n",
    "prices = {}\n",
    "orders = {}\n",
    "\n",
    "with open(file_path1, 'r', encoding='utf-8') as file:\n",
    "    for line in file:\n",
    "        orders[line.split(\":\")[0]] = line.split()[1]\n",
    "\n",
    "with open(file_path2, 'r', encoding='utf-8') as file:\n",
    "    for line in file:\n",
    "        prices[line.split(\":\")[0]] = line.split(\":\")[1][:-1]\n",
    "\n",
    "thing_cost = {}\n",
    "\n",
    "for order in list(orders.items()):\n",
    "    for thing in order[1].split(\",\"):\n",
    "        try:\n",
    "            thing_cost[thing] += int(prices[thing])\n",
    "        except:\n",
    "            thing_cost[thing] = int(prices[thing])\n",
    "\n",
    "print(thing_cost)\n",
    "for thing in thing_cost:\n",
    "    if thing_cost[thing] == max(list(thing_cost.values())):\n",
    "        print(thing)"
   ]
  }
 ],
 "metadata": {
  "colab": {
   "provenance": []
  },
  "kernelspec": {
   "display_name": "Python 3 (ipykernel)",
   "language": "python",
   "name": "python3"
  },
  "language_info": {
   "codemirror_mode": {
    "name": "ipython",
    "version": 3
   },
   "file_extension": ".py",
   "mimetype": "text/x-python",
   "name": "python",
   "nbconvert_exporter": "python",
   "pygments_lexer": "ipython3",
   "version": "3.12.2"
  }
 },
 "nbformat": 4,
 "nbformat_minor": 4
}
