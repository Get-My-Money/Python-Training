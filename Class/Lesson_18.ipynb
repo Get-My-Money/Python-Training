{
 "cells": [
  {
   "cell_type": "markdown",
   "metadata": {},
   "source": [
    "# Урок 18"
   ]
  },
  {
   "cell_type": "code",
   "execution_count": 16,
   "metadata": {},
   "outputs": [],
   "source": [
    "import numpy as np\n",
    "import random\n",
    "import matplotlib.pyplot as plt\n",
    "import math"
   ]
  },
  {
   "cell_type": "markdown",
   "metadata": {},
   "source": [
    "## Задача A ―  Класс \"Прямоугольник\""
   ]
  },
  {
   "cell_type": "markdown",
   "metadata": {},
   "source": [
    "Создайте класс Rectangle, у которого есть:\n",
    "\n",
    "    атрибуты: width, height;\n",
    "    \n",
    "    метод area() — возвращает площадь;\n",
    "    \n",
    "    метод perimeter() — возвращает периметр;\n",
    "    \n",
    "    метод __str__() — красивый вывод вида \"Прямоугольник (ширина=..., высота=...)\"."
   ]
  },
  {
   "cell_type": "code",
   "execution_count": 13,
   "metadata": {},
   "outputs": [],
   "source": [
    "class Rectangle:\n",
    "    def __init__(self, width, height):\n",
    "        self.width = width  # атрибут объекта\n",
    "        self.height = height   # атрибут объекта\n",
    "        \n",
    "    def area(self):\n",
    "        return self.width * self.height\n",
    "        \n",
    "    def perimeter(self):\n",
    "        return (self.width + self.height) * 2\n",
    "        \n",
    "    def __str__(self):\n",
    "        return f'Прямоугольник с параметрами: ширина = {self.width}, высота = {self.height}'"
   ]
  },
  {
   "cell_type": "code",
   "execution_count": 14,
   "metadata": {},
   "outputs": [
    {
     "name": "stdout",
     "output_type": "stream",
     "text": [
      "200\n",
      "60\n",
      "Прямоугольник с параметрами: ширина = 20, высота = 10\n"
     ]
    }
   ],
   "source": [
    "object1 = Rectangle(20, 10)\n",
    "print(object1.area())\n",
    "print(object1.perimeter())\n",
    "print(object1)"
   ]
  },
  {
   "cell_type": "markdown",
   "metadata": {},
   "source": [
    "## Задача B ― Класс \"Студент\""
   ]
  },
  {
   "cell_type": "markdown",
   "metadata": {},
   "source": [
    "Создайте класс Student, который:\n",
    "\n",
    "    имеет атрибуты: name (имя) и приватный словарь __grades, где ключи — предметы, значения — список оценок;\n",
    "    \n",
    "    метод add_grade(subject, grade) — добавляет оценку по предмету;\n",
    "    \n",
    "    метод get_average(subject) — возвращает средний балл по предмету;\n",
    "    \n",
    "    метод get_overall_average() — возвращает общий средний балл по всем предметам;\n",
    "    \n",
    "    метод get_report() — выводит отчёт об успеваемости (цикл по словарю);\n",
    "    \n",
    "    __str__() — возвращает строку с именем и средним баллом."
   ]
  },
  {
   "cell_type": "code",
   "execution_count": 53,
   "metadata": {},
   "outputs": [],
   "source": [
    "class Student:\n",
    "    def __init__(self, name):\n",
    "        self.name = name  # атрибут объекта\n",
    "        self.__grades = {}\n",
    "        \n",
    "    def add_grade(self, subject, grade):\n",
    "        try:\n",
    "            grades = self.__grades.get(subject)\n",
    "            grades.append(grade)\n",
    "            self.__grades[subject] = grades\n",
    "        except:\n",
    "            self.__grades[subject] = [grade]\n",
    "            \n",
    "    def get_average(self,subject):\n",
    "        return sum(self.__grades[subject]) / len(self.__grades[subject])\n",
    "        \n",
    "    def get_overall_average(self):\n",
    "        summ = 0\n",
    "        llen = 0           \n",
    "        for num in list(self.__grades.values()):\n",
    "            llen += len(num)\n",
    "            summ += sum(num)\n",
    "        return summ / llen\n",
    "    \n",
    "    def get_grades(self):\n",
    "        return self.__grades"
   ]
  },
  {
   "cell_type": "code",
   "execution_count": 56,
   "metadata": {},
   "outputs": [
    {
     "name": "stdout",
     "output_type": "stream",
     "text": [
      "{'Математика': [3, 3], 'Русский Язык': [3]}\n",
      "3.0\n",
      "3.0\n"
     ]
    }
   ],
   "source": [
    "d1 = Student('Антоша')\n",
    "d1.add_grade('Математика', 3)\n",
    "d1.add_grade('Математика', 3)\n",
    "d1.add_grade('Русский Язык', 3)\n",
    "print(d1.get_grades())\n",
    "print(d1.get_average('Русский Язык'))\n",
    "print(d1.get_overall_average())"
   ]
  },
  {
   "cell_type": "markdown",
   "metadata": {},
   "source": [
    "## Задача C ― Семейство классов \"Фигуры\""
   ]
  },
  {
   "cell_type": "markdown",
   "metadata": {},
   "source": [
    "Создайте базовый класс Shape с методом area().\n",
    "Сделайте наследников:\n",
    "    \n",
    "    Circle(radius) → площадь круга;\n",
    "    \n",
    "    Rectangle(width, height) → площадь прямоугольника;\n",
    "    \n",
    "    Square(side) → наследует Rectangle.\n",
    "    \n",
    "    Сделайте список фигур и пройдитесь по нему циклом, выводя площади."
   ]
  },
  {
   "cell_type": "code",
   "execution_count": 21,
   "metadata": {},
   "outputs": [],
   "source": [
    "class Square:\n",
    "    def __init__(self, height):\n",
    "        self.height = height  # атрибут объекта\n",
    "\n",
    "    def area(self):\n",
    "        return self.height ** 2\n",
    "\n",
    "class Rectagle(Square):\n",
    "    def __init__(self, height, width):\n",
    "        super().__init__(height)\n",
    "        self.width = width\n",
    "\n",
    "    def area(self):\n",
    "        return self.height * self.width\n",
    "\n",
    "class Circle(Square):\n",
    "    def __init__(self, height):\n",
    "        super().__init__(height)\n",
    "        self.radius = height / 2\n",
    "        \n",
    "    def area(self):\n",
    "        return (self.radius ** 2) * math.pi"
   ]
  },
  {
   "cell_type": "code",
   "execution_count": 22,
   "metadata": {},
   "outputs": [
    {
     "name": "stdout",
     "output_type": "stream",
     "text": [
      "400\n",
      "200\n",
      "314.1592653589793\n"
     ]
    }
   ],
   "source": [
    "d1 = Square(20)\n",
    "d2 = Rectagle(20, 10)\n",
    "d3 = Circle(20)\n",
    "print(d1.area())\n",
    "print(d2.area())\n",
    "print(d3.area())"
   ]
  }
 ],
 "metadata": {
  "colab": {
   "provenance": []
  },
  "kernelspec": {
   "display_name": "Python 3 (ipykernel)",
   "language": "python",
   "name": "python3"
  },
  "language_info": {
   "codemirror_mode": {
    "name": "ipython",
    "version": 3
   },
   "file_extension": ".py",
   "mimetype": "text/x-python",
   "name": "python",
   "nbconvert_exporter": "python",
   "pygments_lexer": "ipython3",
   "version": "3.12.2"
  }
 },
 "nbformat": 4,
 "nbformat_minor": 4
}
