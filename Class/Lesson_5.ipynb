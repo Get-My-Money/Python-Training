{
 "cells": [
  {
   "cell_type": "markdown",
   "metadata": {},
   "source": [
    "# Урок 5"
   ]
  },
  {
   "cell_type": "markdown",
   "metadata": {
    "jp-MarkdownHeadingCollapsed": true
   },
   "source": [
    "## Задача T1 ― «Анализ продаж»"
   ]
  },
  {
   "cell_type": "markdown",
   "metadata": {},
   "source": [
    "Напишите скрипт, который:\n",
    "\n",
    "1. Считывает строку с данными о ежедневных продажах (через пробел).\n",
    "\n",
    "2. Пропускает всё, что не число или отрицательно (< 0).\n",
    "\n",
    "3. Собирает оставшиеся значения в список sales.\n",
    "\n",
    "4. Вычисляет:\n",
    "\n",
    "    среднее значение продаж;\n",
    "\n",
    "    минимальную и максимальную продажу (в кортеже bounds);\n",
    "\n",
    "    множество уникальных значений продаж uniq."
   ]
  },
  {
   "cell_type": "code",
   "execution_count": 3,
   "metadata": {},
   "outputs": [
    {
     "name": "stdin",
     "output_type": "stream",
     "text": [
      "Продажи:  13 -5 7 -2.5 3.4 yereur True False [] {} ()\n"
     ]
    },
    {
     "name": "stdout",
     "output_type": "stream",
     "text": [
      "sales: [13.0, 7.0, 3.4]\n",
      "AVG: 7.8\n",
      "MIN-MAX: (3.4, 13.0)\n",
      "UNIQUE: {3.4, 13.0, 7.0}\n"
     ]
    }
   ],
   "source": [
    "raw = input(\"Продажи: \").split()\n",
    "sales = []\n",
    "\n",
    "for elem in raw:\n",
    "    try:\n",
    "        g = float(elem)\n",
    "        if g >= 0:\n",
    "            sales.append(g)\n",
    "    except:\n",
    "        pass\n",
    "\n",
    "print(\"sales:\", sales)\n",
    "print(\"AVG:\", sum(sales)/len(sales))\n",
    "print(\"MIN-MAX:\", tuple([min(sales), max(sales)]))\n",
    "print(\"UNIQUE:\", set(sales))"
   ]
  },
  {
   "cell_type": "markdown",
   "metadata": {
    "jp-MarkdownHeadingCollapsed": true
   },
   "source": [
    "### Решение"
   ]
  },
  {
   "cell_type": "code",
   "execution_count": 2,
   "metadata": {},
   "outputs": [
    {
     "name": "stdin",
     "output_type": "stream",
     "text": [
      "Продажи:  100 200 -50 abc 200 300\n"
     ]
    },
    {
     "name": "stdout",
     "output_type": "stream",
     "text": [
      "Средняя продажа: 200.00\n",
      "Интервал продаж: (100.0, 300.0)\n",
      "Уникальные продажи: 100.0 200.0 300.0\n"
     ]
    }
   ],
   "source": [
    "raw = input(\"Продажи: \").split()\n",
    "sales = []\n",
    "for s in raw:\n",
    "    try:\n",
    "        x = float(s)\n",
    "    except ValueError:\n",
    "        continue\n",
    "    if x < 0:\n",
    "        continue\n",
    "    sales.append(x)\n",
    "\n",
    "if not sales:\n",
    "    print(\"Нет корректных данных!\")\n",
    "else:\n",
    "    avg = sum(sales) / len(sales)\n",
    "    bounds = (min(sales), max(sales))\n",
    "    uniq = set(sales)\n",
    "    print(f\"Средняя продажа: {avg:.2f}\")\n",
    "    print(\"Интервал продаж:\", bounds)\n",
    "    print(\"Уникальные продажи:\", *sorted(uniq))"
   ]
  },
  {
   "cell_type": "markdown",
   "metadata": {
    "jp-MarkdownHeadingCollapsed": true
   },
   "source": [
    "## Задача T2 ― «Регистрация гостей»"
   ]
  },
  {
   "cell_type": "markdown",
   "metadata": {},
   "source": [
    "Напишите скрипт, который:\n",
    "\n",
    "1. В цикле спрашивает имя гостя (строка).\n",
    "\n",
    "2. Если введено слово QUIT — завершает приём гостей.\n",
    "\n",
    "3. Если строка пустая или имя уже добавлено — пропускает ввод.\n",
    "\n",
    "4. Иначе сохраняет имя в список guests и множество seen.\n",
    "\n",
    "5. После завершения цикла:\n",
    "\n",
    "    Если гостей нет — выводит “Гостей нет.”.\n",
    "\n",
    "    Иначе выводит список всех гостей и кортеж (first, last) с первым и последним добавленным гостем."
   ]
  },
  {
   "cell_type": "code",
   "execution_count": 9,
   "metadata": {},
   "outputs": [
    {
     "name": "stdin",
     "output_type": "stream",
     "text": [
      " QUIUT\n",
      " Mark\n",
      " Alex\n",
      "   \n",
      " 1567\n",
      " Mark\n",
      " QUIUT\n",
      " QUIT\n"
     ]
    },
    {
     "name": "stdout",
     "output_type": "stream",
     "text": [
      "Guests: ['QUIUT', 'Mark', 'Alex', '  ', '1567']\n",
      "FIRST-LAST: ('QUIUT', '1567')\n"
     ]
    }
   ],
   "source": [
    "guests = []\n",
    "seen = set()\n",
    "\n",
    "while True:\n",
    "    guest_name = input()\n",
    "\n",
    "    if guest_name == \"QUIT\":\n",
    "        break\n",
    "    \n",
    "    if len(guest_name) == 0 or guest_name in seen:\n",
    "        continue\n",
    "    else:\n",
    "       guests.append(guest_name) \n",
    "       seen.add(guest_name) \n",
    "\n",
    "if len(guests) == 0:\n",
    "    print(\"Гостей нет.\")\n",
    "else:\n",
    "    print(\"Guests:\", guests)\n",
    "    print(\"FIRST-LAST:\", tuple([guests[0], guests[-1]]))"
   ]
  },
  {
   "cell_type": "markdown",
   "metadata": {},
   "source": [
    "### Решение"
   ]
  },
  {
   "cell_type": "code",
   "execution_count": 3,
   "metadata": {},
   "outputs": [
    {
     "name": "stdin",
     "output_type": "stream",
     "text": [
      "Имя гостя (или QUIT):  aboba\n",
      "Имя гостя (или QUIT):  \n",
      "Имя гостя (или QUIT):  aboba\n",
      "Имя гостя (или QUIT):  ababo1743\n",
      "Имя гостя (или QUIT):  udurg\n",
      "Имя гостя (или QUIT):  \n",
      "Имя гостя (или QUIT):  QUIT\n"
     ]
    },
    {
     "name": "stdout",
     "output_type": "stream",
     "text": [
      "Список гостей: ['aboba', 'ababo1743', 'udurg']\n",
      "Первый и последний: ('aboba', 'udurg')\n"
     ]
    }
   ],
   "source": [
    "guests = []\n",
    "seen = set()\n",
    "\n",
    "while True:\n",
    "    name = input(\"Имя гостя (или QUIT): \").strip()\n",
    "    if name == \"QUIT\":\n",
    "        break\n",
    "    if not name or name in seen:\n",
    "        continue\n",
    "    seen.add(name)\n",
    "    guests.append(name)\n",
    "\n",
    "if not guests:\n",
    "    print(\"Гостей нет.\")\n",
    "else:\n",
    "    first_last = (guests[0], guests[-1])\n",
    "    print(\"Список гостей:\", guests)\n",
    "    print(\"Первый и последний:\", first_last)\n"
   ]
  },
  {
   "cell_type": "markdown",
   "metadata": {
    "jp-MarkdownHeadingCollapsed": true
   },
   "source": [
    "## Задача T3 ― «Числа Фибоначчи и их анализ»"
   ]
  },
  {
   "cell_type": "markdown",
   "metadata": {},
   "source": [
    "Напишите программу, которая:\n",
    "\n",
    "1. Считывает целочисленный предел limit.\n",
    "\n",
    "2. Генерирует последовательность Фибоначчи, пока следующий элемент не превысит limit.\n",
    "\n",
    "3. Собирает все элементы в список fib.\n",
    "\n",
    "4. Создаёт:\n",
    "\n",
    "    кортеж extremes = (min(fib), max(fib)),\n",
    "\n",
    "    множество чётных чисел even_fib.\n",
    "\n",
    "5. Выводит:\n",
    "   \n",
    "   Fibonacci: <fib>\n",
    "   \n",
    "   Границы: <extremes>\n",
    "   \n",
    "   Чётные элементы: <sorted even_fib>"
   ]
  },
  {
   "cell_type": "code",
   "execution_count": 13,
   "metadata": {},
   "outputs": [
    {
     "name": "stdin",
     "output_type": "stream",
     "text": [
      "Предел:  1\n"
     ]
    },
    {
     "name": "stdout",
     "output_type": "stream",
     "text": [
      "Fibonacci: [0, 1, 1]\n",
      "Границы: (0, 1)\n",
      "Чётные элементы: [0]\n"
     ]
    }
   ],
   "source": [
    "limit = int(input(\"Предел: \"))\n",
    "fib = [0, 1]\n",
    "n0 = 0\n",
    "n1 = 1\n",
    "t = -1\n",
    "\n",
    "while t <= limit:\n",
    "    t = n1+n0\n",
    "    n0 = n1\n",
    "    n1 = t\n",
    "    fib.append(n1)\n",
    "\n",
    "fib = fib[:-1]\n",
    "MIN_MAX = tuple([min(fib),max(fib)])\n",
    "even_fib = []\n",
    "for num in fib:\n",
    "    if num % 2 == 0:\n",
    "        even_fib.append(num)\n",
    "\n",
    "\n",
    "print(\"Fibonacci:\", fib)\n",
    "print(\"Границы:\", MIN_MAX)\n",
    "print(\"Чётные элементы:\", even_fib)"
   ]
  },
  {
   "cell_type": "markdown",
   "metadata": {
    "jp-MarkdownHeadingCollapsed": true
   },
   "source": [
    "### Решение"
   ]
  },
  {
   "cell_type": "code",
   "execution_count": 4,
   "metadata": {},
   "outputs": [
    {
     "name": "stdin",
     "output_type": "stream",
     "text": [
      "Предел:  16\n"
     ]
    },
    {
     "name": "stdout",
     "output_type": "stream",
     "text": [
      "Fibonacci: [0, 1, 1, 2, 3, 5, 8, 13]\n",
      "Границы: (0, 13)\n",
      "Чётные элементы: 0 2 8\n"
     ]
    }
   ],
   "source": [
    "limit = int(input(\"Предел: \"))\n",
    "fib = [0, 1]\n",
    "while True:\n",
    "    nxt = fib[-1] + fib[-2]\n",
    "    if nxt > limit:\n",
    "        break\n",
    "    fib.append(nxt)\n",
    "\n",
    "extremes = (min(fib), max(fib))\n",
    "even_fib = {x for x in fib if x % 2 == 0}\n",
    "\n",
    "print(\"Fibonacci:\", fib)\n",
    "print(\"Границы:\", extremes)\n",
    "print(\"Чётные элементы:\", *sorted(even_fib))"
   ]
  },
  {
   "cell_type": "markdown",
   "metadata": {},
   "source": [
    "## Задача S1 ― «Кратные четырём»"
   ]
  },
  {
   "cell_type": "markdown",
   "metadata": {},
   "source": [
    "1. Вводятся два целых числа A и B.\n",
    "\n",
    "2. С помощью for и range соберите в список все числа из [A; B], кратные 4.\n",
    "\n",
    "3. Выведите список и количество таких чисел."
   ]
  },
  {
   "cell_type": "code",
   "execution_count": 23,
   "metadata": {},
   "outputs": [
    {
     "name": "stdin",
     "output_type": "stream",
     "text": [
      "A =  8\n",
      "B =  8\n"
     ]
    },
    {
     "name": "stdout",
     "output_type": "stream",
     "text": [
      "Count: 1\n"
     ]
    }
   ],
   "source": [
    "a = int(input(\"A = \"))\n",
    "b = int(input(\"B = \"))\n",
    "div4 = []\n",
    "if a>b:\n",
    "    for i in range(b,a+1):\n",
    "        if i % 4 == 0:\n",
    "            div4.append(i)\n",
    "else:\n",
    "     for i in range(a,b+1):\n",
    "        if i % 4 == 0:\n",
    "            div4.append(i)\n",
    "print(\"Count:\", len(div4))"
   ]
  },
  {
   "cell_type": "markdown",
   "metadata": {
    "jp-MarkdownHeadingCollapsed": true
   },
   "source": [
    "### Решение"
   ]
  },
  {
   "cell_type": "code",
   "execution_count": 8,
   "metadata": {},
   "outputs": [
    {
     "name": "stdin",
     "output_type": "stream",
     "text": [
      "A =  2\n",
      "B =  28\n"
     ]
    },
    {
     "name": "stdout",
     "output_type": "stream",
     "text": [
      "[4, 8, 12, 16, 20, 24, 28]\n",
      "7\n"
     ]
    }
   ],
   "source": [
    "A = int(input(\"A = \"))\n",
    "B = int(input(\"B = \"))\n",
    "div4 = []\n",
    "for i in range(A, B+1):\n",
    "    if i % 4 == 0:\n",
    "        div4.append(i)\n",
    "print(div4)\n",
    "print(len(div4))"
   ]
  },
  {
   "cell_type": "markdown",
   "metadata": {},
   "source": [
    "## Задача S2 ― «Сумма до порога»"
   ]
  },
  {
   "cell_type": "markdown",
   "metadata": {},
   "source": [
    "1. Вводятся целые числа по одному в строке.\n",
    "\n",
    "2. Суммируйте их, пропуская нули (continue), пока общая сумма меньше 50.\n",
    "\n",
    "3. После этого (break) выведите итоговую сумму и сколько чисел учтено."
   ]
  },
  {
   "cell_type": "code",
   "execution_count": 36,
   "metadata": {},
   "outputs": [
    {
     "name": "stdin",
     "output_type": "stream",
     "text": [
      "Введите целое число 49\n",
      "Введите целое число 15\n"
     ]
    },
    {
     "name": "stdout",
     "output_type": "stream",
     "text": [
      "Учтено чисел: 2\n",
      "Сумма: 64\n"
     ]
    }
   ],
   "source": [
    "lens = 0\n",
    "sam = 0\n",
    "while True:\n",
    "    digit = int(input(\"Введите целое число\"))\n",
    "    sam += digit\n",
    "    if digit != 0:\n",
    "        lens += 1\n",
    "    if 50 <= sam:\n",
    "        break\n",
    "print(\"Учтено чисел:\",lens)\n",
    "print(\"Сумма:\",sam)"
   ]
  },
  {
   "cell_type": "markdown",
   "metadata": {
    "jp-MarkdownHeadingCollapsed": true
   },
   "source": [
    "### Решение"
   ]
  },
  {
   "cell_type": "code",
   "execution_count": 37,
   "metadata": {},
   "outputs": [
    {
     "name": "stdin",
     "output_type": "stream",
     "text": [
      "Число:  0\n",
      "Число:  0\n",
      "Число:  0\n",
      "Число:  50\n"
     ]
    },
    {
     "name": "stdout",
     "output_type": "stream",
     "text": [
      "Сумма = 50\n",
      "Введено чисел = 1\n"
     ]
    }
   ],
   "source": [
    "total = 0\n",
    "count = 0\n",
    "\n",
    "while True:\n",
    "    n = int(input(\"Число: \"))\n",
    "    if n == 0:\n",
    "        continue\n",
    "    total += n\n",
    "    count += 1\n",
    "    if total >= 50:\n",
    "        break\n",
    "\n",
    "print(\"Сумма =\", total)\n",
    "print(\"Введено чисел =\", count)"
   ]
  },
  {
   "cell_type": "markdown",
   "metadata": {},
   "source": [
    "## Задача S3 ― «Анализ слов в строке»"
   ]
  },
  {
   "cell_type": "markdown",
   "metadata": {},
   "source": [
    "1. Вводится одна строка с произвольным текстом.\n",
    "\n",
    "2. Разбейте её на слова (split), приведите к нижнему регистру.\n",
    "\n",
    "3. Сформируйте:\n",
    "\n",
    "    список words (в порядке появления),\n",
    "\n",
    "    множество uniq_words (уникальные),\n",
    "\n",
    "    кортеж ends = (first, last) первого и последнего слова.\n",
    "\n",
    "4. Выведите:\n",
    "   \n",
    "    Words: [...]\n",
    "   \n",
    "    Unique count: <число>\n",
    "   \n",
    "    Ends: (first, last)"
   ]
  },
  {
   "cell_type": "code",
   "execution_count": 42,
   "metadata": {},
   "outputs": [
    {
     "name": "stdin",
     "output_type": "stream",
     "text": [
      "Введите текст:  AMOLO KOLOLO AMOLO KOLOLO\n"
     ]
    },
    {
     "name": "stdout",
     "output_type": "stream",
     "text": [
      "Уникальные слов {'kololo', 'amolo'}\n",
      "['amolo', 'kololo', 'amolo', 'kololo']\n",
      "Первое - последнее ('kololo', 'kololo')\n"
     ]
    }
   ],
   "source": [
    "text = input(\"Введите текст: \")\n",
    "words = []\n",
    "uniq_words = set()\n",
    "a = text.split()\n",
    "for g in range(len(a)):\n",
    "    a[g] = a[g].lower()\n",
    "uniq_words = set(a)\n",
    "print(\"Уникальные слов\",uniq_words)\n",
    "print(a)\n",
    "ends = tuple([a[1], a[-1]])\n",
    "print(\"Первое - последнее\",ends)"
   ]
  },
  {
   "cell_type": "markdown",
   "metadata": {
    "jp-MarkdownHeadingCollapsed": true
   },
   "source": [
    "### Решение"
   ]
  },
  {
   "cell_type": "code",
   "execution_count": 7,
   "metadata": {},
   "outputs": [
    {
     "name": "stdin",
     "output_type": "stream",
     "text": [
      "Введите текст:  I was young in 2007\n"
     ]
    },
    {
     "name": "stdout",
     "output_type": "stream",
     "text": [
      "['i', 'was', 'young', 'in', '2007']\n",
      "{'young', '2007', 'in', 'i', 'was'}\n",
      "('i', '2007')\n"
     ]
    }
   ],
   "source": [
    "text = input(\"Введите текст: \")\n",
    "words = [w.lower() for w in text.split()]\n",
    "uniq_words = set(words)\n",
    "ends = (words[0], words[-1]) if words else (\"\", \"\")\n",
    "print(words)\n",
    "print(uniq_words)\n",
    "print(ends)"
   ]
  }
 ],
 "metadata": {
  "colab": {
   "provenance": []
  },
  "kernelspec": {
   "display_name": "Python 3 (ipykernel)",
   "language": "python",
   "name": "python3"
  },
  "language_info": {
   "codemirror_mode": {
    "name": "ipython",
    "version": 3
   },
   "file_extension": ".py",
   "mimetype": "text/x-python",
   "name": "python",
   "nbconvert_exporter": "python",
   "pygments_lexer": "ipython3",
   "version": "3.12.2"
  }
 },
 "nbformat": 4,
 "nbformat_minor": 4
}
