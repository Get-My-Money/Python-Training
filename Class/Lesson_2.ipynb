{
 "cells": [
  {
   "cell_type": "markdown",
   "metadata": {},
   "source": [
    "# Урок 2"
   ]
  },
  {
   "cell_type": "markdown",
   "metadata": {},
   "source": [
    "## Мини-задание для разминки"
   ]
  },
  {
   "cell_type": "markdown",
   "metadata": {},
   "source": [
    "Попросите пользователя ввести оценку от 1 до 5. \n",
    "Если 5 -> Вывести 'Отлично!', если 4 -> 'Хорошо', 3 -> 'Удовлетворительно'.\n",
    "Если 2 или 1 -> 'Очень плохо'. И если вне диапазона 1..5 -> 'Это не оценка!'."
   ]
  },
  {
   "cell_type": "code",
   "execution_count": 12,
   "metadata": {},
   "outputs": [
    {
     "name": "stdin",
     "output_type": "stream",
     "text": [
      "Оцените нашу работу от 1 до 5!: 6\n"
     ]
    },
    {
     "name": "stdout",
     "output_type": "stream",
     "text": [
      "Это не оценка!\n"
     ]
    }
   ],
   "source": [
    "a=int(input(\"Оцените нашу работу от 1 до 5!:\"))\n",
    "if a == 1 or a == 2:\n",
    "    print(\"Очень плохо\")\n",
    "elif a == 3:\n",
    "    print(\"Удовлетворительно\")\n",
    "elif a == 4:\n",
    "    print(\"Хорошо\")\n",
    "elif a == 5:\n",
    "    print(\"Отлично!\")\n",
    "else:\n",
    "    print(\"Это не оценка!\")"
   ]
  },
  {
   "cell_type": "markdown",
   "metadata": {
    "jp-MarkdownHeadingCollapsed": true
   },
   "source": [
    "### Решение"
   ]
  },
  {
   "cell_type": "code",
   "execution_count": null,
   "metadata": {},
   "outputs": [],
   "source": [
    "mark = int(input(\"Введите оценку (1..5): \"))\n",
    "\n",
    "if mark == 5:\n",
    "    print(\"Отлично!\")\n",
    "elif mark == 4:\n",
    "    print(\"Хорошо\")\n",
    "elif mark == 3:\n",
    "    print(\"Удовлетворительно\")\n",
    "elif mark == 1 or mark == 2:\n",
    "    print(\"Очень плохо\")\n",
    "else:\n",
    "    print(\"Это не оценка!\")\n",
    "'''"
   ]
  },
  {
   "cell_type": "markdown",
   "metadata": {},
   "source": [
    "Напишите простой калькулятор, который считывает с пользовательского ввода три строки: первое число, второе число и операцию, после чего применяет операцию к введённым числам."
   ]
  },
  {
   "cell_type": "code",
   "execution_count": null,
   "metadata": {},
   "outputs": [],
   "source": []
  },
  {
   "cell_type": "markdown",
   "metadata": {},
   "source": [
    "## Задача A. Вычисление площади треугольника (формула Герона)"
   ]
  },
  {
   "cell_type": "markdown",
   "metadata": {},
   "source": [
    "Напишите программу, которая принимает на вход длины трёх сторон треугольника и вычисляет площадь по формуле Герона! S = sqrt(p(p−a)(p−b)(p−c)), где a,b,c - стороны треугольника, а p - его полупериметр.\n"
   ]
  },
  {
   "cell_type": "code",
   "execution_count": 23,
   "metadata": {},
   "outputs": [
    {
     "name": "stdin",
     "output_type": "stream",
     "text": [
      "Впишите величину первой стороны треуголника: 2\n",
      "Впишите величину второй стороны треуголника: 3\n",
      "Впишите величину третьей стороны треуголника: 8\n"
     ]
    },
    {
     "name": "stdout",
     "output_type": "stream",
     "text": [
      "Этот треугольник не может существовать\n"
     ]
    }
   ],
   "source": [
    "a=float(input(\"Впишите величину первой стороны треуголника:\"))\n",
    "b=float(input(\"Впишите величину второй стороны треуголника:\"))\n",
    "c=float(input(\"Впишите величину третьей стороны треуголника:\"))\n",
    "if a+b > c and b+c > a and c+a > b:\n",
    "    print(\"Этот треугольник может существовать\")\n",
    "    p=(a+b+c)/2\n",
    "    print(\"S=\", (p*(p-a)*(p-b)*(p-c))**0.5)\n",
    "else:\n",
    "    print(\"Этот треугольник не может существовать\")"
   ]
  },
  {
   "cell_type": "markdown",
   "metadata": {
    "jp-MarkdownHeadingCollapsed": true
   },
   "source": [
    "### Решение"
   ]
  },
  {
   "cell_type": "code",
   "execution_count": 19,
   "metadata": {},
   "outputs": [
    {
     "name": "stdin",
     "output_type": "stream",
     "text": [
      " 3\n",
      " 4\n",
      " 5\n"
     ]
    },
    {
     "name": "stdout",
     "output_type": "stream",
     "text": [
      "6.0\n"
     ]
    }
   ],
   "source": [
    "a=int(input())\n",
    "b=int(input())\n",
    "c=int(input())\n",
    "p=(a+b+c)/2\n",
    "s=p*(p-a)*(p-b)*(p-c)\n",
    "S=s**0.5\n",
    "print(S)"
   ]
  },
  {
   "cell_type": "code",
   "execution_count": 5,
   "metadata": {},
   "outputs": [
    {
     "name": "stdin",
     "output_type": "stream",
     "text": [
      " 20\n"
     ]
    },
    {
     "name": "stdout",
     "output_type": "stream",
     "text": [
      "True\n"
     ]
    }
   ],
   "source": [
    "a=int(input())\n",
    "if a >= 18:\n",
    "    print('True')\n",
    "elif a > -10 and a <= 10:\n",
    "    print('True')\n",
    "elif a > 12 and a < 15:\n",
    "    print('True')  \n",
    "else:\n",
    "    print(\"False\") "
   ]
  },
  {
   "cell_type": "markdown",
   "metadata": {
    "jp-MarkdownHeadingCollapsed": true
   },
   "source": [
    "## Задача C. Арифметический мини-калькулятор с проверкой входа"
   ]
  },
  {
   "cell_type": "markdown",
   "metadata": {},
   "source": [
    "Напишите программу, которая считывает два числа и строку с операцией из набора +, -, *, /, mod(остаток от деления), div(целочисленное деление), pow(возвести в степень). Если операция /, mod, или div и второе число — ноль, вывести \"Ошибка: деление на 0!\" и не производить операцию. Иначе вывести результат."
   ]
  },
  {
   "cell_type": "code",
   "execution_count": 13,
   "metadata": {},
   "outputs": [
    {
     "name": "stdin",
     "output_type": "stream",
     "text": [
      "Введите первое число 5\n",
      "Введите второе число 0\n",
      "Введите операцию: //\n"
     ]
    },
    {
     "name": "stdout",
     "output_type": "stream",
     "text": [
      "Ошибка: деление на 0!\n"
     ]
    }
   ],
   "source": [
    "a=float(input(\"Введите первое число\"))\n",
    "b=float(input(\"Введите второе число\"))\n",
    "op=input(\"Введите операцию:\")\n",
    "\n",
    "if op == \"+\":\n",
    "    print(a+b)\n",
    "elif op == \"-\":\n",
    "    print(a-b)\n",
    "elif op == \"*\":\n",
    "    print(a*b)\n",
    "elif op == \"pow\":\n",
    "    print(a**b)\n",
    "elif (op == \"/\" or op == \"//\" or op == \"%\") and b != 0:\n",
    "    if op == \"/\":\n",
    "        print(a/b)\n",
    "    if op == \"//\":\n",
    "        print(a//b)\n",
    "    if op == \"%\":\n",
    "        print(a%b)\n",
    "else:\n",
    "    print(\"Ошибка: деление на 0!\")"
   ]
  },
  {
   "cell_type": "markdown",
   "metadata": {
    "jp-MarkdownHeadingCollapsed": true
   },
   "source": [
    "### Решение"
   ]
  },
  {
   "cell_type": "code",
   "execution_count": 14,
   "metadata": {},
   "outputs": [
    {
     "name": "stdin",
     "output_type": "stream",
     "text": [
      "Введите первое число:  2\n",
      "Введите второе число:  3\n",
      "Введите операцию (+, -, /, *, mod, pow, div):  /\n"
     ]
    },
    {
     "name": "stdout",
     "output_type": "stream",
     "text": [
      "Результат: 0.6666666666666666\n"
     ]
    }
   ],
   "source": [
    "# Пользователь вводит выражение вида: два числа и операция\n",
    "a = float(input(\"Введите первое число: \"))\n",
    "b = float(input(\"Введите второе число: \"))\n",
    "op = input(\"Введите операцию (+, -, /, *, mod, pow, div): \")\n",
    "\n",
    "# Пример реализации\n",
    "if op == '+':\n",
    "    result = a + b\n",
    "elif op == '-':\n",
    "    result = a - b\n",
    "elif op == '*':\n",
    "    result = a * b\n",
    "elif op == '/':\n",
    "    if b == 0:\n",
    "        result = \"Деление на 0!\"\n",
    "    else:\n",
    "        result = a / b\n",
    "elif op == 'mod':  # остаток\n",
    "    if b == 0:\n",
    "        result = \"Деление на 0!\"\n",
    "    else:\n",
    "        result = a % b\n",
    "elif op == 'pow':  # возведение в степень\n",
    "    result = a ** b\n",
    "elif op == 'div':  # целочисленное деление\n",
    "    if b == 0:\n",
    "        result = \"Деление на 0!\"\n",
    "    else:\n",
    "        result = a // b\n",
    "else:\n",
    "    result = \"Неизвестная операция!\"\n",
    "\n",
    "print(\"Результат:\", result)"
   ]
  },
  {
   "cell_type": "code",
   "execution_count": 171,
   "metadata": {},
   "outputs": [
    {
     "name": "stdout",
     "output_type": "stream",
     "text": [
      "15:50:25\n"
     ]
    },
    {
     "data": {
      "text/plain": [
       "['15', '50', '25']"
      ]
     },
     "execution_count": 171,
     "metadata": {},
     "output_type": "execute_result"
    }
   ],
   "source": [
    "clock = \"15:50:25\"\n",
    "ss = clock.split(\":\")\n",
    "print(clock)\n",
    "ss"
   ]
  },
  {
   "cell_type": "code",
   "execution_count": 172,
   "metadata": {},
   "outputs": [
    {
     "name": "stdout",
     "output_type": "stream",
     "text": [
      "Результат a.split(): ['mY', 'naMe', 'Is', 'ZMaRk']\n",
      "Склеиваем обратно в строку: mYnaMeIsZMaRk\n",
      "Список после добавления числа 67: ['mY', 'naMe', 'Is', 'ZMaRk', 67]\n",
      "Список после добавления вложенного списка: ['mY', 'naMe', 'Is', 'ZMaRk', 67, ['another', 'list', 'is', 'there']]\n",
      "Элемент [5]: ['another', 'list', 'is', 'there']\n",
      "Срез внутри вложенного списка [5][1][2:]: st\n",
      "Сколько раз 54 встречается в списке: 6\n"
     ]
    }
   ],
   "source": [
    "yy = a.split()  # a = 'mY naMe Is ZMaRk' из предыдущих примеров\n",
    "print(\"Результат a.split():\", yy)\n",
    "qw = ''.join(yy)\n",
    "print(\"Склеиваем обратно в строку:\", qw)\n",
    "\n",
    "yy.append(67)\n",
    "print(\"Список после добавления числа 67:\", yy)\n",
    "\n",
    "yy.append(['another','list','is','there'])\n",
    "print(\"Список после добавления вложенного списка:\", yy)\n",
    "print(\"Элемент [5]:\", yy[5])\n",
    "print(\"Срез внутри вложенного списка [5][1][2:]:\", yy[5][1][2:])\n",
    "\n",
    "count_example = [5,5,12,45,54,2,12,12,45,54,54,54,54,54]\n",
    "print(\"Сколько раз 54 встречается в списке:\", count_example.count(54))"
   ]
  },
  {
   "cell_type": "markdown",
   "metadata": {},
   "source": [
    "## Задача E. «Счастливый билет»"
   ]
  },
  {
   "cell_type": "markdown",
   "metadata": {},
   "source": [
    "«Программа читает с клавиатуры строку из 6 символов (гарантируется, что это 6 цифр). Проверяет, совпадает ли сумма первых трёх и последних трёх цифр. Если совпадают — “Lucky”, иначе — “Not Lucky”.»"
   ]
  },
  {
   "cell_type": "code",
   "execution_count": 24,
   "metadata": {},
   "outputs": [
    {
     "name": "stdin",
     "output_type": "stream",
     "text": [
      "Введите номер билета, состоящий из 6 цифр: 120120\n"
     ]
    },
    {
     "name": "stdout",
     "output_type": "stream",
     "text": [
      "Lucky!\n"
     ]
    }
   ],
   "source": [
    "a=input(\"Введите номер билета, состоящий из 6 цифр:\")\n",
    "if len(a) != 6:\n",
    "    print(\"Ошибка! В билете не 6 цифр!\")\n",
    "else:\n",
    "    b=int(a[0]) + int(a[1]) + int(a[2])\n",
    "    d=int(a[3]) + int(a[4]) + int(a[5])\n",
    "    if b == d:\n",
    "        print(\"Lucky!\")\n",
    "    else:\n",
    "        print(\"Not Lucky!\")"
   ]
  },
  {
   "cell_type": "markdown",
   "metadata": {
    "jp-MarkdownHeadingCollapsed": true
   },
   "source": [
    "### Решение"
   ]
  },
  {
   "cell_type": "code",
   "execution_count": 6,
   "metadata": {},
   "outputs": [
    {
     "name": "stdin",
     "output_type": "stream",
     "text": [
      " 174356\n"
     ]
    },
    {
     "name": "stdout",
     "output_type": "stream",
     "text": [
      "Обычный\n"
     ]
    }
   ],
   "source": [
    "a=str(input())\n",
    "c1=int(a[0])\n",
    "c2=int(a[1])\n",
    "c3=int(a[2])\n",
    "c4=int(a[3])\n",
    "c5=int(a[4])\n",
    "c6=int(a[5])\n",
    "if c1+c2+c3 == c4+c5+c6:\n",
    "    print('Счастливый')\n",
    "else:\n",
    "    print('Обычный')"
   ]
  }
 ],
 "metadata": {
  "colab": {
   "provenance": []
  },
  "kernelspec": {
   "display_name": "Python 3 (ipykernel)",
   "language": "python",
   "name": "python3"
  },
  "language_info": {
   "codemirror_mode": {
    "name": "ipython",
    "version": 3
   },
   "file_extension": ".py",
   "mimetype": "text/x-python",
   "name": "python",
   "nbconvert_exporter": "python",
   "pygments_lexer": "ipython3",
   "version": "3.12.2"
  }
 },
 "nbformat": 4,
 "nbformat_minor": 4
}
