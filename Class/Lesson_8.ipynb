{
 "cells": [
  {
   "cell_type": "markdown",
   "metadata": {},
   "source": [
    "# Урок 8"
   ]
  },
  {
   "cell_type": "markdown",
   "metadata": {
    "jp-MarkdownHeadingCollapsed": true
   },
   "source": [
    "## Задача A ― «Пересечение словарей без повторов»"
   ]
  },
  {
   "cell_type": "markdown",
   "metadata": {},
   "source": [
    "Есть два словаря целых:\n",
    "\n",
    "d1 = {'A':1, 'B':2, 'C':3, 'E':16, 'Y':2}, d2 = {'B':2, 'C':4, 'D':3, 'E':23, 'Y':2}\n",
    "\n",
    "Нужно найти все ключи, которые присутствуют в обоих словарях и при этом имеют одинаковое значение. Постройте список таких ключей и выведите его.\n",
    "\n",
    "Пример:\n",
    "\n",
    "Ввод:\n",
    "d1 = {'A':1, 'B':2, 'C':3, 'E':16, 'Y':2}\n",
    "d2 = {'B':2, 'C':4, 'D':3, 'E':23, 'Y':2}\n",
    "\n",
    "Вывод:\n",
    "['B', 'Y']"
   ]
  },
  {
   "cell_type": "code",
   "execution_count": 4,
   "metadata": {},
   "outputs": [
    {
     "name": "stdout",
     "output_type": "stream",
     "text": [
      "['B', 'Y']\n"
     ]
    }
   ],
   "source": [
    "d1 = {'A':1, 'B':2, 'C':3, 'E':16, 'Y':2}\n",
    "d2 = {'B':2, 'C':4, 'D':3, 'E':23, 'Y':2}\n",
    "d1_key = list(d1.keys()) \n",
    "d2_key = list(d2.keys()) \n",
    "text = []\n",
    "for elem in d1_key:\n",
    "    if elem in d2_key and d1[elem] == d2[elem]:\n",
    "        text.append(elem)\n",
    "print(text)"
   ]
  },
  {
   "cell_type": "markdown",
   "metadata": {
    "jp-MarkdownHeadingCollapsed": true
   },
   "source": [
    "### Решение"
   ]
  },
  {
   "cell_type": "code",
   "execution_count": 2,
   "metadata": {},
   "outputs": [
    {
     "name": "stdout",
     "output_type": "stream",
     "text": [
      "['B', 'Y']\n"
     ]
    }
   ],
   "source": [
    "d1 = {'A':1, 'B':2, 'C':3, 'E':16, 'Y':2}\n",
    "d2 = {'B':2, 'C':4, 'D':3, 'E':23, 'Y':2}\n",
    "keys_list = []\n",
    "\n",
    "for key in list(d1):\n",
    "    try:\n",
    "        if d2[key] == d1[key]:\n",
    "            keys_list.append(key)\n",
    "    except:\n",
    "        pass\n",
    "print(keys_list)"
   ]
  },
  {
   "cell_type": "markdown",
   "metadata": {
    "jp-MarkdownHeadingCollapsed": true
   },
   "source": [
    "## Задача B ― «Работа с элементами словаря»"
   ]
  },
  {
   "cell_type": "markdown",
   "metadata": {},
   "source": [
    "Пользователь вводит одну строку пар ключ:значение через запятую, где значение — целое (пример: x:0,y:5,z:0,w:7).\n",
    "Постройте словарь и удалите из него все пары, где значение равно нулю. Выведите результирующий словарь.\n",
    "\n",
    "Пример:\n",
    "\n",
    "Ввод:\n",
    "x:0,y:5,z:0,w:7\n",
    "\n",
    "Вывод:\n",
    "{'y': 5, 'w': 7}"
   ]
  },
  {
   "cell_type": "code",
   "execution_count": 24,
   "metadata": {},
   "outputs": [
    {
     "name": "stdout",
     "output_type": "stream",
     "text": [
      "{'x': 0, 'y': 5, 'z': 0, 'w': 7}\n",
      "{'y': 5, 'w': 7}\n"
     ]
    }
   ],
   "source": [
    "text = 'x:0,y:5,z:0,w:7'.split(\",\")\n",
    "slovarb = {}\n",
    "wrong_key = []\n",
    "for elem in text:\n",
    "    elem_pair = elem.split(\":\")\n",
    "    elem_value = elem_pair[1]\n",
    "    elem_value = int(elem_value)\n",
    "    elem_key = elem_pair[0]\n",
    "    slovarb[elem_key] = elem_value\n",
    "print(slovarb)\n",
    "    \n",
    "for elem in slovarb:\n",
    "    if slovarb[elem] == 0:\n",
    "        wrong_key.append(elem)\n",
    "\n",
    "for elem in wrong_key:\n",
    "    del slovarb[elem]\n",
    "    \n",
    "print(slovarb)\n"
   ]
  },
  {
   "cell_type": "markdown",
   "metadata": {},
   "source": [
    "### Решение"
   ]
  },
  {
   "cell_type": "code",
   "execution_count": 17,
   "metadata": {},
   "outputs": [
    {
     "name": "stdin",
     "output_type": "stream",
     "text": [
      " x:0,y:5,z:0,w:7\n"
     ]
    },
    {
     "name": "stdout",
     "output_type": "stream",
     "text": [
      "{'y': '5', 'w': '7'}\n"
     ]
    }
   ],
   "source": [
    "text = input()\n",
    "pairs = text.split(\",\")\n",
    "pair_dict = {}\n",
    "\n",
    "for pair in pairs:\n",
    "    pair = pair.split(\":\")\n",
    "    pair_dict[pair[0]] = pair[1]\n",
    "\n",
    "for key in list(pair_dict):\n",
    "    if pair_dict[key] == '0':\n",
    "        del pair_dict[key]\n",
    "\n",
    "print(pair_dict)"
   ]
  },
  {
   "cell_type": "markdown",
   "metadata": {
    "jp-MarkdownHeadingCollapsed": true
   },
   "source": [
    "## Задача C ― «Классификация чисел»"
   ]
  },
  {
   "cell_type": "markdown",
   "metadata": {},
   "source": [
    "Вводится список целых чисел через пробел. Требуется создать словарь classification с двумя ключами:\n",
    "\n",
    "'even': список чётных чисел,\n",
    "\n",
    "'odd': список нечётных чисел.\n",
    "\n",
    "Затем вывести classification.\n",
    "\n",
    "Ввод:\n",
    "5 2 8 7 3 4\n",
    "\n",
    "Вывод:\n",
    "{'even': [2, 8, 4], 'odd': [5, 7, 3]}"
   ]
  },
  {
   "cell_type": "code",
   "execution_count": 32,
   "metadata": {},
   "outputs": [
    {
     "name": "stdout",
     "output_type": "stream",
     "text": [
      "['5', '2', '8', '7', '3', '4']\n",
      "{'even': [2, 8, 4], 'odd': [5, 7, 3]}\n"
     ]
    }
   ],
   "source": [
    "text = \"5 2 8 7 3 4\"\n",
    "clas = {\"even\":[],\"odd\":[]}\n",
    "text_spl = text.split(\" \")\n",
    "print(text_spl)\n",
    "for digit in text_spl:\n",
    "    digit = int(digit)\n",
    "    if digit % 2 == 0:\n",
    "        clas[\"even\"].append(digit)\n",
    "    else:\n",
    "        clas[\"odd\"].append(digit)\n",
    "print(clas)"
   ]
  },
  {
   "cell_type": "markdown",
   "metadata": {
    "jp-MarkdownHeadingCollapsed": true
   },
   "source": [
    "### Решение"
   ]
  },
  {
   "cell_type": "code",
   "execution_count": 20,
   "metadata": {},
   "outputs": [
    {
     "name": "stdin",
     "output_type": "stream",
     "text": [
      " 5 2 8 7 3 4\n"
     ]
    },
    {
     "name": "stdout",
     "output_type": "stream",
     "text": [
      "{'even': [2, 8, 4], 'odd': [5, 7, 3]}\n"
     ]
    }
   ],
   "source": [
    "digits = input()\n",
    "digits = digits.split()\n",
    "digits_dict = {'even':[],'odd':[]}\n",
    "\n",
    "for digit in digits:\n",
    "    if int(digit) % 2 == 0:\n",
    "        digits_dict['even'].append(int(digit))\n",
    "    else:\n",
    "        digits_dict['odd'].append(int(digit))\n",
    "        \n",
    "print(digits_dict)"
   ]
  },
  {
   "cell_type": "code",
   "execution_count": null,
   "metadata": {},
   "outputs": [],
   "source": [
    "prices = {'apple': 100, 'banana': 80, 'orange': 120}\n",
    "\n",
    "n = int(input())\n",
    "\n",
    "for _ in range(n):\n",
    "    parts = input().split()\n",
    "    cmd = parts[0]\n",
    "    \n",
    "    if cmd == \"ADD\":\n",
    "        name, price = parts[1], int(parts[2])\n",
    "        if name in prices:\n",
    "            print(\"Данную команду выполнить невозможно\")\n",
    "        else:\n",
    "            prices[name] = price\n",
    "            print(\"Команда успешно выполнена\")\n",
    "    \n",
    "    elif cmd == \"DELETE\":\n",
    "        name = parts[1]\n",
    "        if name in prices:\n",
    "            del prices[name]\n",
    "            print(\"Команда успешно выполнена\")\n",
    "        else:\n",
    "            print(\"Данную команду выполнить невозможно\")\n",
    "    \n",
    "    elif cmd == \"UPDATE\":\n",
    "        name, price = parts[1], int(parts[2])\n",
    "        if name in prices:\n",
    "            prices[name] = price\n",
    "            print(\"Команда успешно выполнена\")\n",
    "        else:\n",
    "            print(\"Данную команду выполнить невозможно\")\n",
    "    \n",
    "    else:\n",
    "        # Если неизвестная команда\n",
    "        print(\"Данную команду выполнить невозможно\")\n",
    "\n",
    "items = \", \".join(f\"'{k}':{v}\" for k, v in prices.items())\n",
    "print(\"{\" + items + \"}\")\n"
   ]
  }
 ],
 "metadata": {
  "colab": {
   "provenance": []
  },
  "kernelspec": {
   "display_name": "Python 3 (ipykernel)",
   "language": "python",
   "name": "python3"
  },
  "language_info": {
   "codemirror_mode": {
    "name": "ipython",
    "version": 3
   },
   "file_extension": ".py",
   "mimetype": "text/x-python",
   "name": "python",
   "nbconvert_exporter": "python",
   "pygments_lexer": "ipython3",
   "version": "3.12.2"
  }
 },
 "nbformat": 4,
 "nbformat_minor": 4
}
