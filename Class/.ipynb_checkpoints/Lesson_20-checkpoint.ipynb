{
 "cells": [
  {
   "cell_type": "markdown",
   "metadata": {},
   "source": [
    "# Урок 20"
   ]
  },
  {
   "cell_type": "markdown",
   "metadata": {
    "jp-MarkdownHeadingCollapsed": true
   },
   "source": [
    "## Задача A ―  «Генератор чисел Фибоначчи»"
   ]
  },
  {
   "cell_type": "markdown",
   "metadata": {},
   "source": [
    "Напишите генераторную функцию fibonacci(limit), которая возвращает числа Фибоначчи, не превышающие заданный limit. Используйте yield для генерации значений.\n",
    "\n",
    "Пример: list(fibonacci(20))  # [0, 1, 1, 2, 3, 5, 8, 13]"
   ]
  },
  {
   "cell_type": "code",
   "execution_count": 9,
   "metadata": {},
   "outputs": [
    {
     "name": "stdin",
     "output_type": "stream",
     "text": [
      " 20\n"
     ]
    },
    {
     "name": "stdout",
     "output_type": "stream",
     "text": [
      "[0, 1, 1, 2, 3, 5, 8, 13]\n"
     ]
    }
   ],
   "source": [
    "limit = int(input())\n",
    "def fibonacci(limit):\n",
    "    n = 0\n",
    "    n1 = 1\n",
    "    yield n\n",
    "    yield n1\n",
    "    while limit >= n+n1:\n",
    "        yield n+n1\n",
    "        t1 = n\n",
    "        n = n1\n",
    "        n1 = n+t1\n",
    "fib_list = list(fibonacci(limit))\n",
    "print(fib_list)"
   ]
  },
  {
   "cell_type": "markdown",
   "metadata": {
    "jp-MarkdownHeadingCollapsed": true
   },
   "source": [
    "### Решение"
   ]
  },
  {
   "cell_type": "code",
   "execution_count": 6,
   "metadata": {},
   "outputs": [
    {
     "data": {
      "text/plain": [
       "[0, 1, 1, 2, 3, 5, 8, 13]"
      ]
     },
     "execution_count": 6,
     "metadata": {},
     "output_type": "execute_result"
    }
   ],
   "source": [
    "def fibonacci(limit):\n",
    "    n0 = 0\n",
    "    n1 = 1\n",
    "    yield n0\n",
    "    yield n1\n",
    "    while n0 + n1 <= limit:\n",
    "        yield n0 + n1\n",
    "        t = n0\n",
    "        n0 = n1\n",
    "        n1 += t\n",
    "list(fibonacci(20))"
   ]
  },
  {
   "cell_type": "markdown",
   "metadata": {
    "jp-MarkdownHeadingCollapsed": true
   },
   "source": [
    "## Задача B ―  «Функции map, filter, any, all»"
   ]
  },
  {
   "cell_type": "markdown",
   "metadata": {},
   "source": [
    "Пользователь задаёт список чисел. Вам нужно:\n",
    "\n",
    "    1. С помощью filter оставьте только положительные числа.\n",
    "    \n",
    "    2. С помощью map создайте список их кубов.\n",
    "    \n",
    "    3. Проверьте с помощью any и all, есть ли в списке хотя бы одно четное число и все ли числа четные."
   ]
  },
  {
   "cell_type": "code",
   "execution_count": 50,
   "metadata": {},
   "outputs": [
    {
     "name": "stdin",
     "output_type": "stream",
     "text": [
      " 30 20 10 -120 -2 -12 -51 23\n"
     ]
    },
    {
     "name": "stdout",
     "output_type": "stream",
     "text": [
      "[30, 20, 10, 23]\n",
      "[27000, 8000, 1000, 12167]\n",
      "Есть хотя бы одно четное число\n"
     ]
    }
   ],
   "source": [
    "sp_count = input().split()\n",
    "sp_count1 = [int(sp_count[i]) for i in range(len(sp_count))]\n",
    "sp_sp = list(filter(lambda w: w > 0, sp_count1))\n",
    "sp_sp_sp_sp = list(map(lambda x: x**3, sp_sp))\n",
    "print(sp_sp)\n",
    "print(sp_sp_sp_sp)\n",
    "if all(x % 2 == 0 for x in sp_sp_sp_sp):\n",
    "    print(\"Все числа четные\")\n",
    "else:\n",
    "    if any(x % 2 == 0 for x in sp_sp_sp_sp):\n",
    "        print(\"Есть хотя бы одно четное число\")\n",
    "    else:\n",
    "        print(\"Все числа нечетные\")"
   ]
  },
  {
   "cell_type": "markdown",
   "metadata": {},
   "source": [
    "### Решение"
   ]
  },
  {
   "cell_type": "code",
   "execution_count": 19,
   "metadata": {},
   "outputs": [
    {
     "name": "stdin",
     "output_type": "stream",
     "text": [
      " 1 -2 3 -4 5\n"
     ]
    },
    {
     "name": "stdout",
     "output_type": "stream",
     "text": [
      "Нет чисел, делящихся на 2\n",
      "Не все числа делятся на 2\n",
      "[1, 27, 125]\n"
     ]
    }
   ],
   "source": [
    "llist = list(map(int, input().split()))\n",
    "\n",
    "llist = list(filter(lambda dig: dig > 0, llist))\n",
    "llist = list(map(lambda x: x**3, llist))\n",
    "\n",
    "if any(x % 2 == 0 for x in llist):\n",
    "    print(\"Есть хотя бы одно число, делящееся на 2\")\n",
    "else:\n",
    "    print(\"Нет чисел, делящихся на 2\")\n",
    "    \n",
    "if all(x % 2 == 0 for x in llist):\n",
    "    print(\"Все числа делятся на 2\")\n",
    "else:\n",
    "    print(\"Не все числа делятся на 2\")\n",
    "\n",
    "print(llist)"
   ]
  },
  {
   "cell_type": "markdown",
   "metadata": {
    "jp-MarkdownHeadingCollapsed": true
   },
   "source": [
    "## Задача E ― «Поиск позиций вхождений подстроки»"
   ]
  },
  {
   "cell_type": "markdown",
   "metadata": {},
   "source": [
    "Напишите функцию shift_by_index(s), которая принимает строку s, состоящую из строчных латинских букв (a-z), и возвращает новую строку той же длины, где:\n",
    "\n",
    "    Каждая буква заменяется на букву, сдвинутую вперёд по алфавиту на величину её индекса в строке. \n",
    "\n",
    "Пример:\n",
    "\n",
    "    s = \"abc\"\n",
    "\n",
    "    s_new = \"ace\""
   ]
  },
  {
   "cell_type": "code",
   "execution_count": 64,
   "metadata": {},
   "outputs": [
    {
     "name": "stdout",
     "output_type": "stream",
     "text": [
      "['a', 'u', 'g']\n"
     ]
    }
   ],
   "source": [
    "def shift_by_index(s):\n",
    "    alfab = \"abcdefghijklmnopqrstuvwxyz\"\n",
    "    s_new = \"\"\n",
    "    for i in range(len(s)):\n",
    "        b = alfab[alfab.index(s[i]) * 2 % 26]\n",
    "        s_new += b\n",
    "    return s_new\n",
    "shift_by = shift_by_index(\"akq\")\n",
    "print(list(shift_by))"
   ]
  },
  {
   "cell_type": "markdown",
   "metadata": {},
   "source": [
    "### Решение"
   ]
  },
  {
   "cell_type": "code",
   "execution_count": 4,
   "metadata": {},
   "outputs": [
    {
     "data": {
      "text/plain": [
       "'uwy'"
      ]
     },
     "execution_count": 4,
     "metadata": {},
     "output_type": "execute_result"
    }
   ],
   "source": [
    "def find_all_occurrences(text):\n",
    "\n",
    "    letters = 'abcdefghijklmnopqrstuvwxyz'\n",
    "    new_word = \"\"\n",
    "    for i, letter in enumerate(text):\n",
    "        new_word += letters[2*letters.index(letter) % 26]\n",
    "    return new_word\n",
    "\n",
    "find_all_occurrences(\"xyz\")"
   ]
  }
 ],
 "metadata": {
  "colab": {
   "provenance": []
  },
  "kernelspec": {
   "display_name": "Python 3 (ipykernel)",
   "language": "python",
   "name": "python3"
  },
  "language_info": {
   "codemirror_mode": {
    "name": "ipython",
    "version": 3
   },
   "file_extension": ".py",
   "mimetype": "text/x-python",
   "name": "python",
   "nbconvert_exporter": "python",
   "pygments_lexer": "ipython3",
   "version": "3.12.2"
  }
 },
 "nbformat": 4,
 "nbformat_minor": 4
}
