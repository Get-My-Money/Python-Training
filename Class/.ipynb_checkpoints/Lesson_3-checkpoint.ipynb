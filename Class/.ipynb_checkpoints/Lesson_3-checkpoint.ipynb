{
 "cells": [
  {
   "cell_type": "markdown",
   "metadata": {},
   "source": [
    "# Урок 3"
   ]
  },
  {
   "cell_type": "markdown",
   "metadata": {},
   "source": [
    "## Списки, их методы и примеры"
   ]
  },
  {
   "cell_type": "code",
   "execution_count": 1,
   "metadata": {},
   "outputs": [
    {
     "data": {
      "text/plain": [
       "[1, 'uols', True]"
      ]
     },
     "execution_count": 1,
     "metadata": {},
     "output_type": "execute_result"
    }
   ],
   "source": [
    "lst = []\n",
    "lst = [1,2,3]\n",
    "lst = [1,\"uols\", True]\n",
    "lst"
   ]
  },
  {
   "cell_type": "code",
   "execution_count": 2,
   "metadata": {},
   "outputs": [
    {
     "data": {
      "text/plain": [
       "[1, 'uols', True, 23, '1743', '56', '56', 111, 12]"
      ]
     },
     "execution_count": 2,
     "metadata": {},
     "output_type": "execute_result"
    }
   ],
   "source": [
    "lst.append(23)\n",
    "lst.extend([\"1743\", \"56\", \"56\"])\n",
    "lst += [111,12]\n",
    "lst"
   ]
  },
  {
   "cell_type": "code",
   "execution_count": 3,
   "metadata": {},
   "outputs": [
    {
     "name": "stdout",
     "output_type": "stream",
     "text": [
      "[1, 'uols', True, 18, 23, '1743', '56', '56', 111, 12]\n",
      "[1, 'uols', 89, 18, 23, '1743', '56', '56', 111, 12]\n"
     ]
    }
   ],
   "source": [
    "lst.insert(3, 18)\n",
    "print(lst)\n",
    "lst[2] = 89\n",
    "print(lst)"
   ]
  },
  {
   "cell_type": "code",
   "execution_count": 4,
   "metadata": {},
   "outputs": [
    {
     "name": "stdout",
     "output_type": "stream",
     "text": [
      "[1, 'uols', 89, 18, 23, '1743', '56', '56', 111]\n",
      "[1, 'uols', 89, 18, '1743', '56', '56', 111]\n",
      "[1, 'uols', 89, 18, '1743', '56', 111]\n"
     ]
    },
    {
     "data": {
      "text/plain": [
       "[1, 'uols', 18, '1743', '56', 111]"
      ]
     },
     "execution_count": 4,
     "metadata": {},
     "output_type": "execute_result"
    }
   ],
   "source": [
    "lst.pop()\n",
    "print(lst)\n",
    "lst.pop(4)\n",
    "print(lst)\n",
    "lst.remove(\"56\")\n",
    "print(lst)\n",
    "del lst[2]\n",
    "lst"
   ]
  },
  {
   "cell_type": "code",
   "execution_count": 5,
   "metadata": {},
   "outputs": [
    {
     "name": "stdout",
     "output_type": "stream",
     "text": [
      "uols\n",
      "111\n",
      "[18, '1743']\n",
      "[1, 18, '56']\n",
      "[18, '1743']\n"
     ]
    }
   ],
   "source": [
    "print(lst[1])\n",
    "print(lst[-1])\n",
    "print(lst[2:4])\n",
    "print(lst[::2])\n",
    "print(lst[-4:-2])"
   ]
  },
  {
   "cell_type": "code",
   "execution_count": 6,
   "metadata": {},
   "outputs": [
    {
     "name": "stdout",
     "output_type": "stream",
     "text": [
      "[1, 2, 13, 2, 56, 34, 78, 22, 5]\n",
      "[1, 2, 2, 5, 13, 22, 34, 56, 78]\n",
      "[1, 2, 2, 5, 13, 22, 34, 56, 78]\n",
      "[78, 56, 34, 22, 13, 5, 2, 2, 1]\n"
     ]
    },
    {
     "data": {
      "text/plain": [
       "6"
      ]
     },
     "execution_count": 6,
     "metadata": {},
     "output_type": "execute_result"
    }
   ],
   "source": [
    "a = [1,2,13,2,56,34,78,22,5]\n",
    "sorted(a)\n",
    "print(a)\n",
    "print(sorted(a))\n",
    "a.sort()\n",
    "print(a)\n",
    "a.reverse()\n",
    "print(a)\n",
    "a.index(2)"
   ]
  },
  {
   "cell_type": "code",
   "execution_count": 7,
   "metadata": {},
   "outputs": [
    {
     "name": "stdout",
     "output_type": "stream",
     "text": [
      "15:50:25\n"
     ]
    },
    {
     "data": {
      "text/plain": [
       "['15', '50', '25']"
      ]
     },
     "execution_count": 7,
     "metadata": {},
     "output_type": "execute_result"
    }
   ],
   "source": [
    "clock = \"15:50:25\"\n",
    "ss = clock.split(\":\")\n",
    "print(clock)\n",
    "ss"
   ]
  },
  {
   "cell_type": "code",
   "execution_count": 8,
   "metadata": {},
   "outputs": [
    {
     "name": "stdout",
     "output_type": "stream",
     "text": [
      "['My', 'name', 'is', 'Zmark']\n",
      "My-name-is-Zmark\n",
      "Список после добавления числа 67: ['My', 'name', 'is', 'Zmark', 67]\n",
      "Список после добавления вложенного списка: ['My', 'name', 'is', 'Zmark', 67, ['another', 'list', 'is', 'there']]\n",
      "Элемент [5]: ['another', 'list', 'is', 'there']\n",
      "Срез внутри вложенного списка [5][1][2:]: st\n",
      "Сколько раз 54 встречается в списке: 0\n"
     ]
    }
   ],
   "source": [
    "text = \"My name is Zmark\"\n",
    "yy = text.split()\n",
    "print(yy)\n",
    "qw = '-'.join(yy)\n",
    "print(qw)\n",
    "\n",
    "yy.append(67)\n",
    "print(\"Список после добавления числа 67:\", yy)\n",
    "\n",
    "yy.append(['another','list','is','there'])\n",
    "print(\"Список после добавления вложенного списка:\", yy)\n",
    "print(\"Элемент [5]:\", yy[5])\n",
    "print(\"Срез внутри вложенного списка [5][1][2:]:\", yy[5][1][2:])\n",
    "\n",
    "count_example = [5,5,12,45,54,2,12,12,45,54,54,54,54,54]\n",
    "print(\"Сколько раз 54 встречается в списке:\", count_example.count(25))"
   ]
  },
  {
   "cell_type": "code",
   "execution_count": 9,
   "metadata": {},
   "outputs": [
    {
     "data": {
      "text/plain": [
       "['help']"
      ]
     },
     "execution_count": 9,
     "metadata": {},
     "output_type": "execute_result"
    }
   ],
   "source": [
    "llist = []\n",
    "a = \"help\"\n",
    "\n",
    "llist.append(a)\n",
    "llist"
   ]
  },
  {
   "cell_type": "markdown",
   "metadata": {},
   "source": [
    "## Кортежи"
   ]
  },
  {
   "cell_type": "code",
   "execution_count": null,
   "metadata": {},
   "outputs": [],
   "source": [
    "t = ()\n",
    "t = (11, 12)\n",
    "t = (1, \"12\", False, 11.2, [1,2,5])\n",
    "print(t)"
   ]
  },
  {
   "cell_type": "code",
   "execution_count": null,
   "metadata": {},
   "outputs": [],
   "source": [
    "print(t[1])\n",
    "print(t[-1])\n",
    "print(t[2:4])\n",
    "print(t[::2])\n",
    "print(t[-4:-2])"
   ]
  },
  {
   "cell_type": "code",
   "execution_count": null,
   "metadata": {},
   "outputs": [],
   "source": [
    "t"
   ]
  },
  {
   "cell_type": "code",
   "execution_count": null,
   "metadata": {},
   "outputs": [],
   "source": [
    "list_t = list(t)\n",
    "print(list_t)\n",
    "t = tuple(list_t)\n",
    "print(t)"
   ]
  },
  {
   "cell_type": "code",
   "execution_count": null,
   "metadata": {},
   "outputs": [],
   "source": [
    "#t[0] = 5\n",
    "#t.append(15)"
   ]
  },
  {
   "cell_type": "markdown",
   "metadata": {},
   "source": [
    "## Множества"
   ]
  },
  {
   "cell_type": "code",
   "execution_count": 15,
   "metadata": {},
   "outputs": [
    {
     "name": "stdout",
     "output_type": "stream",
     "text": [
      "{1, 2, 3}\n",
      "{}\n",
      "{1, 2, 3, 5, 6, 7, 8, 9, 93}\n",
      "{1, 2, 3, 5, 6, 7, 8, 9, 93}\n",
      "{3, 5, 6, 7, 8, 9, 93}\n"
     ]
    }
   ],
   "source": [
    "s = {1,2,3}\n",
    "print(s)\n",
    "s = {}\n",
    "print(s)\n",
    "s = set([2,2,2,1,1,1,3,7,7,8,9,93,1,1,2,2,5,5])\n",
    "s.add(1)\n",
    "s.add(6)\n",
    "print(s)\n",
    "s.update([7,8,9])\n",
    "print(s)\n",
    "s.remove(1) # c ошибкой\n",
    "s.discard(2) # без ошибкой\n",
    "print(s)"
   ]
  },
  {
   "cell_type": "code",
   "execution_count": 16,
   "metadata": {},
   "outputs": [
    {
     "name": "stdout",
     "output_type": "stream",
     "text": [
      "[11.0, 22, 16, 'dfsfsd', True, 11, 11.1, 16, 22, 16]\n",
      "{True, 11.0, 11.1, 16, 'dfsfsd', 22}\n",
      "[True, 11.0, 11.1, 16, 'dfsfsd', 22]\n"
     ]
    }
   ],
   "source": [
    "llist = [11.0,22,16,\"dfsfsd\", True, 11, 11.1, 16, 22, 16]\n",
    "print(llist)\n",
    "s_list = set(llist)\n",
    "print(s_list)\n",
    "llist = list(s_list)\n",
    "print(llist)"
   ]
  },
  {
   "cell_type": "markdown",
   "metadata": {},
   "source": [
    "## Циклы while/for"
   ]
  },
  {
   "cell_type": "code",
   "execution_count": 17,
   "metadata": {},
   "outputs": [
    {
     "name": "stdout",
     "output_type": "stream",
     "text": [
      "0 1 2 3 4 "
     ]
    }
   ],
   "source": [
    "for i in range(5):\n",
    "    print(i, end=' ')"
   ]
  },
  {
   "cell_type": "code",
   "execution_count": 18,
   "metadata": {},
   "outputs": [
    {
     "name": "stdout",
     "output_type": "stream",
     "text": [
      "2 3 4 "
     ]
    }
   ],
   "source": [
    "for i in range(2, 5):\n",
    "    print(i, end=' ')"
   ]
  },
  {
   "cell_type": "code",
   "execution_count": 19,
   "metadata": {},
   "outputs": [
    {
     "name": "stdout",
     "output_type": "stream",
     "text": [
      "1 4 9 16 25 "
     ]
    }
   ],
   "source": [
    "a = [1,4,9,16,25]\n",
    "for i in range(len(a)):\n",
    "    print(a[i], end=' ')"
   ]
  },
  {
   "cell_type": "code",
   "execution_count": 20,
   "metadata": {},
   "outputs": [
    {
     "name": "stdin",
     "output_type": "stream",
     "text": [
      "N =  8\n"
     ]
    },
    {
     "name": "stdout",
     "output_type": "stream",
     "text": [
      "1\n",
      "8\n",
      "27\n",
      "64\n",
      "125\n",
      "216\n",
      "343\n",
      "512\n"
     ]
    }
   ],
   "source": [
    "N = int(input(\"N = \"))\n",
    "for k in range(1, N+1):\n",
    "    print(k**3)"
   ]
  },
  {
   "cell_type": "code",
   "execution_count": 21,
   "metadata": {},
   "outputs": [
    {
     "name": "stdout",
     "output_type": "stream",
     "text": [
      "0\n",
      "56\n",
      "25\n",
      " \n",
      "2\n",
      "56\n",
      "25\n",
      " \n",
      "4\n",
      "56\n",
      "25\n",
      " \n",
      "6\n",
      "56\n",
      "25\n",
      " \n",
      "8\n",
      "56\n",
      "25\n",
      " \n"
     ]
    }
   ],
   "source": [
    "for i in range(10):\n",
    "    if i % 2 != 0:\n",
    "        continue\n",
    "    print(i)\n",
    "    print(56)\n",
    "    print(25)\n",
    "    print(\" \")"
   ]
  },
  {
   "cell_type": "code",
   "execution_count": 22,
   "metadata": {},
   "outputs": [
    {
     "name": "stdout",
     "output_type": "stream",
     "text": [
      "1\n",
      "2\n",
      "3\n",
      "4\n",
      "5\n",
      "6\n",
      "7\n",
      "8\n"
     ]
    }
   ],
   "source": [
    "for i in range(1, 20):\n",
    "    if i % 9 == 0:\n",
    "        break\n",
    "    print(i)"
   ]
  },
  {
   "cell_type": "code",
   "execution_count": 26,
   "metadata": {},
   "outputs": [
    {
     "name": "stdout",
     "output_type": "stream",
     "text": [
      "a\n",
      "b\n",
      "c\n",
      "d\n",
      "e\n",
      "f\n",
      " \n",
      " \n",
      "s\n",
      "i\n",
      "u\n",
      "d\n",
      "f\n",
      "a\n",
      "o\n",
      "i\n",
      "s\n",
      "j\n",
      "d\n",
      "o\n",
      "i\n",
      " \n",
      "w\n",
      "q\n",
      "o\n",
      "j\n",
      "d\n",
      "j\n",
      "s\n",
      "d\n",
      "o\n",
      "a\n",
      "s\n",
      " \n",
      "s\n",
      "f\n",
      "o\n",
      "a\n",
      "k\n",
      "f\n",
      "s\n",
      "d\n",
      "12\n",
      "14\n",
      "16\n",
      "77\n",
      "22\n"
     ]
    }
   ],
   "source": [
    "text = \"abcdef  siudfaoisjdoi wqojdjsdoas sfoakfsd\"\n",
    "llist = [12,14,16,77,\"22\"]\n",
    "\n",
    "for elem in text:\n",
    "    print(elem)\n",
    "\n",
    "for elem in llist:\n",
    "    print(elem)"
   ]
  },
  {
   "cell_type": "code",
   "execution_count": 27,
   "metadata": {},
   "outputs": [
    {
     "name": "stdout",
     "output_type": "stream",
     "text": [
      "10\n",
      "9\n",
      "8\n",
      "7\n",
      "6\n",
      "5\n",
      "4\n",
      "3\n",
      "2\n",
      "1\n",
      "🚀 Поехали!\n"
     ]
    }
   ],
   "source": [
    "# Счётчик от 10 до 1\n",
    "i = 10\n",
    "while i > 0:\n",
    "    print(i)\n",
    "    i -= 1\n",
    "print(\"🚀 Поехали!\")"
   ]
  },
  {
   "cell_type": "markdown",
   "metadata": {},
   "source": [
    "## Итоговая мини-задача"
   ]
  },
  {
   "cell_type": "markdown",
   "metadata": {},
   "source": [
    "Аналитика оценок»\n",
    "Дан список целых оценок grades = [4,5,3,5,2,4,5,3]\n",
    "\n",
    "Вывести процент отличных (5) и неудовл. (<3).\n",
    "\n",
    "Удалить повторяющиеся оценки, вывести отсортированный кортеж уникальных.\n",
    "\n",
    "Проверить, есть ли оценки, отсутствующие в диапазоне 2‥5."
   ]
  },
  {
   "cell_type": "code",
   "execution_count": 28,
   "metadata": {},
   "outputs": [
    {
     "name": "stdout",
     "output_type": "stream",
     "text": [
      "[1, 2, 3, 3, 4, 4, 5, 5, 5]\n",
      "9\n",
      "33.33333333333333\n",
      "11.11111111111111\n"
     ]
    }
   ],
   "source": [
    "grades = [4,5,3,5,2,1,4,5,3]\n",
    "grades.sort()\n",
    "print(grades)\n",
    "count_example = [4,5,3,5,2,1,4,5,3]\n",
    "coll = (len(count_example))\n",
    "print(coll)\n",
    "clas = count_example.count(5)\n",
    "nice = clas/coll * 100\n",
    "print(nice)\n",
    "nonice = count_example.count(2)\n",
    "dva = nonice/coll * 100\n",
    "print(dva)"
   ]
  }
 ],
 "metadata": {
  "colab": {
   "provenance": []
  },
  "kernelspec": {
   "display_name": "Python 3 (ipykernel)",
   "language": "python",
   "name": "python3"
  },
  "language_info": {
   "codemirror_mode": {
    "name": "ipython",
    "version": 3
   },
   "file_extension": ".py",
   "mimetype": "text/x-python",
   "name": "python",
   "nbconvert_exporter": "python",
   "pygments_lexer": "ipython3",
   "version": "3.12.2"
  }
 },
 "nbformat": 4,
 "nbformat_minor": 4
}
