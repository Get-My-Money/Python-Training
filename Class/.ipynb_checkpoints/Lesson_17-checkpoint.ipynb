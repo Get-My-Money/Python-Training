{
 "cells": [
  {
   "cell_type": "markdown",
   "metadata": {},
   "source": [
    "# Урок 17"
   ]
  },
  {
   "cell_type": "markdown",
   "metadata": {
    "jp-MarkdownHeadingCollapsed": true
   },
   "source": [
    "## Классы и метод их инициализации"
   ]
  },
  {
   "cell_type": "code",
   "execution_count": 1,
   "metadata": {},
   "outputs": [],
   "source": [
    "class Student:\n",
    "    def __init__(self, name, age):\n",
    "        self.name = name  # атрибут объекта\n",
    "        self.age = age    # атрибут объекта"
   ]
  },
  {
   "cell_type": "code",
   "execution_count": 5,
   "metadata": {},
   "outputs": [],
   "source": [
    "student1 = Student(\"Алиса\", 20)\n",
    "#print(student1.name)  \n",
    "#print(student1.age)   "
   ]
  },
  {
   "cell_type": "markdown",
   "metadata": {
    "jp-MarkdownHeadingCollapsed": true
   },
   "source": [
    "## Атрибуты класса"
   ]
  },
  {
   "cell_type": "code",
   "execution_count": 29,
   "metadata": {},
   "outputs": [],
   "source": [
    "class Student:\n",
    "    university = \"МГУ\"  # атрибут класса\n",
    "    total_students = 0  # счётчик студентов\n",
    "\n",
    "    def __init__(self, name, age):\n",
    "        self.name = name\n",
    "        self.age = age\n",
    "        Student.total_students += 1 "
   ]
  },
  {
   "cell_type": "code",
   "execution_count": null,
   "metadata": {},
   "outputs": [],
   "source": [
    "student1 = Student(\"Алиса\", 20)\n",
    "student2 = Student(\"Боб\", 19)\n",
    "\n",
    "print(Student.university)         \n",
    "print(Student.total_students)   "
   ]
  },
  {
   "cell_type": "markdown",
   "metadata": {
    "jp-MarkdownHeadingCollapsed": true
   },
   "source": [
    "## Методы класса и их типы"
   ]
  },
  {
   "cell_type": "markdown",
   "metadata": {},
   "source": [
    "Обычные методы"
   ]
  },
  {
   "cell_type": "code",
   "execution_count": 10,
   "metadata": {},
   "outputs": [],
   "source": [
    "class TV:\n",
    "    def __init__(self, channel=1):\n",
    "        self.channel = channel\n",
    "    \n",
    "    # Обычный метод: работает с текущим объектом\n",
    "    def change_channel(self, new_channel):\n",
    "        print(f\"Переключаем с {self.channel} на {new_channel}\")\n",
    "        self.channel = new_channel"
   ]
  },
  {
   "cell_type": "code",
   "execution_count": null,
   "metadata": {},
   "outputs": [],
   "source": [
    "# Создаём два телевизора и проверяем метод на них\n",
    "tv1 = TV(5)\n",
    "tv2 = TV(10)\n",
    "\n",
    "tv1.change_channel(7)  \n",
    "tv2.change_channel(12) "
   ]
  },
  {
   "cell_type": "markdown",
   "metadata": {},
   "source": [
    "Методы класса (@classmethod)"
   ]
  },
  {
   "cell_type": "code",
   "execution_count": 12,
   "metadata": {},
   "outputs": [],
   "source": [
    "class Car:\n",
    "    total_cars = 0  # атрибут класса (общий для всех)\n",
    "\n",
    "    def __init__(self, model):\n",
    "        self.model = model\n",
    "        Car.total_cars += 1\n",
    "    \n",
    "    # Метод класса: работает с классом\n",
    "    @classmethod\n",
    "    def get_total(cls):\n",
    "        return f\"Всего произведено: {cls.total_cars} машин\"\n",
    "\n",
    "    # Альтернативный конструктор\n",
    "    @classmethod\n",
    "    def from_year(cls, year):\n",
    "        return cls(f\"Модель-{year}\")  # создаём объект через cls"
   ]
  },
  {
   "cell_type": "code",
   "execution_count": null,
   "metadata": {},
   "outputs": [],
   "source": [
    "# Используем метод класса\n",
    "car1 = Car(\"Tesla\")\n",
    "car2 = Car(\"BMW\")\n",
    "print(Car.get_total()) \n",
    "\n",
    "# Создаём объект через метод класса\n",
    "car3 = Car.from_year(2024)\n",
    "print(car3.model)  "
   ]
  },
  {
   "cell_type": "markdown",
   "metadata": {},
   "source": [
    "Статические методы (@staticmethod)"
   ]
  },
  {
   "cell_type": "code",
   "execution_count": 26,
   "metadata": {},
   "outputs": [],
   "source": [
    "class BankAccount:\n",
    "    def __init__(self, balance):\n",
    "        self.balance = balance\n",
    "    \n",
    "    # Статический метод: никак не использует к класс/объект\n",
    "    @staticmethod\n",
    "    def balance_amount(amount):\n",
    "        if amount <= 0:\n",
    "            return \"Ошибка: сумма должна быть положительной\"\n",
    "        return True\n",
    "\n",
    "    def deposit(self, amount):\n",
    "        validation = self.balance_amount(self.balance)\n",
    "        if validation is True:\n",
    "            self.balance += amount\n",
    "        else:\n",
    "            print(validation)"
   ]
  },
  {
   "cell_type": "code",
   "execution_count": null,
   "metadata": {},
   "outputs": [],
   "source": [
    "print(BankAccount.balance_amount(-100))\n",
    "\n",
    "# Создаём объект и пополняем счёт\n",
    "account = BankAccount(1000)\n",
    "account.deposit(-1500)"
   ]
  },
  {
   "cell_type": "markdown",
   "metadata": {
    "jp-MarkdownHeadingCollapsed": true
   },
   "source": [
    "## Наследование"
   ]
  },
  {
   "cell_type": "code",
   "execution_count": 34,
   "metadata": {},
   "outputs": [],
   "source": [
    "# Базовый класс\n",
    "class Person:\n",
    "    def __init__(self, name, age):\n",
    "        self.name = name\n",
    "        self.age = age\n",
    "        self.gender = None\n",
    "    \n",
    "    def introduce(self):\n",
    "        print(f\"Привет! Меня зовут {self.name}, мне {self.age} лет.\")\n",
    "    \n",
    "    def celebrate_birthday(self):\n",
    "        self.age += 1\n",
    "        print(f\"С Днём рождения, {self.name}! Теперь тебе {self.age} лет.\")"
   ]
  },
  {
   "cell_type": "code",
   "execution_count": 35,
   "metadata": {},
   "outputs": [],
   "source": [
    "# Дочерний класс — студент\n",
    "class Student(Person):\n",
    "    def __init__(self, name, age, student_id, major=\"Компьютерные науки\"):\n",
    "        super().__init__(name, age) \n",
    "        self.student_id = student_id\n",
    "        self.major = major\n",
    "        self.grades = []\n",
    "        self.courses = []\n",
    "    \n",
    "    def add_grade(self, course, grade):\n",
    "        if 1 <= grade <= 5:\n",
    "            self.grades.append(grade)\n",
    "            self.courses.append(course)\n",
    "            print(f\"Добавлена оценка {grade} по {course}\")\n",
    "        else:\n",
    "            print(\"Ошибка: оценка должна быть от 1 до 5\")\n",
    "    \n",
    "    def get_transcript(self):\n",
    "        if not self.courses:\n",
    "            return \"Нет записей в зачётке\"\n",
    "        \n",
    "        transcript = \"Зачётка:\\n\"\n",
    "        for i, (course, grade) in enumerate(zip(self.courses, self.grades), 1):\n",
    "            transcript += f\"{i}. {course}: {grade}\\n\"\n",
    "        transcript += f\"Средний балл: {self.get_average_grade():.2f}\"\n",
    "        return transcript\n",
    "    \n",
    "    def get_average_grade(self):\n",
    "        return sum(self.grades) / len(self.grades) if self.grades else 0\n",
    "    \n",
    "    # Переопределяем метод introduce из родительского класса\n",
    "    def introduce(self):\n",
    "        super().introduce()  # Вызываем оригинальный метод\n",
    "        print(f\"Я студент {self.major} с ID: {self.student_id}\")"
   ]
  },
  {
   "cell_type": "code",
   "execution_count": 36,
   "metadata": {},
   "outputs": [],
   "source": [
    "# Ещё один дочерний класс — преподаватель\n",
    "class Teacher(Person):\n",
    "    def __init__(self, name, age, subject, salary):\n",
    "        super().__init__(name, age)\n",
    "        self.subject = subject\n",
    "        self.salary = salary\n",
    "        self.courses = []\n",
    "    \n",
    "    def assign_course(self, course_name):\n",
    "        self.courses.append(course_name)\n",
    "        print(f\"{self.name} назначен преподавать {course_name}\")\n",
    "    \n",
    "    def evaluate_student(self, student, course, grade):\n",
    "        if course in self.courses:\n",
    "            student.add_grade(course, grade)\n",
    "        else:\n",
    "            print(f\"Ошибка: {self.name} не преподаёт {course}\")"
   ]
  },
  {
   "cell_type": "code",
   "execution_count": null,
   "metadata": {},
   "outputs": [],
   "source": [
    "# Создаём обычного человека\n",
    "person1 = Person(\"Алиса\", 34)\n",
    "person1.introduce()\n",
    "\n",
    "# Создаём студента\n",
    "student1 = Student(\"Яша\", 21, \"S1001\", \"Математика\")\n",
    "student1.introduce()\n",
    "\n",
    "# Добавляем оценки\n",
    "student1.add_grade(\"Алгебра\", 5)\n",
    "student1.add_grade(\"Матанализ\", 4)\n",
    "print(student1.get_transcript())\n",
    "\n",
    "# Создаём преподавателя\n",
    "teacher1 = Teacher(\"Профессор Иванов\", 45, \"Математический анализ\", 100000)\n",
    "teacher1.assign_course(\"Матанализ\")\n",
    "teacher1.evaluate_student(student1, \"Матанализ\", 5)"
   ]
  },
  {
   "cell_type": "markdown",
   "metadata": {
    "jp-MarkdownHeadingCollapsed": true
   },
   "source": [
    "## Практика: Создаём класс «Студент»"
   ]
  },
  {
   "cell_type": "code",
   "execution_count": 38,
   "metadata": {},
   "outputs": [],
   "source": [
    "class Shop:\n",
    "    city = \"Оренбург\"\n",
    "    total_shops = 0\n",
    "\n",
    "    def __init__(self, name, costs, income):\n",
    "        self.name = name\n",
    "        self.income = income"
   ]
  },
  {
   "cell_type": "code",
   "execution_count": 37,
   "metadata": {},
   "outputs": [
    {
     "name": "stdout",
     "output_type": "stream",
     "text": [
      "B:/Python projects/Python-Training/Files/example0.txt\n",
      "B:/Python projects/Python-Training/Files/example1.txt\n",
      "B:/Python projects/Python-Training/Files/example2.txt\n",
      "B:/Python projects/Python-Training/Files/example3.txt\n",
      "B:/Python projects/Python-Training/Files/example4.txt\n",
      "B:/Python projects/Python-Training/Files/example5.txt\n",
      "B:/Python projects/Python-Training/Files/example6.txt\n",
      "B:/Python projects/Python-Training/Files/example7.txt\n",
      "B:/Python projects/Python-Training/Files/example8.txt\n",
      "B:/Python projects/Python-Training/Files/example9.txt\n"
     ]
    }
   ],
   "source": [
    "for i in range(10):\n",
    "    start_file = 'B:/Python projects/Python-Training/Files/example'\n",
    "    fin_file = '.txt'\n",
    "    file_path = start_file + str(i) + fin_file\n",
    "    print(file_path)"
   ]
  }
 ],
 "metadata": {
  "colab": {
   "provenance": []
  },
  "kernelspec": {
   "display_name": "Python 3 (ipykernel)",
   "language": "python",
   "name": "python3"
  },
  "language_info": {
   "codemirror_mode": {
    "name": "ipython",
    "version": 3
   },
   "file_extension": ".py",
   "mimetype": "text/x-python",
   "name": "python",
   "nbconvert_exporter": "python",
   "pygments_lexer": "ipython3",
   "version": "3.12.2"
  }
 },
 "nbformat": 4,
 "nbformat_minor": 4
}
