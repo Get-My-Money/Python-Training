{
 "cells": [
  {
   "cell_type": "markdown",
   "metadata": {},
   "source": [
    "# Урок 9"
   ]
  },
  {
   "cell_type": "markdown",
   "metadata": {
    "jp-MarkdownHeadingCollapsed": true
   },
   "source": [
    "## Определение функции и область видимости"
   ]
  },
  {
   "cell_type": "code",
   "execution_count": 1,
   "metadata": {},
   "outputs": [
    {
     "name": "stdout",
     "output_type": "stream",
     "text": [
      "Hello, Maks!\n"
     ]
    }
   ],
   "source": [
    "def greet(name):\n",
    "    msg = f\"Hello, {name}!\" # Локальная переменная\n",
    "    return msg\n",
    "\n",
    "print(greet('Maks')) # Фунцкия что-то возвращает"
   ]
  },
  {
   "cell_type": "code",
   "execution_count": 2,
   "metadata": {},
   "outputs": [
    {
     "name": "stdout",
     "output_type": "stream",
     "text": [
      "Hello, Maks!\n",
      "None\n"
     ]
    }
   ],
   "source": [
    "def greet(name):\n",
    "    msg = f\"Hello, {name}!\" # Локальная переменная\n",
    "    print(msg)\n",
    "\n",
    "print(greet('Maks')) # Фунцкия ничего не возвращает"
   ]
  },
  {
   "cell_type": "markdown",
   "metadata": {
    "jp-MarkdownHeadingCollapsed": true
   },
   "source": [
    "## Аргументы функций и спобобы их введения"
   ]
  },
  {
   "cell_type": "code",
   "execution_count": 3,
   "metadata": {},
   "outputs": [
    {
     "name": "stdout",
     "output_type": "stream",
     "text": [
      "5\n",
      "5\n",
      "5\n"
     ]
    }
   ],
   "source": [
    "# Простейшая функция\n",
    "def add(a, b):\n",
    "    return a + b\n",
    "\n",
    "print(add(2, 3))\n",
    "print(add(a=2, b=3))\n",
    "print(add(b=3, a=2))"
   ]
  },
  {
   "cell_type": "code",
   "execution_count": 6,
   "metadata": {},
   "outputs": [
    {
     "name": "stdout",
     "output_type": "stream",
     "text": [
      "25\n",
      "25\n",
      "25\n",
      "125\n",
      "125\n",
      "125\n"
     ]
    }
   ],
   "source": [
    "def power(x, exp=2):\n",
    "    return x**exp\n",
    "\n",
    "print(power(5,2))\n",
    "print(power(x = 5))\n",
    "print(power(5)) \n",
    "print(power(5, 3))\n",
    "print(power(x = 5, exp = 3))\n",
    "print(power(exp = 3, x = 5))"
   ]
  },
  {
   "cell_type": "code",
   "execution_count": null,
   "metadata": {},
   "outputs": [],
   "source": [
    "# Фунция без аргуметов\n",
    "def foo():\n",
    "    inner = 100\n",
    "    return inner\n",
    "\n",
    "print(foo())"
   ]
  },
  {
   "cell_type": "markdown",
   "metadata": {
    "jp-MarkdownHeadingCollapsed": true
   },
   "source": [
    "## Докстринги и аннотации"
   ]
  },
  {
   "cell_type": "code",
   "execution_count": 8,
   "metadata": {},
   "outputs": [
    {
     "name": "stdout",
     "output_type": "stream",
     "text": [
      "None\n",
      "1.7499999999999998\n",
      "3.8095238095238098 \n",
      "\n",
      "\n",
      "Help on function divide in module __main__:\n",
      "\n",
      "divide(a: int, b: int) -> float\n",
      "    Делит a на b и возвращает частное.\n",
      "    Если b == 0, возвращает None.\n",
      "\n"
     ]
    }
   ],
   "source": [
    "# Функция с пояснениями\n",
    "def divide(a: int, b: int) -> float:\n",
    "    \"\"\"\n",
    "    Делит a на b и возвращает частное.\n",
    "    Если b == 0, возвращает None.\n",
    "    \"\"\"\n",
    "    if b == 0:\n",
    "        return None\n",
    "    return a / b\n",
    "\n",
    "print(divide(10, 0))  \n",
    "print(divide(5.6, 3.2))  \n",
    "print(divide(10/3, 7/8), \"\\n\\n\")\n",
    "help(divide)"
   ]
  },
  {
   "cell_type": "markdown",
   "metadata": {
    "jp-MarkdownHeadingCollapsed": true
   },
   "source": [
    "## Рекурсия и вложенные функции"
   ]
  },
  {
   "cell_type": "code",
   "execution_count": 44,
   "metadata": {},
   "outputs": [],
   "source": [
    "def factorial(n):\n",
    "    if type(n) != int or n < 0:\n",
    "        print(\"Введите целое неотрицательное число\")\n",
    "        return\n",
    "    elif n <= 1:\n",
    "        return 1\n",
    "    return n * factorial(n - 1)\n",
    "\n",
    "factorial(5)"
   ]
  },
  {
   "cell_type": "code",
   "execution_count": 9,
   "metadata": {},
   "outputs": [
    {
     "name": "stdout",
     "output_type": "stream",
     "text": [
      "10\n"
     ]
    }
   ],
   "source": [
    "def get_int_digit(n):\n",
    "    return n\n",
    "\n",
    "def make_multiplier(factor):\n",
    "    def multiply(x):\n",
    "        return get_int_digit(x) * factor\n",
    "    return multiply\n",
    "\n",
    "doubler = make_multiplier(2)\n",
    "print(doubler(5))"
   ]
  },
  {
   "cell_type": "markdown",
   "metadata": {
    "jp-MarkdownHeadingCollapsed": true
   },
   "source": [
    "## Лямбда-функции и функциональные приёмы"
   ]
  },
  {
   "cell_type": "code",
   "execution_count": 10,
   "metadata": {},
   "outputs": [
    {
     "name": "stdout",
     "output_type": "stream",
     "text": [
      "25\n"
     ]
    }
   ],
   "source": [
    "square = lambda x: x*x\n",
    "print(square(5)) "
   ]
  },
  {
   "cell_type": "code",
   "execution_count": 12,
   "metadata": {},
   "outputs": [
    {
     "name": "stdout",
     "output_type": "stream",
     "text": [
      "[2, 4, 6, 8]\n"
     ]
    }
   ],
   "source": [
    "nums = [1,2,3,4]\n",
    "print(list(map(lambda x: x*2, nums)))   "
   ]
  },
  {
   "cell_type": "markdown",
   "metadata": {
    "jp-MarkdownHeadingCollapsed": true
   },
   "source": [
    "## Локальные и глобальные переменные"
   ]
  },
  {
   "cell_type": "code",
   "execution_count": 13,
   "metadata": {},
   "outputs": [
    {
     "name": "stdout",
     "output_type": "stream",
     "text": [
      "В foo, x = 10\n",
      "В основном коде, x = 10\n"
     ]
    }
   ],
   "source": [
    "# Чтение глобальной переменной внутри функции\n",
    "x = 10\n",
    "\n",
    "def foo():\n",
    "    print(\"В foo, x =\", x)\n",
    "\n",
    "foo()\n",
    "print(\"В основном коде, x =\", x) "
   ]
  },
  {
   "cell_type": "code",
   "execution_count": 14,
   "metadata": {},
   "outputs": [
    {
     "name": "stdout",
     "output_type": "stream",
     "text": [
      "В bar, локальная y = 20\n",
      "После bar, глобальная y = 5\n"
     ]
    }
   ],
   "source": [
    "# Локальная переменная и попытка записи в глобальную\n",
    "y = 5\n",
    "\n",
    "def bar():\n",
    "    y = 20 \n",
    "    print(\"В bar, локальная y =\", y)\n",
    "\n",
    "bar()  \n",
    "print(\"После bar, глобальная y =\", y)  "
   ]
  },
  {
   "cell_type": "code",
   "execution_count": 15,
   "metadata": {},
   "outputs": [
    {
     "name": "stdout",
     "output_type": "stream",
     "text": [
      "В increment, counter = 1\n",
      "В increment, counter = 2\n",
      "В основном коде, counter = 2\n"
     ]
    }
   ],
   "source": [
    "# Изменение глобальной через ключевое слово global\n",
    "counter = 0\n",
    "\n",
    "def increment():\n",
    "    global counter      \n",
    "    counter += 1        \n",
    "    print(\"В increment, counter =\", counter)\n",
    "\n",
    "increment()  \n",
    "increment()  \n",
    "print(\"В основном коде, counter =\", counter)"
   ]
  },
  {
   "cell_type": "code",
   "execution_count": 16,
   "metadata": {},
   "outputs": [
    {
     "name": "stdout",
     "output_type": "stream",
     "text": [
      "count = 2\n"
     ]
    }
   ],
   "source": [
    "# Избегаем global через возвращаемое значение\n",
    "count = 0\n",
    "\n",
    "def inc(c):\n",
    "    return c + 1\n",
    "\n",
    "count = inc(count)\n",
    "count = inc(count)\n",
    "print(\"count =\", count)"
   ]
  },
  {
   "cell_type": "markdown",
   "metadata": {
    "jp-MarkdownHeadingCollapsed": true
   },
   "source": [
    "## Работа с встроенными и не только модулями"
   ]
  },
  {
   "cell_type": "code",
   "execution_count": 32,
   "metadata": {},
   "outputs": [],
   "source": [
    "import math # Импортируем весь модуль\n",
    "from math import * # Импортируем весь модуль без прямого обращения к нему\n",
    "from math import sqrt, factorial # Импортируем конкретные фунцкции модуля\n",
    "import numpy as np # Меняем локальное имя обращения модуля\n",
    "pip install numpy # Скачиваем новый модуль на компьютер(в командной строке)\n",
    "!pip install numpy # Скачиваем новый модуль на google colab"
   ]
  },
  {
   "cell_type": "code",
   "execution_count": 35,
   "metadata": {},
   "outputs": [
    {
     "data": {
      "text/plain": [
       "array([1, 1, 2, 2, 2, 5, 5, 8, 9])"
      ]
     },
     "execution_count": 35,
     "metadata": {},
     "output_type": "execute_result"
    }
   ],
   "source": [
    "a = 9\n",
    "math.sqrt(a)\n",
    "fabs(5)\n",
    "np.sort([1,2,5,1,2,8,9,5,2])"
   ]
  },
  {
   "cell_type": "markdown",
   "metadata": {
    "jp-MarkdownHeadingCollapsed": true
   },
   "source": [
    "## Итоговая мини-задача"
   ]
  },
  {
   "cell_type": "markdown",
   "metadata": {},
   "source": [
    "Напишите функцию calculate(a, b, op=\"+\"), которая:\n",
    "\n",
    "op == \"+\" → возвращает a+b\n",
    "\n",
    "\"-\" → a-b\n",
    "\n",
    "* → a*b\n",
    "\n",
    "\"/\" → a/b (если b==0, вернуть None)\n",
    "\n",
    "иначе → None"
   ]
  },
  {
   "cell_type": "code",
   "execution_count": 43,
   "metadata": {},
   "outputs": [],
   "source": [
    "def calculate(a, b, op=\"+\"):\n",
    "    if op == \"+\":\n",
    "        return a+b\n",
    "    if op == \"-\":\n",
    "        return a-b \n",
    "    if op == \"*\":\n",
    "        return a*b\n",
    "    if op == \"/\":\n",
    "        if b == 0:\n",
    "            return None\n",
    "        else:\n",
    "            return a/b"
   ]
  },
  {
   "cell_type": "code",
   "execution_count": 44,
   "metadata": {},
   "outputs": [
    {
     "name": "stdout",
     "output_type": "stream",
     "text": [
      "None\n",
      "20\n",
      "0.8\n",
      "9\n",
      "-1\n"
     ]
    }
   ],
   "source": [
    "print(calculate(4, 0, \"/\"))\n",
    "print(calculate(4, 5, \"*\"))\n",
    "print(calculate(4, 5, \"/\"))\n",
    "print(calculate(4, 5, \"+\"))\n",
    "print(calculate(4, 5, \"-\"))"
   ]
  }
 ],
 "metadata": {
  "colab": {
   "provenance": []
  },
  "kernelspec": {
   "display_name": "Python 3 (ipykernel)",
   "language": "python",
   "name": "python3"
  },
  "language_info": {
   "codemirror_mode": {
    "name": "ipython",
    "version": 3
   },
   "file_extension": ".py",
   "mimetype": "text/x-python",
   "name": "python",
   "nbconvert_exporter": "python",
   "pygments_lexer": "ipython3",
   "version": "3.12.2"
  }
 },
 "nbformat": 4,
 "nbformat_minor": 4
}
