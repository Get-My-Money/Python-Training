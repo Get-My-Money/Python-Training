{
 "cells": [
  {
   "cell_type": "markdown",
   "metadata": {},
   "source": [
    "# Урок 11"
   ]
  },
  {
   "cell_type": "markdown",
   "metadata": {},
   "source": [
    "## Задача T1 ― «Разделение строки по гласным с сохранением порядка»"
   ]
  },
  {
   "cell_type": "markdown",
   "metadata": {},
   "source": [
    "Напишите функцию split_by_vowels(s: str) -> list[str], которая разбивает строку s на подстроки, разделяя её по гласным буквам (a, e, i, o, u, y).\n",
    "Разделители не включаются в результат.\n",
    "Регистр символов не имеет значения.\n",
    "\n",
    "Пример:\n",
    "\n",
    "    split_by_vowels(\"PythonEducation\") → ['P', 'th', 'n', 'd', 'c', 't', 'n']"
   ]
  },
  {
   "cell_type": "code",
   "execution_count": 25,
   "metadata": {},
   "outputs": [
    {
     "data": {
      "text/plain": [
       "['pP', 'th', 'n', 'd', 'c', 't', 'nzzz']"
      ]
     },
     "execution_count": 25,
     "metadata": {},
     "output_type": "execute_result"
    }
   ],
   "source": [
    "def split_by_vowels(word):\n",
    "    vowels_letter = \"aoeuyiAOEUYI\"\n",
    "    new_list = []\n",
    "    c = -1\n",
    "    for i in range(len(word)):\n",
    "        if word[i] in vowels_letter and i == c:\n",
    "            c += 1\n",
    "        elif word[i] in vowels_letter:\n",
    "            if len(word[c+1:i]) != 0:\n",
    "                new_list.append(word[c+1:i])\n",
    "            c = i\n",
    "    if len(word[c+1:i]) != 0:\n",
    "        new_list.append(word[c+1:])\n",
    "\n",
    "    return new_list\n",
    "\n",
    "split_by_vowels(\"eepPythonEducationzzzee\")"
   ]
  },
  {
   "cell_type": "markdown",
   "metadata": {},
   "source": [
    "### Решение"
   ]
  },
  {
   "cell_type": "code",
   "execution_count": 51,
   "metadata": {},
   "outputs": [
    {
     "name": "stdout",
     "output_type": "stream",
     "text": [
      "['P', 'th', 'n', 'd', 'c', 't', 'n']\n"
     ]
    }
   ],
   "source": [
    "def split_by_vowels(word):\n",
    "    vowel_letters = \"aeiouyAEIOUY\"\n",
    "    consonants_list = []\n",
    "    c = 0\n",
    "    for i in range(len(word)):\n",
    "        if word[i] in vowel_letters and c == i:\n",
    "            c += 1\n",
    "        elif word[i] in vowel_letters:\n",
    "            consonants_list.append(word[c:i])\n",
    "            c = i+1\n",
    "    if len(word[c:]) != 0:\n",
    "        consonants_list.append(word[c:])\n",
    "    return consonants_list\n",
    "    \n",
    "print(split_by_vowels(\"PythonEducation\"))      "
   ]
  },
  {
   "cell_type": "markdown",
   "metadata": {},
   "source": [
    "## Задача T2 ― «Очистка списка от повторов по ключу»"
   ]
  },
  {
   "cell_type": "markdown",
   "metadata": {},
   "source": [
    "Напишите функцию unique_dicts(lst: list, key: str) -> list, которая из списка словарей оставляет только первое появление каждого уникального значения по ключу key.\n",
    "\n",
    "Пример:\n",
    "\n",
    "    data = [{\"id\": 1, \"name\": \"A\"}, {\"id\": 2, \"name\": \"B\"}, {\"id\": 1, \"name\": \"C\"}]\n",
    "\n",
    "    unique_dicts(data, \"id\") → [{'id': 1, 'name': 'A'}, {'id': 2, 'name': 'B'}]"
   ]
  },
  {
   "cell_type": "code",
   "execution_count": 28,
   "metadata": {},
   "outputs": [
    {
     "data": {
      "text/plain": [
       "[{'id': 1, 'name': 'A'}, {'id': 2, 'name': 'B'}, {'id': 1, 'name': 'C'}]"
      ]
     },
     "execution_count": 28,
     "metadata": {},
     "output_type": "execute_result"
    }
   ],
   "source": [
    "def unique_dicts(dict_list, key):\n",
    "    new_dict_list = []\n",
    "    seen_pairs = []\n",
    "    for d in dict_list:\n",
    "        if tuple([d[key], key]) not in seen_pairs:\n",
    "            seen_pairs.append(tuple([d[key], key]))\n",
    "            new_dict_list.append(d)\n",
    "\n",
    "    return new_dict_list\n",
    "\n",
    "data = [{\"id\": 1, \"name\": \"A\"}, {\"id\": 2, \"name\": \"B\"}, {\"id\": 1, \"name\": \"C\"}]\n",
    "unique_dicts(data, \"name\")"
   ]
  },
  {
   "cell_type": "markdown",
   "metadata": {
    "jp-MarkdownHeadingCollapsed": true
   },
   "source": [
    "### Решение"
   ]
  },
  {
   "cell_type": "code",
   "execution_count": 50,
   "metadata": {},
   "outputs": [
    {
     "data": {
      "text/plain": [
       "[{'id': 1, 'name': 'A'}, {'id': 2, 'name': 'B'}]"
      ]
     },
     "execution_count": 50,
     "metadata": {},
     "output_type": "execute_result"
    }
   ],
   "source": [
    "def unique_dicts(data, key):\n",
    "    seen_pair = []\n",
    "    new_dict = []\n",
    "    for i, d in enumerate(data):\n",
    "        if tuple([key, d[key]]) not in seen_pair:\n",
    "            new_dict.append(d)\n",
    "            seen_pair.append(tuple([key, d[key]]))\n",
    "    return new_dict\n",
    "\n",
    "data = [{\"id\": 1, \"name\": \"A\"}, {\"id\": 2, \"name\": \"B\"}, {\"id\": 1, \"name\": \"C\"}]\n",
    "unique_dicts(data, \"id\")"
   ]
  },
  {
   "cell_type": "markdown",
   "metadata": {},
   "source": [
    "## Задача T3 ― «Группировка по первой+последней букве»"
   ]
  },
  {
   "cell_type": "markdown",
   "metadata": {},
   "source": [
    "Реализуйте функцию group_by_first_last_letter(words: list[str]) -> dict, которая группирует слова по первой и последней букве, игнорируя регистр, и возвращает словарь вида {буква: список слов}.\n",
    "\n",
    "Пример:\n",
    "\n",
    "    group_by_first_last_letter([\"Apple\", \"Arena\", \"anecdote\", \"aura\", \"I\", \"Area\", \"Asthma\", \"insabbatati\"]) → {'ae': ['Apple', 'anecdote'], 'aa': ['Arena', 'aura', 'Area', 'Asthma'], 'ii': ['I', 'insabbatati']}"
   ]
  },
  {
   "cell_type": "code",
   "execution_count": 34,
   "metadata": {},
   "outputs": [
    {
     "data": {
      "text/plain": [
       "{'ae': ['Apple', 'anecdote'],\n",
       " 'aa': ['Arena', 'aura', 'Area', 'Asthma'],\n",
       " 'ii': ['I', 'insabbatati']}"
      ]
     },
     "execution_count": 34,
     "metadata": {},
     "output_type": "execute_result"
    }
   ],
   "source": [
    "def group_by_first_last_letter(words):\n",
    "    new_dict = {}\n",
    "    for word in words:\n",
    "        try:\n",
    "            new_dict[word[0].lower() + word[-1].lower()].append(word)\n",
    "        except:\n",
    "            new_dict[word[0].lower() + word[-1].lower()] = [word]\n",
    "    return new_dict\n",
    "\n",
    "group_by_first_last_letter([\"Apple\", \"Arena\", \"anecdote\", \"aura\", \"I\", \"Area\", \"Asthma\", \"insabbatati\"])"
   ]
  },
  {
   "cell_type": "markdown",
   "metadata": {
    "jp-MarkdownHeadingCollapsed": true
   },
   "source": [
    "### Решение"
   ]
  },
  {
   "cell_type": "code",
   "execution_count": 49,
   "metadata": {},
   "outputs": [
    {
     "data": {
      "text/plain": [
       "{'ae': ['Apple', 'anecdote'],\n",
       " 'aa': ['Arena', 'aura', 'Area', 'Asthma'],\n",
       " 'ii': ['I', 'insabbatati']}"
      ]
     },
     "execution_count": 49,
     "metadata": {},
     "output_type": "execute_result"
    }
   ],
   "source": [
    "def group_by_first_last_letter(words):\n",
    "    word_dict = {}\n",
    "    for word in words:\n",
    "        try:\n",
    "            word_dict[word[0].lower() + word[-1].lower()].append(word)\n",
    "        except:\n",
    "            word_dict[word[0].lower() + word[-1].lower()] = [word]\n",
    "    return word_dict\n",
    "\n",
    "group_by_first_last_letter([\"Apple\", \"Arena\", \"anecdote\", \"aura\", \"I\", \"Area\", \"Asthma\", \"insabbatati\"])"
   ]
  },
  {
   "cell_type": "markdown",
   "metadata": {},
   "source": [
    "## Задача S1 ― «Удаление гласных из строки»"
   ]
  },
  {
   "cell_type": "markdown",
   "metadata": {},
   "source": [
    "Напишите функцию remove_vowels(s: str) -> str, которая возвращает строку без гласных букв (a, e, i, o, u, y), независимо от регистра.\n",
    "\n",
    "Пример:\n",
    "\n",
    "    remove_vowels(\"PythonEducation\") → \"Pthndctn\""
   ]
  },
  {
   "cell_type": "code",
   "execution_count": 40,
   "metadata": {},
   "outputs": [
    {
     "data": {
      "text/plain": [
       "'Pthndctn'"
      ]
     },
     "execution_count": 40,
     "metadata": {},
     "output_type": "execute_result"
    }
   ],
   "source": [
    "def remove_vowels(word):\n",
    "    \n",
    "    vowels_letter = \"aoeuyiAOEUYI\"\n",
    "    final_word =  \"\"\n",
    "    for letter in word:\n",
    "        if letter not in vowels_letter:\n",
    "             final_word = final_word + letter\n",
    "\n",
    "    return final_word\n",
    "\n",
    "remove_vowels(\"PythonEducation\")"
   ]
  },
  {
   "cell_type": "markdown",
   "metadata": {
    "jp-MarkdownHeadingCollapsed": true
   },
   "source": [
    "### Решение"
   ]
  },
  {
   "cell_type": "code",
   "execution_count": 48,
   "metadata": {},
   "outputs": [
    {
     "name": "stdout",
     "output_type": "stream",
     "text": [
      "Pthndctn\n"
     ]
    }
   ],
   "source": [
    "def remove_vowels(word):\n",
    "    vowel_letters = \"aeiouyAEIOUY\"\n",
    "    consonants_list = ''\n",
    "    c = 0\n",
    "    for i in range(len(word)):\n",
    "        if word[i] in vowel_letters and c == i:\n",
    "            c += 1\n",
    "        elif word[i] in vowel_letters:\n",
    "            consonants_list += word[c:i]\n",
    "            c = i+1\n",
    "    if len(word[c:]) != 0:\n",
    "        consonants_list += word[c:]\n",
    "    return consonants_list\n",
    "    \n",
    "print(remove_vowels(\"PythonEducation\")) "
   ]
  },
  {
   "cell_type": "markdown",
   "metadata": {},
   "source": [
    "## Задача S2 ― «Отбор уникальных значений»"
   ]
  },
  {
   "cell_type": "markdown",
   "metadata": {},
   "source": [
    "Функция unique_names(data: list) -> list принимает список словарей вида {\"name\": str} и возвращает список уникальных имён (в порядке появления).\n",
    "\n",
    "Пример:\n",
    "\n",
    "    unique_names([{\"name\": \"Alice\"}, {\"name\": \"Bob\"}, {\"name\": \"Alice\"}]) → ['Alice', 'Bob']"
   ]
  },
  {
   "cell_type": "code",
   "execution_count": 44,
   "metadata": {},
   "outputs": [
    {
     "data": {
      "text/plain": [
       "['Alice', 'Bob']"
      ]
     },
     "execution_count": 44,
     "metadata": {},
     "output_type": "execute_result"
    }
   ],
   "source": [
    "def unique_names(data):\n",
    "    unqiiue_name = []\n",
    "    for name in data:\n",
    "        if name[\"name\"] not in unqiiue_name:\n",
    "            unqiiue_name.append(name[\"name\"])\n",
    "\n",
    "    return unqiiue_name\n",
    "        \n",
    "        \n",
    "\n",
    "unique_names([{\"name\": \"Alice\"}, {\"name\": \"Bob\"}, {\"name\": \"Alice\"}])"
   ]
  },
  {
   "cell_type": "markdown",
   "metadata": {
    "jp-MarkdownHeadingCollapsed": true
   },
   "source": [
    "### Решение"
   ]
  },
  {
   "cell_type": "code",
   "execution_count": 42,
   "metadata": {},
   "outputs": [
    {
     "data": {
      "text/plain": [
       "['Alice', 'Bob']"
      ]
     },
     "execution_count": 42,
     "metadata": {},
     "output_type": "execute_result"
    }
   ],
   "source": [
    "def unique_names(data):\n",
    "    names = [list(data[i].values())[0] for i in range(len(data))]\n",
    "    unique_names = []\n",
    "    for name in names:\n",
    "        if name not in unique_names:\n",
    "            unique_names.append(name)\n",
    "    return unique_names\n",
    "\n",
    "unique_names([{\"name\": \"Alice\"}, {\"name\": \"Bob\"}, {\"name\": \"Alice\"}])"
   ]
  },
  {
   "cell_type": "markdown",
   "metadata": {},
   "source": [
    "## Задача S3 ― «Подсчёт последних букв»"
   ]
  },
  {
   "cell_type": "markdown",
   "metadata": {},
   "source": [
    "Реализуйте функцию count_last_letters(words: list[str]) -> dict, которая возвращает словарь, где ключ — последняя буква (в нижнем регистре), а значение — сколько раз она встречалась.\n",
    "\n",
    "Пример:\n",
    "\n",
    "    count_last_letters([\"python\", \"melon\", \"fun\", \"sun\"]) → {'n': 4}"
   ]
  },
  {
   "cell_type": "code",
   "execution_count": null,
   "metadata": {},
   "outputs": [],
   "source": []
  }
 ],
 "metadata": {
  "colab": {
   "provenance": []
  },
  "kernelspec": {
   "display_name": "Python 3 (ipykernel)",
   "language": "python",
   "name": "python3"
  },
  "language_info": {
   "codemirror_mode": {
    "name": "ipython",
    "version": 3
   },
   "file_extension": ".py",
   "mimetype": "text/x-python",
   "name": "python",
   "nbconvert_exporter": "python",
   "pygments_lexer": "ipython3",
   "version": "3.12.2"
  }
 },
 "nbformat": 4,
 "nbformat_minor": 4
}
