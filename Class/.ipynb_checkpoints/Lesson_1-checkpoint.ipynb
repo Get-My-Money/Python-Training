{
 "cells": [
  {
   "cell_type": "markdown",
   "metadata": {},
   "source": [
    "# Урок 1"
   ]
  },
  {
   "cell_type": "markdown",
   "metadata": {},
   "source": [
    "## Переменные и типы данных"
   ]
  },
  {
   "cell_type": "code",
   "execution_count": 154,
   "metadata": {},
   "outputs": [],
   "source": [
    "name = '\"Bob\"'\n",
    "age = 20\n",
    "height = 1.75"
   ]
  },
  {
   "cell_type": "code",
   "execution_count": 156,
   "metadata": {},
   "outputs": [
    {
     "name": "stdout",
     "output_type": "stream",
     "text": [
      "Имя: \"Bob\"\n",
      "Возраст: 20\n",
      "Рост: 1.75\n",
      "Тип name: <class 'str'>\n",
      "Тип age: <class 'int'>\n",
      "Тип height: <class 'float'>\n"
     ]
    }
   ],
   "source": [
    "print(\"Имя:\", name)\n",
    "print(\"Возраст:\", age)\n",
    "print(\"Рост:\", height)\n",
    "print(\"Тип name:\", type(name))\n",
    "print(\"Тип age:\", type(age))\n",
    "print(\"Тип height:\", type(height))"
   ]
  },
  {
   "cell_type": "markdown",
   "metadata": {},
   "source": [
    "## Вывод на экран, знакомство с print()"
   ]
  },
  {
   "cell_type": "code",
   "execution_count": 157,
   "metadata": {},
   "outputs": [
    {
     "name": "stdout",
     "output_type": "stream",
     "text": [
      "Hello, world! 25 1.75    Hello, world! 25 1.75    "
     ]
    }
   ],
   "source": [
    "print(\"Hello, world!\", 25, 1.75, end = \"    \")\n",
    "print(\"Hello, world!\", 25, 1.75, end = \"    \")"
   ]
  },
  {
   "cell_type": "code",
   "execution_count": 158,
   "metadata": {},
   "outputs": [
    {
     "name": "stdout",
     "output_type": "stream",
     "text": [
      "Hello, world!1743\n",
      "Hello, world!1743aboba\n"
     ]
    }
   ],
   "source": [
    "print(\"Hello, world!\", end = \"1743\\n\")\n",
    "print(\"Hello, world!\", \"aboba\", sep = \"1743\")"
   ]
  },
  {
   "cell_type": "code",
   "execution_count": 159,
   "metadata": {},
   "outputs": [
    {
     "name": "stdout",
     "output_type": "stream",
     "text": [
      "Пример с пробелами по умолчанию: 3 6 7 13 7\n",
      "Используем sep='###':###3###6###7###13###7\n",
      "Используем end='\\t^\\t':\t^\tПоследняя строка\n"
     ]
    }
   ],
   "source": [
    "print(\"Пример с пробелами по умолчанию:\", 3, 6, 7, 13, 7)\n",
    "print(\"Используем sep='###':\", 3, 6, 7, 13, 7, sep='###')\n",
    "print(\"Используем end='\\\\t^\\\\t':\", end='\\t^\\t')\n",
    "print(\"Последняя строка\")"
   ]
  },
  {
   "cell_type": "markdown",
   "metadata": {},
   "source": [
    "## Арифметические операции и ввод данных"
   ]
  },
  {
   "cell_type": "code",
   "execution_count": 7,
   "metadata": {},
   "outputs": [
    {
     "name": "stdin",
     "output_type": "stream",
     "text": [
      "Write length:  7\n",
      "Write Width:  2\n"
     ]
    }
   ],
   "source": [
    "a1 = input('Write length: ')  # просим ввести длину\n",
    "b1 = input('Write Width: ')   # просим ввести ширину\n",
    "\n",
    "a1 = float(a1)\n",
    "b1 = float(b1)"
   ]
  },
  {
   "cell_type": "code",
   "execution_count": 8,
   "metadata": {},
   "outputs": [
    {
     "name": "stdout",
     "output_type": "stream",
     "text": [
      "Square is 14.0\n",
      "Деление 3.5\n",
      "Целочисленное деление 3.0\n",
      "Остаток от деления 1.0\n",
      "Возведение в степень 49.0\n"
     ]
    }
   ],
   "source": [
    "area = b1 * a1\n",
    "print('Square is', area)\n",
    "print('Деление', a1/b1)\n",
    "print('Целочисленное деление', a1//b1)\n",
    "print('Остаток от деления', a1 % b1)\n",
    "print('Возведение в степень', a1 ** b1)"
   ]
  },
  {
   "cell_type": "markdown",
   "metadata": {},
   "source": [
    "## Строки и их методы"
   ]
  },
  {
   "cell_type": "code",
   "execution_count": 163,
   "metadata": {},
   "outputs": [
    {
     "name": "stdout",
     "output_type": "stream",
     "text": [
      "mY naMe Is ZMaRk\n",
      "Метод capitalize(): My name is zmark\n",
      "Метод upper(): MY NAME IS ZMARK\n",
      "Метод lower(): my name is zmark\n",
      "Метод swapcase(): My NAmE iS zmArK\n",
      "Метод title(): My Name Is Zmark\n"
     ]
    }
   ],
   "source": [
    "a = 'mY naMe Is ZMaRk'\n",
    "print(a)\n",
    "print(\"Метод capitalize():\", a.capitalize())\n",
    "print(\"Метод upper():\", a.upper())\n",
    "print(\"Метод lower():\", a.lower())\n",
    "print(\"Метод swapcase():\", a.swapcase())\n",
    "print(\"Метод title():\", a.title())"
   ]
  },
  {
   "cell_type": "code",
   "execution_count": 164,
   "metadata": {},
   "outputs": [
    {
     "name": "stdout",
     "output_type": "stream",
     "text": [
      "mY naMe Is ZMaRk\n"
     ]
    },
    {
     "data": {
      "text/plain": [
       "-1"
      ]
     },
     "execution_count": 164,
     "metadata": {},
     "output_type": "execute_result"
    }
   ],
   "source": [
    "print(a)\n",
    "a.rfind('gfgdfgd')"
   ]
  },
  {
   "cell_type": "code",
   "execution_count": 165,
   "metadata": {},
   "outputs": [
    {
     "name": "stdout",
     "output_type": "stream",
     "text": [
      "letters.isalpha(): False\n",
      "digits.isdigit(): False\n"
     ]
    }
   ],
   "source": [
    "letters = 'buksyrgbskyef6bsuefy'\n",
    "print(\"letters.isalpha():\", letters.isalpha())  # проверка, состоит ли строка только из букв\n",
    "\n",
    "digits = '438657h389'\n",
    "print(\"digits.isdigit():\", digits.isdigit())   # проверка, состоит ли строка только из цифр"
   ]
  },
  {
   "cell_type": "code",
   "execution_count": 167,
   "metadata": {},
   "outputs": [
    {
     "name": "stdout",
     "output_type": "stream",
     "text": [
      "Оригинальная строка: mY naMe Is ZMaRk\n",
      "Длина строки: 16\n",
      "12-й символ: Z\n",
      "Срез с 4 по 7 символ: naMe\n",
      "Срез с 5 символа до конца: aMe Is ZMaRk\n",
      "Каждый 3-й символ: mnesMk\n",
      "Символ с конца (минус 4): M\n",
      "Срез с конца ([-8:-6]): Is\n",
      "Поиск подстроки 'Me' методом .index(): 5\n",
      "Поиск подстроки 'Mu' методом .find(): -1\n",
      "Поиск первого 'M' слева методом .find(): 5\n",
      "Поиск 'M' справа (rfind): 12\n"
     ]
    }
   ],
   "source": [
    "print(\"Оригинальная строка:\", a)\n",
    "print(\"Длина строки:\", len(a))\n",
    "print(\"12-й символ:\", a[11])        # обращаем внимание, что индексация с нуля\n",
    "print(\"Срез с 4 по 7 символ:\", a[3:7])\n",
    "print(\"Срез с 5 символа до конца:\", a[4:])\n",
    "print(\"Каждый 3-й символ:\", a[::3])\n",
    "print(\"Символ с конца (минус 4):\", a[-4])\n",
    "print(\"Срез с конца ([-8:-6]):\", a[-8:-6])\n",
    "print(\"Поиск подстроки 'Me' методом .index():\", a.index('Me'))\n",
    "print(\"Поиск подстроки 'Mu' методом .find():\", a.find('Mu'))  # вернёт -1, если не найдёт\n",
    "print(\"Поиск первого 'M' слева методом .find():\", a.find('M'))\n",
    "print(\"Поиск 'M' справа (rfind):\", a.rfind('M'))"
   ]
  },
  {
   "cell_type": "markdown",
   "metadata": {},
   "source": [
    "## Логические операции, сравнения, конструкция if/else/elif"
   ]
  },
  {
   "cell_type": "code",
   "execution_count": 173,
   "metadata": {},
   "outputs": [
    {
     "name": "stdout",
     "output_type": "stream",
     "text": [
      "x == 10? True\n",
      "y > x? True\n",
      "(x < 5) or (y > 15)? True\n",
      "(x < 5) and (y > 15)? False\n",
      "not (x == 10)? False\n"
     ]
    }
   ],
   "source": [
    "x = 10\n",
    "y = 20\n",
    "print(\"x == 10?\", x == 10)\n",
    "print(\"y > x?\", y > x)\n",
    "print(\"(x < 5) or (y > 15)?\", (x < 5) or (y > 15))\n",
    "print(\"(x < 5) and (y > 15)?\", (x < 5) and (y > 15))\n",
    "print(\"not (x == 10)?\", not (x == 10))"
   ]
  },
  {
   "cell_type": "code",
   "execution_count": 3,
   "metadata": {},
   "outputs": [
    {
     "name": "stdin",
     "output_type": "stream",
     "text": [
      "Введите целое число:  0\n"
     ]
    },
    {
     "name": "stdout",
     "output_type": "stream",
     "text": [
      "Число равно нулю.\n"
     ]
    }
   ],
   "source": [
    "number = int(input(\"Введите целое число: \"))\n",
    "\n",
    "if number > 0:\n",
    "    print(\"Число положительное!\")\n",
    "elif number < 0:\n",
    "    print(\"Число отрицательное!\")   \n",
    "else:\n",
    "    print(\"Число равно нулю.\")"
   ]
  },
  {
   "cell_type": "code",
   "execution_count": 15,
   "metadata": {},
   "outputs": [
    {
     "name": "stdin",
     "output_type": "stream",
     "text": [
      " 16\n"
     ]
    },
    {
     "name": "stdout",
     "output_type": "stream",
     "text": [
      "Число а делится на 4, но не делится на 3\n"
     ]
    }
   ],
   "source": [
    "a = int(input())\n",
    "\n",
    "if a % 4 == 0 and a % 3 == 0:\n",
    "    print(\"Число а делится на 12\")\n",
    "elif a % 4 == 0 or a % 3 == 0:\n",
    "    if a % 4 == 0:\n",
    "        print(\"Число а делится на 4, но не делится на 3\")\n",
    "    else:\n",
    "        print(\"Число а делится на 3, но не делится на 4\")\n",
    "else:\n",
    "    print(\"Число а не делится ни на 3, ни на 4\")"
   ]
  },
  {
   "cell_type": "markdown",
   "metadata": {},
   "source": [
    "## Немного практики"
   ]
  },
  {
   "cell_type": "markdown",
   "metadata": {},
   "source": [
    "Задание:\n",
    "\n",
    "Запросить у пользователя строку (какой-нибудь текст),\n",
    "Проверить её длину,\n",
    "Преобразовать часть текста в верхний регистр,\n",
    "Выделить (через срез) какой-то участок,\n",
    "Вывести всё на экран с кастомным разделителем."
   ]
  },
  {
   "cell_type": "code",
   "execution_count": 5,
   "metadata": {},
   "outputs": [
    {
     "name": "stdin",
     "output_type": "stream",
     "text": [
      "Введите любую строку: great\n"
     ]
    },
    {
     "name": "stdout",
     "output_type": "stream",
     "text": [
      "Длина строки:->5->Строка с изменёным регистром->GREat\n"
     ]
    }
   ],
   "source": [
    "a=input(\"Введите любую строку:\")\n",
    "s = a[:3].upper() + a[3:]\n",
    "print(\"Длина строки:\", len(a), \"Строка с изменёным регистром\", s, sep = \"->\")"
   ]
  }
 ],
 "metadata": {
  "colab": {
   "provenance": []
  },
  "kernelspec": {
   "display_name": "Python 3 (ipykernel)",
   "language": "python",
   "name": "python3"
  },
  "language_info": {
   "codemirror_mode": {
    "name": "ipython",
    "version": 3
   },
   "file_extension": ".py",
   "mimetype": "text/x-python",
   "name": "python",
   "nbconvert_exporter": "python",
   "pygments_lexer": "ipython3",
   "version": "3.12.2"
  }
 },
 "nbformat": 4,
 "nbformat_minor": 4
}
