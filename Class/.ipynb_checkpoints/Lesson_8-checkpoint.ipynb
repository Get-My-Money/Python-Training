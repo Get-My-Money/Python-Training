{
 "cells": [
  {
   "cell_type": "markdown",
   "metadata": {},
   "source": [
    "# Урок 7"
   ]
  },
  {
   "cell_type": "markdown",
   "metadata": {
    "jp-MarkdownHeadingCollapsed": true
   },
   "source": [
    "## Задача A ― «Подсчёт слов»"
   ]
  },
  {
   "cell_type": "markdown",
   "metadata": {},
   "source": [
    "Пользователь вводит одну строку слов, разделённых пробелами.\n",
    "Нужно вывести, сколько раз каждое слово встретилось, игнорируя регистр.\n",
    "\n",
    "Ввод:\n",
    "\n",
    "a aa abC aa ac abc bcd a\n",
    "\n",
    "Вывод:\n",
    "\n",
    "ac 1\n",
    "\n",
    "a 2\n",
    "\n",
    "abc 2\n",
    "\n",
    "bcd 1\n",
    "\n",
    "aa 2"
   ]
  },
  {
   "cell_type": "code",
   "execution_count": 9,
   "metadata": {},
   "outputs": [
    {
     "name": "stdout",
     "output_type": "stream",
     "text": [
      "a 2\n",
      "aa 2\n",
      "abc 2\n",
      "ac 1\n",
      "bcd 1\n"
     ]
    }
   ],
   "source": [
    "text = input()\n",
    "words_count = {}\n",
    "seen = set()\n",
    "text = text.lower()\n",
    "text_list = text.split()\n",
    "for word in text_list:\n",
    "    if word in seen:\n",
    "        words_count[word] += 1\n",
    "    else:\n",
    "        seen.add(word)\n",
    "        words_count[word] = 1\n",
    "\n",
    "for word in words_count:\n",
    "    print(word, words_count[word])"
   ]
  },
  {
   "cell_type": "markdown",
   "metadata": {
    "jp-MarkdownHeadingCollapsed": true
   },
   "source": [
    "### Решение"
   ]
  },
  {
   "cell_type": "code",
   "execution_count": 1,
   "metadata": {},
   "outputs": [
    {
     "name": "stdin",
     "output_type": "stream",
     "text": [
      " a A a\n"
     ]
    },
    {
     "name": "stdout",
     "output_type": "stream",
     "text": [
      "a 3\n"
     ]
    }
   ],
   "source": [
    "a=[str(i) for i in input().lower().split()]\n",
    "d={}\n",
    "l=list(a)\n",
    "for i in l:\n",
    "    if i not in d:\n",
    "        d[i]=1\n",
    "    else:\n",
    "        d[i] += 1\n",
    "dl=list(d) \n",
    "for i in d.items():\n",
    "\ti=list(i)\n",
    "\tprint(i[0],i[1]) "
   ]
  },
  {
   "cell_type": "markdown",
   "metadata": {
    "jp-MarkdownHeadingCollapsed": true
   },
   "source": [
    "## Задача B ― «Работа с элементами словаря»"
   ]
  },
  {
   "cell_type": "markdown",
   "metadata": {},
   "source": [
    "Создайте словарь с количеством элементов не менее 5-ти. Поменяйте местами первый и последний элемент объекта. Удалите второй элемент. Добавьте в конец ключ «new_key» со значением «new_value». Выведите на печать итоговый словарь(не обязательно переделывать оригинальный словарь, можно создать новый с совершёнными изменениями).\n",
    "\n",
    "Оригинальный словарь: {1: 1, 2: 2, 3: 3, 4: 4, 5: 5}\n",
    "\n",
    "Новый словарь: {5: 5, 3: 3, 4: 4, 1: 1, 'new_key': 'new_value'}"
   ]
  },
  {
   "cell_type": "code",
   "execution_count": 24,
   "metadata": {},
   "outputs": [
    {
     "name": "stdout",
     "output_type": "stream",
     "text": [
      "{5: 5, 3: 3, 4: 4, 1: 1, 'new_key': 'new_value'}\n"
     ]
    }
   ],
   "source": [
    "original_dict = {1: 1, 2: 2, 3: 3, 4: 4, 5: 5}\n",
    "\n",
    "first_elem = list(original_dict.items())[0]\n",
    "last_elem = list(original_dict.items())[-1]\n",
    "\n",
    "del original_dict[list(original_dict)[1]]\n",
    "del original_dict[first_elem[0]]\n",
    "del original_dict[last_elem[0]]\n",
    "\n",
    "live_elements = list(original_dict.items())\n",
    "original_dict.clear()\n",
    "orig_element = [last_elem] + live_elements + [first_elem] + [('new_key', 'new_value')]\n",
    "original_dict.update(dict(orig_element))\n",
    "print(original_dict)"
   ]
  },
  {
   "cell_type": "markdown",
   "metadata": {
    "jp-MarkdownHeadingCollapsed": true
   },
   "source": [
    "### Решение"
   ]
  },
  {
   "cell_type": "code",
   "execution_count": 25,
   "metadata": {},
   "outputs": [
    {
     "data": {
      "text/plain": [
       "{5: 5, 3: 3, 4: 4, 1: 1, 'new_key': 'new_value'}"
      ]
     },
     "execution_count": 25,
     "metadata": {},
     "output_type": "execute_result"
    }
   ],
   "source": [
    "original_dict = {1: 1, 2: 2, 3: 3, 4: 4, 5: 5}\n",
    "original_dict_list = list(original_dict.items())\n",
    "new_list_order = original_dict_list[-1:] + original_dict_list[2:-1] + original_dict_list[:1] + [('new_key', 'new_value')]\n",
    "original_dict.clear()\n",
    "original_dict.update(dict(new_list_order))\n",
    "original_dict"
   ]
  },
  {
   "cell_type": "markdown",
   "metadata": {
    "jp-MarkdownHeadingCollapsed": true
   },
   "source": [
    "## Задача C ― «Слияние словарей»"
   ]
  },
  {
   "cell_type": "markdown",
   "metadata": {},
   "source": [
    "Есть два словаря количества в двух магазинах: store1 = {'pen': 5, 'notebook': 3, 'eraser': 4, 'sharpener': 5}, store2 = {'pen': 2, 'pencil': 10, 'eraser': 6}. Объедините их в один total, где для общих ключей сохраняется сумма значений, для уникальных — своё значение.\n",
    "\n",
    "Результат: {'pen':7, 'notebook':3, 'pencil':10, 'eraser': 10, 'sharpener': 5} (в любом порядке)"
   ]
  },
  {
   "cell_type": "code",
   "execution_count": 29,
   "metadata": {},
   "outputs": [
    {
     "name": "stdout",
     "output_type": "stream",
     "text": [
      "{'pen': 7, 'notebook': 3, 'eraser': 10, 'sharpener': 5, 'pencil': 10}\n"
     ]
    }
   ],
   "source": [
    "store1 = {'pen': 5, 'notebook': 3, 'eraser': 4, 'sharpener': 5}\n",
    "store2 = {'pen': 2, 'pencil': 10, 'eraser': 6}\n",
    "store1_keys = list(store1)\n",
    "store2_keys = list(store2)\n",
    "total = {}\n",
    "\n",
    "for key in store1_keys:\n",
    "    try:\n",
    "        store2[key]\n",
    "        total[key] = store1[key] + store2[key]\n",
    "    except:\n",
    "        total[key] = store1[key]\n",
    "\n",
    "for key in store2_keys:\n",
    "    try:\n",
    "        store1[key]\n",
    "    except:\n",
    "        total[key] = store2[key]\n",
    "\n",
    "print(total)"
   ]
  },
  {
   "cell_type": "markdown",
   "metadata": {
    "jp-MarkdownHeadingCollapsed": true
   },
   "source": [
    "### Решение"
   ]
  },
  {
   "cell_type": "code",
   "execution_count": 7,
   "metadata": {},
   "outputs": [
    {
     "name": "stdout",
     "output_type": "stream",
     "text": [
      "{'pen': 7, 'notebook': 3, 'eraser': 10, 'sharpener': 5, 'pencil': 10}\n"
     ]
    }
   ],
   "source": [
    "store1 = {'pen': 5, 'notebook': 3, 'eraser': 4, 'sharpener': 5}\n",
    "store2 = {'pen': 2, 'pencil': 10, 'eraser': 6}\n",
    "total = {}\n",
    "store1_keys = list(store1)\n",
    "store2_keys = list(store2)\n",
    "\n",
    "for key in store1_keys:\n",
    "    if key in store2_keys:\n",
    "        total[key] = store1[key] + store2[key]\n",
    "    else:\n",
    "        total[key] = store1[key]\n",
    "        \n",
    "for key in store2_keys:\n",
    "    if key not in store1_keys:\n",
    "        total[key] = store2[key]\n",
    "\n",
    "print(total)"
   ]
  },
  {
   "cell_type": "markdown",
   "metadata": {},
   "source": [
    "## Задача D ― «Удаление пар по условию»"
   ]
  },
  {
   "cell_type": "markdown",
   "metadata": {},
   "source": [
    "Пользователь вводит в одну строку пары ключ:значение через запятую в формате <слово:цифра,слово:цифра,...,слово:цифра>. Нужно создать словарь в котором ключ имеет > 5 символов в название и значение ключа целое число больше 0 и кратное 7. Считается что все ключи уникальные.\n",
    "\n",
    "Ввод:\n",
    "\n",
    "Mark:16,Zigzak:21,Artemov:-7,Artemov2:14,ELENA:7,hgtydrd:22,Zmark2002:35,      :28\n",
    "\n",
    "Вывод:\n",
    "{Zigzak:21, Artemov2:14, Zmark2002:35, '      ': '28'}"
   ]
  },
  {
   "cell_type": "code",
   "execution_count": 39,
   "metadata": {},
   "outputs": [
    {
     "name": "stdout",
     "output_type": "stream",
     "text": [
      "{'Zigzak': '21'}\n"
     ]
    }
   ],
   "source": [
    "pairs = \"Mark:16,Zigzak:21,Artemov:-7,Artemov2:14,ELENA:7,hgtydrd:22,Zmark2002:35,      :28\"\n",
    "pairs = pairs.split(\",\")\n",
    "output = {}\n",
    "letters = \"qwertyuiopasdfghjklzxcvbnmQWERTYUIOPASDFGHJKLZXCVBNM\"\n",
    "for pair in pairs:\n",
    "    pair = pair.split(\":\")\n",
    "    len_pair = len(pair[0])\n",
    "    counter = 0\n",
    "    for letter in pair[0]:\n",
    "        if letter in letters:\n",
    "            counter += 1\n",
    "    if counter == len_pair and len(pair[0]) > 5 and int(pair[1]) > 0 and int(pair[1]) % 7 == 0:\n",
    "        output[pair[0]] = pair[1]\n",
    "print(output)"
   ]
  },
  {
   "cell_type": "markdown",
   "metadata": {},
   "source": [
    "### Решение"
   ]
  },
  {
   "cell_type": "code",
   "execution_count": 38,
   "metadata": {},
   "outputs": [
    {
     "name": "stdin",
     "output_type": "stream",
     "text": [
      " Mark:16,Zigzak:21,Artemov:-7,Artemov2:14,ELENA:7,hgtydrd:22,Zmark2002:35,      :28\n"
     ]
    },
    {
     "data": {
      "text/plain": [
       "{'Zigzak': '21', 'Artemov2': '14', 'Zmark2002': '35', '      ': '28'}"
      ]
     },
     "execution_count": 38,
     "metadata": {},
     "output_type": "execute_result"
    }
   ],
   "source": [
    "words = input()\n",
    "words = words.split(\",\")\n",
    "sort_dict = {}\n",
    "\n",
    "for pair in words:\n",
    "    if len(pair.split(\":\")[0]) > 5 and int(pair.split(\":\")[1]) % 7 == 0 and int(pair.split(\":\")[1]) > 0:\n",
    "        sort_dict[pair.split(\":\")[0]] = pair.split(\":\")[1]\n",
    "sort_dict "
   ]
  },
  {
   "cell_type": "markdown",
   "metadata": {
    "jp-MarkdownHeadingCollapsed": true
   },
   "source": [
    "## Задача *E ― «Обновление продуктовой базы»"
   ]
  },
  {
   "cell_type": "markdown",
   "metadata": {},
   "source": [
    "Есть словарь: prices = {'apple':100, 'banana':80, 'orange':120}. В первой строке пользователь вводит кол-во операций. Затем n операций пользователь пишет команды: ADD <позиция> <цена> для добавления продукта с соответствуюшей ценой, DELETE <позиция> для удаления определенного продукта, UPDATE <позиция> <цена> для обновления цены определенного продукта. Если команду выполнить невозможно, то пользователю пишет <<Данную команду выполнить невозможно>>, иначе <<Команда успешно выполнена>>. После этого выводится обновленный словарь.\n",
    "\n",
    "Ввод:\n",
    "\n",
    "6\n",
    "\n",
    "ADD melon 50\n",
    "\n",
    "ADD apple 25\n",
    "\n",
    "DELETE apple\n",
    "\n",
    "DELETE apple\n",
    "\n",
    "UPDATE apple 16\n",
    "\n",
    "UPDATE banana 85\n",
    "\n",
    "Вывод:\n",
    "\n",
    "Команда успешно выполнена\n",
    "\n",
    "Данную команду выполнить невозможно\n",
    "\n",
    "Команда успешно выполнена\n",
    "\n",
    "Данную команду выполнить невозможно\n",
    "\n",
    "Данную команду выполнить невозможно\n",
    "\n",
    "Команда успешно выполнена\n",
    "\n",
    "{'banana':85, 'orange':120, 'melon':50}"
   ]
  },
  {
   "cell_type": "code",
   "execution_count": null,
   "metadata": {},
   "outputs": [],
   "source": []
  },
  {
   "cell_type": "markdown",
   "metadata": {
    "jp-MarkdownHeadingCollapsed": true
   },
   "source": [
    "### Решение"
   ]
  },
  {
   "cell_type": "code",
   "execution_count": null,
   "metadata": {},
   "outputs": [],
   "source": [
    "prices = {'apple': 100, 'banana': 80, 'orange': 120}\n",
    "\n",
    "n = int(input())\n",
    "\n",
    "for _ in range(n):\n",
    "    parts = input().split()\n",
    "    cmd = parts[0]\n",
    "    \n",
    "    if cmd == \"ADD\":\n",
    "        name, price = parts[1], int(parts[2])\n",
    "        if name in prices:\n",
    "            print(\"Данную команду выполнить невозможно\")\n",
    "        else:\n",
    "            prices[name] = price\n",
    "            print(\"Команда успешно выполнена\")\n",
    "    \n",
    "    elif cmd == \"DELETE\":\n",
    "        name = parts[1]\n",
    "        if name in prices:\n",
    "            del prices[name]\n",
    "            print(\"Команда успешно выполнена\")\n",
    "        else:\n",
    "            print(\"Данную команду выполнить невозможно\")\n",
    "    \n",
    "    elif cmd == \"UPDATE\":\n",
    "        name, price = parts[1], int(parts[2])\n",
    "        if name in prices:\n",
    "            prices[name] = price\n",
    "            print(\"Команда успешно выполнена\")\n",
    "        else:\n",
    "            print(\"Данную команду выполнить невозможно\")\n",
    "    \n",
    "    else:\n",
    "        # Если неизвестная команда\n",
    "        print(\"Данную команду выполнить невозможно\")\n",
    "\n",
    "items = \", \".join(f\"'{k}':{v}\" for k, v in prices.items())\n",
    "print(\"{\" + items + \"}\")\n"
   ]
  }
 ],
 "metadata": {
  "colab": {
   "provenance": []
  },
  "kernelspec": {
   "display_name": "Python 3 (ipykernel)",
   "language": "python",
   "name": "python3"
  },
  "language_info": {
   "codemirror_mode": {
    "name": "ipython",
    "version": 3
   },
   "file_extension": ".py",
   "mimetype": "text/x-python",
   "name": "python",
   "nbconvert_exporter": "python",
   "pygments_lexer": "ipython3",
   "version": "3.12.2"
  }
 },
 "nbformat": 4,
 "nbformat_minor": 4
}
