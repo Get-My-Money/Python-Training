{
 "cells": [
  {
   "cell_type": "markdown",
   "metadata": {},
   "source": [
    "# Урок 14"
   ]
  },
  {
   "cell_type": "markdown",
   "metadata": {
    "jp-MarkdownHeadingCollapsed": true
   },
   "source": [
    "## Открытие и чтение файла построчно"
   ]
  },
  {
   "cell_type": "code",
   "execution_count": 1,
   "metadata": {},
   "outputs": [
    {
     "name": "stdout",
     "output_type": "stream",
     "text": [
      "СЌС‚Рѕ РїСЂРѕСЃС‚Рѕ РІРµСЂС… \"РєСЂР°С‚РєРѕСЃС‚Рё\"))))))))))))) СЌС‚РѕР¶ РЅР°РґРѕ СѓРјРµСЃС‚РёС‚СЊ С‚РµРјСѓ СЂР°Р±РѕС‚С‹ СЃ С„Р°Р№Р»Р°РјРё РІ С‚Р°РєРѕРµ РјР°Р»СЋСЋСЃРµРЅСЊРєРѕРµ РІРёРґРµРѕ?!?\n",
      "\n",
      "РіРґРµ РѕР±СЉСЏСЃРЅРµРЅРёРµ СЂРµР¶РёРјРѕРІ РѕС‚РєСЂС‹С‚РёСЏ : r, w, a, r+, x, t, b... С‡РµРј РѕРЅРё РѕС‚Р»РёС‡Р°СЋС‚СЃСЏ Рё РєР°Рє Р±СѓРґРµС‚ СЃС‡РёС‚С‹РІР°С‚СЊСЃСЏ Рё Р·Р°РїРёСЃС‹РІР°С‚СЊСЃСЏ С„Р°Р№Р»?\n",
      "\n",
      "РЈРїРѕРјРёРЅСѓР»Рё РїСЂРѕ СЂР°Р·РЅРёС†Сѓ РјРµР¶РґСѓ РјР°РєРѕСЃ Рё РІРёРЅРґРѕР№ РїСЂРё СѓРєР°Р·Р°РЅРёРё РїСѓС‚Рё...РёРёРёРё= РІСЃС‘ РЅР° СЌС‚РѕРј!!! РіРґРµ РѕР±СЉСЏСЃРЅРµРЅРёСЏ РїСЂРѕ \"СЃС‹СЂС‹Рµ СЃС‚СЂРѕРєРё\"?\n",
      "\n",
      "Р“РґРµ?\n",
      "\n",
      "Р“РґРµ РїСЂРѕ С‚Рѕ С‡С‚Рѕ СЌС‚Рѕ Р±СѓРґСѓС‚ С‚РѕР»СЊРєРѕ С‚РµРєСЃС‚РѕРІС‹Рµ С„Р°Р№Р»С‹?\n",
      "\n",
      "Р“РґРµ С‚РёРї РєРѕРґРёСЂРѕРІРєРё????????????????????\n",
      "\n",
      "Р“РґРµ С‚Р° РјР°Р»Р°СЃС‚СЊ РєРѕРјР°РЅРґ? С‡С‚Рѕ РєСЂРѕРјРµ .readline() РЅРёС‡РµРіРѕ РЅРµ СЃСѓС‰РµСЃС‚РІСѓРµС‚ Рё РЅРµ РїСЂРёРјРµРЅСЏРµС‚СЃСЏ? РёР»Рё РјРѕР¶РµС‚ СЌС‚РѕС‚ СЂРёРґР»Р°Р№РЅ СЃР°РјС‹Р№ С‡Р°СЃС‚РѕСѓРїРѕС‚СЂРµР±РёРјС‹Р№?\n",
      "\n",
      "Р“РґРµ Р°С‚СЂРёР±СѓС‚С‹ С„Р°Р№Р»Р°?\n",
      "\n",
      "Р“РґРµ РѕР±СЉСЏСЃРЅРµРЅРёРµ РїСЂРѕ \"РєР°СЂРµС‚РєСѓ\" Рё С‚Рѕ РєР°Рє С„Р°Р№Р» СЃС‡РёС‚С‹РІР°РµС‚СЃСЏ? Р“РґРµ .seek() Рё .tell()??\n",
      "\n",
      "РіРґРµ СЃРїРѕСЃРѕР±С‹ Р·Р°РїРёСЃРё?\n",
      "\n",
      "РќСѓ СѓР¶ РїСЂРѕ Р·Р°РїРёСЃСЊ С‡РµСЂРµР· print РјРѕР¶РЅРѕ СѓР¶ Р±С‹Р»РѕР±С‹ СѓРїРѕРјСЏРЅСѓС‚СЊ, Р°?\n",
      "\n",
      "Р“РґРµ flash()..........?\n",
      "\n",
      "Р“РґРµ...........РјРЅРѕРіРѕ С‡РµРіРѕ РµС‰Рµ...............?\n",
      "\n",
      "Р”Р° РЅР° РєР°Р¶РґС‹Р№ РјРѕР№ \"Р“РґРµ?\" РЅСѓР¶РЅРѕ Р·Р°РїРёСЃР°С‚СЊ РІРёРґРµРѕ СЃ РґРµСЃСЏС‚РєРѕРј Р·Р°РґР°С‡ Рё РїСЂРёРјРµСЂРѕРІ!\n",
      "\n",
      "РќР° СЃР»РµРґСѓСЋС‰РµРј С€Р°РіРµ СЃ Р·Р°РґР°С‡Р°РјРё Р»СЋРґРё РѕРїСѓРїРµСЋС‚ РёС… СЂРµС€Р°С‚СЊ РІСЃРµРіРѕ Р»РёС€СЊ РїРѕСЃРјРѕС‚СЂРµРІ РІР°С€Рµ РІРёРґРµРѕ.\n",
      "\n"
     ]
    }
   ],
   "source": [
    "file = open(\"B:/Python projects/Python-Training/Files/example.txt\", 'r') \n",
    "print(file.read()) # read() читает содержимое файла\n",
    "file.close()"
   ]
  },
  {
   "cell_type": "code",
   "execution_count": 4,
   "metadata": {},
   "outputs": [
    {
     "name": "stdout",
     "output_type": "stream",
     "text": [
      "СЌС‚Рѕ РїСЂРѕСЃС‚Рѕ РІРµСЂС… \"РєСЂР°С‚РєРѕСЃС‚Рё\"))))))))))))) СЌС‚РѕР¶ РЅР°РґРѕ СѓРјРµСЃС‚РёС‚СЊ С‚РµРјСѓ СЂР°Р±РѕС‚С‹ СЃ С„Р°Р№Р»Р°РјРё РІ С‚Р°РєРѕРµ РјР°Р»СЋСЋСЃРµРЅСЊРєРѕРµ РІРёРґРµРѕ?!?\n",
      "\n",
      "РіРґРµ РѕР±СЉСЏСЃРЅРµРЅРёРµ СЂРµР¶РёРјРѕРІ РѕС‚РєСЂС‹С‚РёСЏ : r, w, a, r+, x, t, b... С‡РµРј РѕРЅРё РѕС‚Р»РёС‡Р°СЋС‚СЃСЏ Рё РєР°Рє Р±СѓРґРµС‚ СЃС‡РёС‚С‹РІР°С‚СЊСЃСЏ Рё Р·Р°РїРёСЃС‹РІР°С‚СЊСЃСЏ С„Р°Р№Р»?\n",
      "\n",
      "РЈРїРѕРјРёРЅСѓР»Рё РїСЂРѕ СЂР°Р·РЅРёС†Сѓ РјРµР¶РґСѓ РјР°РєРѕСЃ Рё РІРёРЅРґРѕР№ РїСЂРё СѓРєР°Р·Р°РЅРёРё РїСѓС‚Рё...РёРёРёРё= РІСЃС‘ РЅР° СЌС‚РѕРј!!! РіРґРµ РѕР±СЉСЏСЃРЅРµРЅРёСЏ РїСЂРѕ \"СЃС‹СЂС‹Рµ СЃС‚СЂРѕРєРё\"?\n",
      "\n",
      "Р“РґРµ?\n",
      "\n",
      "Р“РґРµ РїСЂРѕ С‚Рѕ С‡С‚Рѕ СЌС‚Рѕ Р±СѓРґСѓС‚ С‚РѕР»СЊРєРѕ С‚РµРєСЃС‚РѕРІС‹Рµ С„Р°Р№Р»С‹?\n",
      "\n",
      "Р“РґРµ С‚РёРї РєРѕРґРёСЂРѕРІРєРё????????????????????\n",
      "\n",
      "Р“РґРµ С‚Р° РјР°Р»Р°СЃС‚СЊ РєРѕРјР°РЅРґ? С‡С‚Рѕ РєСЂРѕРјРµ .readline() РЅРёС‡РµРіРѕ РЅРµ СЃСѓС‰РµСЃС‚РІСѓРµС‚ Рё РЅРµ РїСЂРёРјРµРЅСЏРµС‚СЃСЏ? РёР»Рё РјРѕР¶РµС‚ СЌС‚РѕС‚ СЂРёРґР»Р°Р№РЅ СЃР°РјС‹Р№ С‡Р°СЃС‚РѕСѓРїРѕС‚СЂРµР±РёРјС‹Р№?\n",
      "\n",
      "Р“РґРµ Р°С‚СЂРёР±СѓС‚С‹ С„Р°Р№Р»Р°?\n",
      "\n",
      "Р“РґРµ РѕР±СЉСЏСЃРЅРµРЅРёРµ РїСЂРѕ \"РєР°СЂРµС‚РєСѓ\" Рё С‚Рѕ РєР°Рє С„Р°Р№Р» СЃС‡РёС‚С‹РІР°РµС‚СЃСЏ? Р“РґРµ .seek() Рё .tell()??\n",
      "\n",
      "РіРґРµ СЃРїРѕСЃРѕР±С‹ Р·Р°РїРёСЃРё?\n",
      "\n",
      "РќСѓ СѓР¶ РїСЂРѕ Р·Р°РїРёСЃСЊ С‡РµСЂРµР· print РјРѕР¶РЅРѕ СѓР¶ Р±С‹Р»РѕР±С‹ СѓРїРѕРјСЏРЅСѓС‚СЊ, Р°?\n",
      "\n",
      "Р“РґРµ flash()..........?\n",
      "\n",
      "Р“РґРµ...........РјРЅРѕРіРѕ С‡РµРіРѕ РµС‰Рµ...............?\n",
      "\n",
      "Р”Р° РЅР° РєР°Р¶РґС‹Р№ РјРѕР№ \"Р“РґРµ?\" РЅСѓР¶РЅРѕ Р·Р°РїРёСЃР°С‚СЊ РІРёРґРµРѕ СЃ РґРµСЃСЏС‚РєРѕРј Р·Р°РґР°С‡ Рё РїСЂРёРјРµСЂРѕРІ!\n",
      "\n",
      "РќР° СЃР»РµРґСѓСЋС‰РµРј С€Р°РіРµ СЃ Р·Р°РґР°С‡Р°РјРё Р»СЋРґРё РѕРїСѓРїРµСЋС‚ РёС… СЂРµС€Р°С‚СЊ РІСЃРµРіРѕ Р»РёС€СЊ РїРѕСЃРјРѕС‚СЂРµРІ РІР°С€Рµ РІРёРґРµРѕ.\n"
     ]
    }
   ],
   "source": [
    "# Через with open(...) as file файл закрывается автоматически(безопаснее)\n",
    "file_name1 = \"B:/Python projects/Python-Training/Files/example.txt\"\n",
    "\n",
    "with open(file_name1, 'r') as file:\n",
    "    for line in file:\n",
    "        print(line.strip()) # strip() удаляет символы переноса строки"
   ]
  },
  {
   "cell_type": "markdown",
   "metadata": {
    "jp-MarkdownHeadingCollapsed": true
   },
   "source": [
    "## Режимы открытия файла"
   ]
  },
  {
   "cell_type": "code",
   "execution_count": 8,
   "metadata": {},
   "outputs": [
    {
     "name": "stdout",
     "output_type": "stream",
     "text": [
      "Ошибка: файл не найден!\n"
     ]
    }
   ],
   "source": [
    "# Режим 'r' (чтение)\n",
    "try:\n",
    "    with open('example.txt', 'r') as file:\n",
    "        content = file.read() \n",
    "        print(\"Содержимое файла:\")\n",
    "        print(content)\n",
    "        \n",
    "except FileNotFoundError:\n",
    "    print(\"Ошибка: файл не найден!\")"
   ]
  },
  {
   "cell_type": "code",
   "execution_count": 15,
   "metadata": {},
   "outputs": [
    {
     "name": "stdout",
     "output_type": "stream",
     "text": [
      "Файл успешно создан/перезаписан\n"
     ]
    }
   ],
   "source": [
    "# Режим 'w' (запись)\n",
    "file_name = \"B:/Python projects/Python-Training/Files/example2.txt\"\n",
    "with open(file_name, 'w') as file:\n",
    "    file.write(\"Первая строка\\n\")\n",
    "    file.write(\"Вторая строка\\n\")\n",
    "print(\"Файл успешно создан/перезаписан\")"
   ]
  },
  {
   "cell_type": "code",
   "execution_count": 29,
   "metadata": {},
   "outputs": [
    {
     "name": "stdout",
     "output_type": "stream",
     "text": [
      "Данные добавлены в конец файла\n"
     ]
    }
   ],
   "source": [
    "# Режим 'a' (добавление)\n",
    "with open(file_name, 'a') as file:\n",
    "    file.write(\"Дополнительная строка\\n\")\n",
    "    file.write(\"Еще одна строка\\n\")\n",
    "print(\"Данные добавлены в конец файла\")"
   ]
  },
  {
   "cell_type": "code",
   "execution_count": 38,
   "metadata": {},
   "outputs": [
    {
     "name": "stdout",
     "output_type": "stream",
     "text": [
      "Ошибка: файл уже существует!\n"
     ]
    }
   ],
   "source": [
    "# Режим 'x' (эксклюзивное создание)\n",
    "try:\n",
    "    # Пытается создать новый файл\n",
    "    with open(\"B:/Python projects/Python-Training/Files/example2.txt\", 'x') as file:\n",
    "        file.write(\"Это новый уникальный файл\\n\")\n",
    "    print(\"Файл успешно создан\")\n",
    "    \n",
    "except FileExistsError:\n",
    "    print(\"Ошибка: файл уже существует!\")"
   ]
  },
  {
   "cell_type": "code",
   "execution_count": 61,
   "metadata": {},
   "outputs": [
    {
     "name": "stdout",
     "output_type": "stream",
     "text": [
      "Исходное содержимое:\n",
      "разведанные добавлены в конецполнительная строка\n",
      "Еще одна строка\n",
      "\n",
      "Обновленное содержимое:\n",
      "\n",
      "приевтные добавлены в конецполнительная строка\n",
      "Еще одна строка\n"
     ]
    }
   ],
   "source": [
    "#Режим 'r+' (чтение и запись)\n",
    "try:\n",
    "    # Открытие для чтения и записи\n",
    "    with open(file_name, 'r+') as file:\n",
    "        # Чтение содержимого\n",
    "        content = file.read()\n",
    "        print(f\"Исходное содержимое:\\n{content}\", end = '\\n\\n')\n",
    "\n",
    "        file.seek(0)\n",
    "        file.write(\"\\nприевт\")\n",
    "        \n",
    "        # Перемещение в начало для чтения\n",
    "        file.seek(0)\n",
    "        print(f\"Обновленное содержимое:\\n{file.read()}\")\n",
    "        \n",
    "except FileNotFoundError:\n",
    "    print(\"Файл не найден!\")"
   ]
  },
  {
   "cell_type": "code",
   "execution_count": 75,
   "metadata": {},
   "outputs": [
    {
     "name": "stdout",
     "output_type": "stream",
     "text": [
      "Изображение успешно скопировано\n",
      "Заголовок PDF: b'%PDF-1.5\\n%'...\n"
     ]
    }
   ],
   "source": [
    "# Бинарный режим 'b'\n",
    "with open('B:/Python projects/Python-Training/Files/image.jpg', 'rb') as src_file:\n",
    "    image_data = src_file.read()\n",
    "    \n",
    "    with open('B:/Python projects/Python-Training/Files/copy_image.jpg', 'wb') as dest_file:\n",
    "        dest_file.write(image_data)\n",
    "        \n",
    "print(\"Изображение успешно скопировано\")\n",
    "\n",
    "# Чтение PDF-файла\n",
    "with open('B:/Python projects/Python-Training/Files/DE.pdf', 'rb') as pdf_file:\n",
    "    pdf_content = pdf_file.read(1024)  # первые 1024 байта\n",
    "    print(f\"Заголовок PDF: {pdf_content[:10]}...\")"
   ]
  },
  {
   "cell_type": "markdown",
   "metadata": {
    "jp-MarkdownHeadingCollapsed": true
   },
   "source": [
    "## Чтение из файла"
   ]
  },
  {
   "cell_type": "code",
   "execution_count": 79,
   "metadata": {},
   "outputs": [
    {
     "name": "stdout",
     "output_type": "stream",
     "text": [
      "это просто верх \"краткости\"))))))))))))) этож надо уместить тему работы с файлами в такое малююсенькое видео?!?\n",
      "\n",
      "где объяснение режимов открытия : r, w, a, r+, x, t, b... чем они отличаются и как будет считываться и записываться файл?\n",
      "\n",
      "Упоминули про разницу между макос и виндой при указании пути...ииии= всё на этом!!! где объяснения про \"сырые строки\"?\n",
      "\n",
      "Где?\n",
      "\n",
      "Где про то что это будут только текстовые файлы?\n",
      "\n",
      "Где тип кодировки????????????????????\n",
      "\n",
      "Где та маласть команд? что кроме .readline() ничего не существует и не применяется? или может этот ридлайн самый частоупотребимый?\n",
      "\n",
      "Где атрибуты файла?\n",
      "\n",
      "Где объяснение про \"каретку\" и то как файл считывается? Где .seek() и .tell()??\n",
      "\n",
      "где способы записи?\n",
      "\n",
      "Ну уж про запись через print можно уж былобы упомянуть, а?\n",
      "\n",
      "Где flash()..........?\n",
      "\n",
      "Где...........много чего еще...............?\n",
      "\n",
      "Да на каждый мой \"Где?\" нужно записать видео с десятком задач и примеров!\n",
      "\n",
      "На следующем шаге с задачами люди опупеют их решать всего лишь посмотрев ваше видео.\n",
      "\n"
     ]
    }
   ],
   "source": [
    "# Чтение файла в кодировке UTF-8\n",
    "with open(file_name1, 'r', encoding='utf-8') as f:\n",
    "    print(f.read())"
   ]
  },
  {
   "cell_type": "code",
   "execution_count": 83,
   "metadata": {},
   "outputs": [
    {
     "name": "stdout",
     "output_type": "stream",
     "text": [
      "это просто верх \"краткости\"))))))))))))) этож надо уместить тему работы с файлами в такое малююсенькое видео?!?\n",
      "\n"
     ]
    }
   ],
   "source": [
    "with open(file_name1, 'r', encoding='utf-8') as f:\n",
    "    print(f.readline())"
   ]
  },
  {
   "cell_type": "code",
   "execution_count": 88,
   "metadata": {},
   "outputs": [
    {
     "name": "stdout",
     "output_type": "stream",
     "text": [
      "['это просто верх \"краткости\"))))))))))))) этож надо уместить тему работы с файлами в такое малююсенькое видео?!?\\n', '\\n', 'где объяснение режимов открытия : r, w, a, r+, x, t, b... чем они отличаются и как будет считываться и записываться файл?\\n', '\\n', 'Упоминули про разницу между макос и виндой при указании пути...ииии= всё на этом!!! где объяснения про \"сырые строки\"?\\n', '\\n', 'Где?\\n', '\\n', 'Где про то что это будут только текстовые файлы?\\n', '\\n', 'Где тип кодировки????????????????????\\n', '\\n', 'Где та маласть команд? что кроме .readline() ничего не существует и не применяется? или может этот ридлайн самый частоупотребимый?\\n', '\\n', 'Где атрибуты файла?\\n', '\\n', 'Где объяснение про \"каретку\" и то как файл считывается? Где .seek() и .tell()??\\n', '\\n', 'где способы записи?\\n', '\\n', 'Ну уж про запись через print можно уж былобы упомянуть, а?\\n', '\\n', 'Где flash()..........?\\n', '\\n', 'Где...........много чего еще...............?\\n', '\\n', 'Да на каждый мой \"Где?\" нужно записать видео с десятком задач и примеров!\\n', '\\n', 'На следующем шаге с задачами люди опупеют их решать всего лишь посмотрев ваше видео.\\n']\n"
     ]
    }
   ],
   "source": [
    "with open(file_name1, 'r', encoding='utf-8') as f:\n",
    "    print(f.readlines())"
   ]
  },
  {
   "cell_type": "markdown",
   "metadata": {
    "jp-MarkdownHeadingCollapsed": true
   },
   "source": [
    "## Запись в файл"
   ]
  },
  {
   "cell_type": "code",
   "execution_count": 90,
   "metadata": {},
   "outputs": [],
   "source": [
    "with open(file_name, 'w', encoding='utf-8') as f:\n",
    "    print(\"Hello, file!\", file=f)"
   ]
  },
  {
   "cell_type": "code",
   "execution_count": 92,
   "metadata": {},
   "outputs": [],
   "source": [
    "with open(file_name, 'a', encoding='utf-8') as f:\n",
    "    f.write(\"Первая строка\\n\")"
   ]
  },
  {
   "cell_type": "code",
   "execution_count": 95,
   "metadata": {},
   "outputs": [],
   "source": [
    "lines = [\n",
    "    \"Первая строка из списка\\n\",\n",
    "    \"Вторая строка\\n\",\n",
    "    \"Третья строка\\n\"]\n",
    "\n",
    "with open(file_name, 'w') as file:\n",
    "    file.writelines(lines)"
   ]
  },
  {
   "cell_type": "markdown",
   "metadata": {
    "jp-MarkdownHeadingCollapsed": true
   },
   "source": [
    "## Работа с путями"
   ]
  },
  {
   "cell_type": "code",
   "execution_count": 97,
   "metadata": {},
   "outputs": [],
   "source": [
    "import os"
   ]
  },
  {
   "cell_type": "code",
   "execution_count": 98,
   "metadata": {},
   "outputs": [
    {
     "name": "stdout",
     "output_type": "stream",
     "text": [
      "Первая строка из списка\n",
      "Вторая строка\n",
      "Третья строка\n",
      "\n"
     ]
    }
   ],
   "source": [
    "file_path = os.path.join(r'B:\\Python projects\\Python-Training\\Files', 'example2.txt')\n",
    "with open(file_path, 'r', encoding='cp1251') as f:\n",
    "    print(f.read())"
   ]
  },
  {
   "cell_type": "code",
   "execution_count": 100,
   "metadata": {},
   "outputs": [
    {
     "name": "stdout",
     "output_type": "stream",
     "text": [
      "Первая строка из списка\n",
      "Вторая строка\n",
      "Третья строка\n",
      "\n"
     ]
    }
   ],
   "source": [
    "file_path = r'B:\\Python projects\\Python-Training\\Files\\example2.txt' # сырые строки\n",
    "with open(file_path, 'r', encoding='cp1251') as f:\n",
    "    print(f.read())"
   ]
  },
  {
   "cell_type": "code",
   "execution_count": 99,
   "metadata": {},
   "outputs": [
    {
     "name": "stdout",
     "output_type": "stream",
     "text": [
      "Первая строка из списка\n",
      "Вторая строка\n",
      "Третья строка\n",
      "\n"
     ]
    },
    {
     "name": "stderr",
     "output_type": "stream",
     "text": [
      "<>:1: SyntaxWarning: invalid escape sequence '\\P'\n",
      "<>:1: SyntaxWarning: invalid escape sequence '\\P'\n",
      "C:\\Users\\markz\\AppData\\Local\\Temp\\ipykernel_18992\\2989135790.py:1: SyntaxWarning: invalid escape sequence '\\P'\n",
      "  file_path = \"B:\\Python projects\\Python-Training\\Files\\example2.txt\"\n"
     ]
    }
   ],
   "source": [
    "file_path = \"B:/Python projects/Python-Training/Files/example2.txt\"\n",
    "with open(file_path, 'r', encoding='cp1251') as f:\n",
    "    print(f.read())"
   ]
  },
  {
   "cell_type": "markdown",
   "metadata": {
    "jp-MarkdownHeadingCollapsed": true
   },
   "source": [
    "## Атрибуты файла"
   ]
  },
  {
   "cell_type": "code",
   "execution_count": 105,
   "metadata": {},
   "outputs": [
    {
     "name": "stdout",
     "output_type": "stream",
     "text": [
      "B:\\Python projects\\Python-Training\\Files\\example2.txt\n",
      "r\n",
      "False\n",
      "True\n"
     ]
    }
   ],
   "source": [
    "with open(file_path, 'r', encoding='cp1251') as f:\n",
    "    print(f.name)\n",
    "    print(f.mode)\n",
    "    print(f.closed)\n",
    "print(f.closed)"
   ]
  },
  {
   "cell_type": "markdown",
   "metadata": {
    "jp-MarkdownHeadingCollapsed": true
   },
   "source": [
    "## Положение \"каретки\" (указателя чтения/записи)"
   ]
  },
  {
   "cell_type": "code",
   "execution_count": 107,
   "metadata": {},
   "outputs": [
    {
     "name": "stdout",
     "output_type": "stream",
     "text": [
      "Позиция после записи: 34\n",
      "Позиция после seek: 0\n",
      "Позиция после seek: 34\n",
      "Позиция после seek: 10\n",
      "d!\n",
      "Py\n",
      "Позиция после чтения 5 символов: 16\n",
      "World\n",
      "Позиция после чтения 5 символов: 11\n"
     ]
    }
   ],
   "source": [
    "file_path = \"B:/Python projects/Python-Training/Files/example2.txt\"\n",
    "\n",
    "with open(file_path, 'w+') as f:\n",
    "    # Записываем данные\n",
    "    content = \"Hello World!\\nPython is awesome!\\n\"\n",
    "    f.write(content)\n",
    "    \n",
    "    # 1. Позиция после записи\n",
    "    print(f\"Позиция после записи: {f.tell()}\") \n",
    "    \n",
    "    # 2. Перемещаемся в начало\n",
    "    f.seek(0)\n",
    "    print(f\"Позиция после seek: {f.tell()}\")  \n",
    "\n",
    "    # 3. Перемещаемся в конец\n",
    "    f.seek(0, 2)\n",
    "    print(f\"Позиция после seek: {f.tell()}\") \n",
    "\n",
    "    # 4. Перемещаемся на позицию 10\n",
    "    f.seek(10)\n",
    "    print(f\"Позиция после seek: {f.tell()}\")  \n",
    "\n",
    "    # 5. Читаем 5 символов с позиции 10\n",
    "    print(f.read(5)) \n",
    "    print(f\"Позиция после чтения 5 символов: {f.tell()}\") \n",
    "    \n",
    "    # 6. Перемещаемся на позицию 6\n",
    "    f.seek(6)\n",
    "    print(f.read(5)) \n",
    "    print(f\"Позиция после чтения 5 символов: {f.tell()}\") "
   ]
  },
  {
   "cell_type": "markdown",
   "metadata": {
    "jp-MarkdownHeadingCollapsed": true
   },
   "source": [
    "## Обработка ошибок"
   ]
  },
  {
   "cell_type": "code",
   "execution_count": null,
   "metadata": {},
   "outputs": [],
   "source": [
    "try:\n",
    "    with open('no_file.txt', 'r') as f:\n",
    "        data = f.read()\n",
    "except FileNotFoundError:\n",
    "    print(\"Файл не найден!\")\n",
    "except Exception as e:\n",
    "    print(f\"Ошибка: {e}\")"
   ]
  },
  {
   "cell_type": "markdown",
   "metadata": {
    "jp-MarkdownHeadingCollapsed": true
   },
   "source": [
    "## Экперименты над файлами"
   ]
  },
  {
   "cell_type": "code",
   "execution_count": 37,
   "metadata": {},
   "outputs": [
    {
     "name": "stdout",
     "output_type": "stream",
     "text": [
      "B:/Python projects/Python-Training/Files/example0.txt\n",
      "B:/Python projects/Python-Training/Files/example1.txt\n",
      "B:/Python projects/Python-Training/Files/example2.txt\n",
      "B:/Python projects/Python-Training/Files/example3.txt\n",
      "B:/Python projects/Python-Training/Files/example4.txt\n",
      "B:/Python projects/Python-Training/Files/example5.txt\n",
      "B:/Python projects/Python-Training/Files/example6.txt\n",
      "B:/Python projects/Python-Training/Files/example7.txt\n",
      "B:/Python projects/Python-Training/Files/example8.txt\n",
      "B:/Python projects/Python-Training/Files/example9.txt\n"
     ]
    }
   ],
   "source": [
    "for i in range(10):\n",
    "    start_file = 'B:/Python projects/Python-Training/Files/example'\n",
    "    fin_file = '.txt'\n",
    "    file_path = start_file + str(i) + fin_file\n",
    "    print(file_path)"
   ]
  }
 ],
 "metadata": {
  "colab": {
   "provenance": []
  },
  "kernelspec": {
   "display_name": "Python 3 (ipykernel)",
   "language": "python",
   "name": "python3"
  },
  "language_info": {
   "codemirror_mode": {
    "name": "ipython",
    "version": 3
   },
   "file_extension": ".py",
   "mimetype": "text/x-python",
   "name": "python",
   "nbconvert_exporter": "python",
   "pygments_lexer": "ipython3",
   "version": "3.12.2"
  }
 },
 "nbformat": 4,
 "nbformat_minor": 4
}
