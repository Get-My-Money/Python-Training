{
 "cells": [
  {
   "cell_type": "markdown",
   "metadata": {},
   "source": [
    "# Урок 13"
   ]
  },
  {
   "cell_type": "code",
   "execution_count": 38,
   "metadata": {},
   "outputs": [],
   "source": [
    "import numpy as np\n",
    "import random\n",
    "import matplotlib.pyplot as plt"
   ]
  },
  {
   "cell_type": "markdown",
   "metadata": {
    "jp-MarkdownHeadingCollapsed": true
   },
   "source": [
    "## Задача A ―  «Таблица квадратов и кубов»"
   ]
  },
  {
   "cell_type": "markdown",
   "metadata": {},
   "source": [
    "С помощью NumPy создайте массив чисел от 1 до 10. Выведите матрицу, где в первой колонке — сами числа, во второй — их квадраты, в третьей — их кубы."
   ]
  },
  {
   "cell_type": "code",
   "execution_count": 67,
   "metadata": {},
   "outputs": [
    {
     "name": "stdout",
     "output_type": "stream",
     "text": [
      "[[   1    2    3    4    5    6    7    8    9   10]\n",
      " [   1    4    9   16   25   36   49   64   81  100]\n",
      " [   1    8   27   64  125  216  343  512  729 1000]]\n"
     ]
    }
   ],
   "source": [
    "a = np.array([1, 2, 3, 4, 5, 6, 7, 8, 9, 10])\n",
    "standart = a\n",
    "square = a**2\n",
    "cube = a**3\n",
    "standart = list(standart)\n",
    "square= list(square )\n",
    "cube = list(cube)  \n",
    "all = standart + square + cube\n",
    "all = np.array(all)\n",
    "print(all.reshape(3,10))"
   ]
  },
  {
   "cell_type": "markdown",
   "metadata": {
    "jp-MarkdownHeadingCollapsed": true
   },
   "source": [
    "### Решение"
   ]
  },
  {
   "cell_type": "code",
   "execution_count": 68,
   "metadata": {},
   "outputs": [
    {
     "data": {
      "text/plain": [
       "array([[   1,    2,    3,    4,    5,    6,    7,    8,    9,   10],\n",
       "       [   1,    4,    9,   16,   25,   36,   49,   64,   81,  100],\n",
       "       [   1,    8,   27,   64,  125,  216,  343,  512,  729, 1000]])"
      ]
     },
     "execution_count": 68,
     "metadata": {},
     "output_type": "execute_result"
    }
   ],
   "source": [
    "nums = []\n",
    "nums_1 = np.array([1,2,3,4,5,6,7,8,9,10])\n",
    "nums_2 = nums_1*nums_1\n",
    "nums_3 = nums_1*nums_2\n",
    "np.array(list(nums_1) + list(nums_2) + list(nums_3)).reshape(3,10)"
   ]
  },
  {
   "cell_type": "markdown",
   "metadata": {
    "jp-MarkdownHeadingCollapsed": true
   },
   "source": [
    "## Задача B ― «Сортировка товаров»"
   ]
  },
  {
   "cell_type": "markdown",
   "metadata": {},
   "source": [
    "Есть список товаров с ценами: сгенерируйте 30 случайных цен от 100 до 1000.\n",
    "Разделите их на 3 категории:\n",
    "\n",
    "дешёвые (< 400),\n",
    "\n",
    "средние (400–700),\n",
    "\n",
    "дорогие (> 700).\n",
    "\n",
    "Постройте столбчатую диаграмму, показывающую, сколько товаров в каждой категории."
   ]
  },
  {
   "cell_type": "code",
   "execution_count": 69,
   "metadata": {},
   "outputs": [
    {
     "name": "stdout",
     "output_type": "stream",
     "text": [
      "[397.46, 259.87, 128.98, 276.17, 140.36, 143.61, 108.86, 258.88, 101.16, 163.66, 252.74, 248.31]\n",
      "\n",
      "[451.58, 430.52, 635.23, 511.11, 406.89, 695.78, 468.89, 601.12]\n",
      "\n",
      "[919.78, 963.09, 847.31, 744.61, 962.6, 943.66, 801.76, 979.98, 785.63, 825.95]\n"
     ]
    },
    {
     "data": {
      "text/plain": [
       "<BarContainer object of 3 artists>"
      ]
     },
     "execution_count": 69,
     "metadata": {},
     "output_type": "execute_result"
    },
    {
     "data": {
      "image/png": "[encoded data removed]",
      "text/plain": [
       "<Figure size 640x480 with 1 Axes>"
      ]
     },
     "metadata": {},
     "output_type": "display_data"
    }
   ],
   "source": [
    "cheep = []\n",
    "medium = []\n",
    "excensciv = []  \n",
    "for i in range(30):\n",
    "    price = round(random.uniform(100,1000),2)\n",
    "    if price < 400:\n",
    "        cheep.append(price)\n",
    "    elif price >= 400 and price <= 700:\n",
    "        medium.append(price)\n",
    "    else:\n",
    "        excensciv.append(price)\n",
    "print(cheep, end =\"\\n\\n\")\n",
    "print(medium, end =\"\\n\\n\")\n",
    "print(excensciv)\n",
    "plt.bar(['Дешевые', 'Средние', 'Дорогие'], [len(cheep), len(medium), len(excensciv)])"
   ]
  },
  {
   "cell_type": "markdown",
   "metadata": {
    "jp-MarkdownHeadingCollapsed": true
   },
   "source": [
    "### Решение"
   ]
  },
  {
   "cell_type": "code",
   "execution_count": 60,
   "metadata": {},
   "outputs": [
    {
     "data": {
      "image/png": "[encoded data removed]",
      "text/plain": [
       "<Figure size 640x480 with 1 Axes>"
      ]
     },
     "metadata": {},
     "output_type": "display_data"
    }
   ],
   "source": [
    "low_prices_counter = 0\n",
    "medium_prices_counter = 0\n",
    "high_prices_counter = 0\n",
    "\n",
    "for i in range(30):\n",
    "    price = random.randint(100, 1000)\n",
    "    if price < 400:\n",
    "        low_prices_counter += 1\n",
    "    elif price > 700:\n",
    "        high_prices_counter += 1\n",
    "    else:\n",
    "        medium_prices_counter += 1\n",
    "\n",
    "plt.bar(['Кол-во низких цен', 'Кол-во средних цен', 'Кол-во высоких цен'], [low_prices_counter, medium_prices_counter, high_prices_counter])\n",
    "plt.show()"
   ]
  },
  {
   "cell_type": "markdown",
   "metadata": {
    "jp-MarkdownHeadingCollapsed": true
   },
   "source": [
    "## Задача C ― «Матричная магия»"
   ]
  },
  {
   "cell_type": "markdown",
   "metadata": {},
   "source": [
    "Создайте матрицу 5×5 из случайных чисел от 0 до 9. Затем замените все нечётные числа на -1, посчитайте сумму каждой строки."
   ]
  },
  {
   "cell_type": "code",
   "execution_count": 66,
   "metadata": {},
   "outputs": [
    {
     "name": "stdout",
     "output_type": "stream",
     "text": [
      "[[-1 -1 -1  2  0]\n",
      " [ 2 -1  8  8  4]\n",
      " [ 2 -1 -1 -1 -1]\n",
      " [-1 -1 -1 -1  6]\n",
      " [-1  6  4 -1 -1]]\n",
      "[-1, 21, -2, 2, 7]\n"
     ]
    }
   ],
   "source": [
    "numbers = []\n",
    "for i in range(5):\n",
    "    five_nums = []\n",
    "    for j in range(5):\n",
    "        five_nums.append(random.randint(0,9))\n",
    "    numbers.append(five_nums)\n",
    "numb = np.array(numbers)\n",
    "for i in range(5):\n",
    "    for j in range(5):\n",
    "        if numb[i, j] % 2 != 0 :\n",
    "            numb[i,j] = -1\n",
    "summ = []\n",
    "for i in range(5):\n",
    "    a = sum(numb[i, ])\n",
    "    summ.append(a)\n",
    "print(numb)\n",
    "print(summ)"
   ]
  },
  {
   "cell_type": "markdown",
   "metadata": {
    "jp-MarkdownHeadingCollapsed": true
   },
   "source": [
    "### Решение"
   ]
  },
  {
   "cell_type": "code",
   "execution_count": 81,
   "metadata": {},
   "outputs": [
    {
     "name": "stdout",
     "output_type": "stream",
     "text": [
      "[ 0  0  8  4 16]\n"
     ]
    }
   ],
   "source": [
    "matrix = np.array([[random.randint(0,9) for i in range(5)] for j in range(5)])\n",
    "matrix = np.where(matrix % 2 == 1, -1, matrix)\n",
    "row_sums = np.sum(matrix, axis=1)\n",
    "print(row_sums)"
   ]
  }
 ],
 "metadata": {
  "colab": {
   "provenance": []
  },
  "kernelspec": {
   "display_name": "Python 3 (ipykernel)",
   "language": "python",
   "name": "python3"
  },
  "language_info": {
   "codemirror_mode": {
    "name": "ipython",
    "version": 3
   },
   "file_extension": ".py",
   "mimetype": "text/x-python",
   "name": "python",
   "nbconvert_exporter": "python",
   "pygments_lexer": "ipython3",
   "version": "3.12.2"
  }
 },
 "nbformat": 4,
 "nbformat_minor": 4
}
