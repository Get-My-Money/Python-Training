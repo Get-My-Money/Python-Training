{
 "cells": [
  {
   "cell_type": "markdown",
   "metadata": {},
   "source": [
    "# Урок 5"
   ]
  },
  {
   "cell_type": "markdown",
   "metadata": {
    "jp-MarkdownHeadingCollapsed": true
   },
   "source": [
    "## Задача T1 ― «Анализ продаж»"
   ]
  },
  {
   "cell_type": "markdown",
   "metadata": {},
   "source": [
    "Напишите скрипт, который:\n",
    "\n",
    "1. Считывает строку с данными о ежедневных продажах (через пробел).\n",
    "\n",
    "2. Пропускает всё, что не число или отрицательно (< 0).\n",
    "\n",
    "3. Собирает оставшиеся значения в список sales.\n",
    "\n",
    "4. Вычисляет:\n",
    "\n",
    "    среднее значение продаж;\n",
    "\n",
    "    минимальную и максимальную продажу (в кортеже bounds);\n",
    "\n",
    "    множество уникальных значений продаж uniq."
   ]
  },
  {
   "cell_type": "code",
   "execution_count": null,
   "metadata": {},
   "outputs": [],
   "source": [
    "raw = input(\"Продажи: \").split()\n",
    "..."
   ]
  },
  {
   "cell_type": "markdown",
   "metadata": {
    "jp-MarkdownHeadingCollapsed": true
   },
   "source": [
    "### Решение"
   ]
  },
  {
   "cell_type": "code",
   "execution_count": 2,
   "metadata": {},
   "outputs": [
    {
     "name": "stdin",
     "output_type": "stream",
     "text": [
      "Продажи:  100 200 -50 abc 200 300\n"
     ]
    },
    {
     "name": "stdout",
     "output_type": "stream",
     "text": [
      "Средняя продажа: 200.00\n",
      "Интервал продаж: (100.0, 300.0)\n",
      "Уникальные продажи: 100.0 200.0 300.0\n"
     ]
    }
   ],
   "source": [
    "# Пример демонстрации (без подробных комментариев)\n",
    "raw = input(\"Продажи: \").split()\n",
    "sales = []\n",
    "for s in raw:\n",
    "    try:\n",
    "        x = float(s)\n",
    "    except ValueError:\n",
    "        continue\n",
    "    if x < 0:\n",
    "        continue\n",
    "    sales.append(x)\n",
    "\n",
    "if not sales:\n",
    "    print(\"Нет корректных данных!\")\n",
    "else:\n",
    "    avg = sum(sales) / len(sales)\n",
    "    bounds = (min(sales), max(sales))\n",
    "    uniq = set(sales)\n",
    "    print(f\"Средняя продажа: {avg:.2f}\")\n",
    "    print(\"Интервал продаж:\", bounds)\n",
    "    print(\"Уникальные продажи:\", *sorted(uniq))"
   ]
  },
  {
   "cell_type": "markdown",
   "metadata": {
    "jp-MarkdownHeadingCollapsed": true
   },
   "source": [
    "## Задача T2 ― «Регистрация гостей»"
   ]
  },
  {
   "cell_type": "markdown",
   "metadata": {},
   "source": [
    "Напишите скрипт, который:\n",
    "\n",
    "1. В цикле спрашивает имя гостя (строка).\n",
    "\n",
    "2. Если введено слово QUIT — завершает приём гостей.\n",
    "\n",
    "3. Если строка пустая или имя уже добавлено — пропускает ввод.\n",
    "\n",
    "4. Иначе сохраняет имя в список guests и множество seen.\n",
    "\n",
    "5. После завершения цикла:\n",
    "\n",
    "    Если гостей нет — выводит “Гостей нет.”.\n",
    "\n",
    "    Иначе выводит список всех гостей и кортеж (first, last) с первым и последним добавленным гостем."
   ]
  },
  {
   "cell_type": "code",
   "execution_count": null,
   "metadata": {},
   "outputs": [],
   "source": [
    "guests = []\n",
    "..."
   ]
  },
  {
   "cell_type": "markdown",
   "metadata": {},
   "source": [
    "### Решение"
   ]
  },
  {
   "cell_type": "code",
   "execution_count": 3,
   "metadata": {},
   "outputs": [
    {
     "name": "stdin",
     "output_type": "stream",
     "text": [
      "Имя гостя (или QUIT):  aboba\n",
      "Имя гостя (или QUIT):  \n",
      "Имя гостя (или QUIT):  aboba\n",
      "Имя гостя (или QUIT):  ababo1743\n",
      "Имя гостя (или QUIT):  udurg\n",
      "Имя гостя (или QUIT):  \n",
      "Имя гостя (или QUIT):  QUIT\n"
     ]
    },
    {
     "name": "stdout",
     "output_type": "stream",
     "text": [
      "Список гостей: ['aboba', 'ababo1743', 'udurg']\n",
      "Первый и последний: ('aboba', 'udurg')\n"
     ]
    }
   ],
   "source": [
    "guests = []\n",
    "seen = set()\n",
    "\n",
    "while True:\n",
    "    name = input(\"Имя гостя (или QUIT): \").strip()\n",
    "    if name == \"QUIT\":\n",
    "        break\n",
    "    if not name or name in seen:\n",
    "        continue\n",
    "    seen.add(name)\n",
    "    guests.append(name)\n",
    "\n",
    "if not guests:\n",
    "    print(\"Гостей нет.\")\n",
    "else:\n",
    "    first_last = (guests[0], guests[-1])\n",
    "    print(\"Список гостей:\", guests)\n",
    "    print(\"Первый и последний:\", first_last)\n"
   ]
  },
  {
   "cell_type": "markdown",
   "metadata": {
    "jp-MarkdownHeadingCollapsed": true
   },
   "source": [
    "## Задача T3 ― «Числа Фибоначчи и их анализ»"
   ]
  },
  {
   "cell_type": "markdown",
   "metadata": {},
   "source": [
    "Напишите программу, которая:\n",
    "\n",
    "1. Считывает целочисленный предел limit.\n",
    "\n",
    "2. Генерирует последовательность Фибоначчи, пока следующий элемент не превысит limit.\n",
    "\n",
    "3. Собирает все элементы в список fib.\n",
    "\n",
    "4. Создаёт:\n",
    "\n",
    "    кортеж extremes = (min(fib), max(fib)),\n",
    "\n",
    "    множество чётных чисел even_fib.\n",
    "\n",
    "5. Выводит:\n",
    "   \n",
    "   Fibonacci: <fib>\n",
    "   \n",
    "   Границы: <extremes>\n",
    "   \n",
    "   Чётные элементы: <sorted even_fib>"
   ]
  },
  {
   "cell_type": "code",
   "execution_count": null,
   "metadata": {},
   "outputs": [],
   "source": [
    "limit = int(input(\"Предел: \"))\n",
    "..."
   ]
  },
  {
   "cell_type": "markdown",
   "metadata": {},
   "source": [
    "### Решение"
   ]
  },
  {
   "cell_type": "code",
   "execution_count": 4,
   "metadata": {},
   "outputs": [
    {
     "name": "stdin",
     "output_type": "stream",
     "text": [
      "Предел:  16\n"
     ]
    },
    {
     "name": "stdout",
     "output_type": "stream",
     "text": [
      "Fibonacci: [0, 1, 1, 2, 3, 5, 8, 13]\n",
      "Границы: (0, 13)\n",
      "Чётные элементы: 0 2 8\n"
     ]
    }
   ],
   "source": [
    "limit = int(input(\"Предел: \"))\n",
    "fib = [0, 1]\n",
    "while True:\n",
    "    nxt = fib[-1] + fib[-2]\n",
    "    if nxt > limit:\n",
    "        break\n",
    "    fib.append(nxt)\n",
    "\n",
    "extremes = (min(fib), max(fib))\n",
    "even_fib = {x for x in fib if x % 2 == 0}\n",
    "\n",
    "print(\"Fibonacci:\", fib)\n",
    "print(\"Границы:\", extremes)\n",
    "print(\"Чётные элементы:\", *sorted(even_fib))"
   ]
  },
  {
   "cell_type": "markdown",
   "metadata": {
    "jp-MarkdownHeadingCollapsed": true
   },
   "source": [
    "## Задача S1 ― «Кратные четырём»"
   ]
  },
  {
   "cell_type": "markdown",
   "metadata": {},
   "source": [
    "1. Вводятся два целых числа A и B.\n",
    "\n",
    "2. С помощью for и range соберите в список все числа из [A; B], кратные 4.\n",
    "\n",
    "3. Выведите список и количество таких чисел."
   ]
  },
  {
   "cell_type": "code",
   "execution_count": null,
   "metadata": {},
   "outputs": [],
   "source": [
    "A = int(input(\"A = \"))\n",
    "B = int(input(\"B = \"))\n",
    "# TODO: создать список div4, заполнить числами, где x % 4 == 0\n",
    "# TODO: print(div4) и print(\"Count:\", len(div4))"
   ]
  },
  {
   "cell_type": "markdown",
   "metadata": {
    "jp-MarkdownHeadingCollapsed": true
   },
   "source": [
    "### Решение"
   ]
  },
  {
   "cell_type": "code",
   "execution_count": 8,
   "metadata": {},
   "outputs": [
    {
     "name": "stdin",
     "output_type": "stream",
     "text": [
      "A =  2\n",
      "B =  28\n"
     ]
    },
    {
     "name": "stdout",
     "output_type": "stream",
     "text": [
      "[4, 8, 12, 16, 20, 24, 28]\n",
      "7\n"
     ]
    }
   ],
   "source": [
    "A = int(input(\"A = \"))\n",
    "B = int(input(\"B = \"))\n",
    "div4 = []\n",
    "for i in range(A, B+1):\n",
    "    if i % 4 == 0:\n",
    "        div4.append(i)\n",
    "print(div4)\n",
    "print(len(div4))"
   ]
  },
  {
   "cell_type": "markdown",
   "metadata": {
    "jp-MarkdownHeadingCollapsed": true
   },
   "source": [
    "## Задача S2 ― «Сумма до порога»"
   ]
  },
  {
   "cell_type": "markdown",
   "metadata": {},
   "source": [
    "1. Вводятся целые числа по одному в строке.\n",
    "\n",
    "2. Суммируйте их, пропуская нули (continue), пока общая сумма меньше 50.\n",
    "\n",
    "3. После этого (break) выведите итоговую сумму и сколько чисел учтено."
   ]
  },
  {
   "cell_type": "code",
   "execution_count": null,
   "metadata": {},
   "outputs": [],
   "source": []
  },
  {
   "cell_type": "markdown",
   "metadata": {},
   "source": [
    "### Решение"
   ]
  },
  {
   "cell_type": "code",
   "execution_count": 5,
   "metadata": {},
   "outputs": [
    {
     "name": "stdin",
     "output_type": "stream",
     "text": [
      "Число:  10\n",
      "Число:  -5\n",
      "Число:  6\n",
      "Число:  17\n",
      "Число:  18\n",
      "Число:  22\n"
     ]
    },
    {
     "name": "stdout",
     "output_type": "stream",
     "text": [
      "Сумма = 68\n",
      "Введено чисел = 6\n"
     ]
    }
   ],
   "source": [
    "total = 0\n",
    "count = 0\n",
    "\n",
    "while True:\n",
    "    n = int(input(\"Число: \"))\n",
    "    if n == 0:\n",
    "        continue\n",
    "    total += n\n",
    "    count += 1\n",
    "    if total >= 50:\n",
    "        break\n",
    "\n",
    "print(\"Сумма =\", total)\n",
    "print(\"Введено чисел =\", count)"
   ]
  },
  {
   "cell_type": "markdown",
   "metadata": {
    "jp-MarkdownHeadingCollapsed": true
   },
   "source": [
    "## Задача S3 ― «Анализ слов в строке»"
   ]
  },
  {
   "cell_type": "markdown",
   "metadata": {},
   "source": [
    "1. Вводится одна строка с произвольным текстом.\n",
    "\n",
    "2. Разбейте её на слова (split), приведите к нижнему регистру.\n",
    "\n",
    "3. Сформируйте:\n",
    "\n",
    "    список words (в порядке появления),\n",
    "\n",
    "    множество uniq_words (уникальные),\n",
    "\n",
    "    кортеж ends = (first, last) первого и последнего слова.\n",
    "\n",
    "4. Выведите:\n",
    "   \n",
    "    Words: [...]\n",
    "   \n",
    "    Unique count: <число>\n",
    "   \n",
    "    Ends: (first, last)"
   ]
  },
  {
   "cell_type": "code",
   "execution_count": null,
   "metadata": {},
   "outputs": [],
   "source": [
    "text = input(\"Введите текст: \")\n",
    "..."
   ]
  },
  {
   "cell_type": "markdown",
   "metadata": {
    "jp-MarkdownHeadingCollapsed": true
   },
   "source": [
    "### Решение"
   ]
  },
  {
   "cell_type": "code",
   "execution_count": 7,
   "metadata": {},
   "outputs": [
    {
     "name": "stdin",
     "output_type": "stream",
     "text": [
      "Введите текст:  I was young in 2007\n"
     ]
    },
    {
     "name": "stdout",
     "output_type": "stream",
     "text": [
      "['i', 'was', 'young', 'in', '2007']\n",
      "{'young', '2007', 'in', 'i', 'was'}\n",
      "('i', '2007')\n"
     ]
    }
   ],
   "source": [
    "text = input(\"Введите текст: \")\n",
    "words = [w.lower() for w in text.split()]\n",
    "uniq_words = set(words)\n",
    "ends = (words[0], words[-1]) if words else (\"\", \"\")\n",
    "print(words)\n",
    "print(uniq_words)\n",
    "print(ends)"
   ]
  }
 ],
 "metadata": {
  "colab": {
   "provenance": []
  },
  "kernelspec": {
   "display_name": "Python 3 (ipykernel)",
   "language": "python",
   "name": "python3"
  },
  "language_info": {
   "codemirror_mode": {
    "name": "ipython",
    "version": 3
   },
   "file_extension": ".py",
   "mimetype": "text/x-python",
   "name": "python",
   "nbconvert_exporter": "python",
   "pygments_lexer": "ipython3",
   "version": "3.12.2"
  }
 },
 "nbformat": 4,
 "nbformat_minor": 4
}
