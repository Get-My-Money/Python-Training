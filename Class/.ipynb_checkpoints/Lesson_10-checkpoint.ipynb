{
 "cells": [
  {
   "cell_type": "markdown",
   "metadata": {},
   "source": [
    "# Урок 10"
   ]
  },
  {
   "cell_type": "markdown",
   "metadata": {
    "jp-MarkdownHeadingCollapsed": true
   },
   "source": [
    "## Задача A ― «Ступенчатая функция»"
   ]
  },
  {
   "cell_type": "markdown",
   "metadata": {},
   "source": [
    "Реализуйте функцию step_function(x: int) -> int, которая работает по следующему правилу:\n",
    "\n",
    "    если x <= -2, вернуть (1+x)^2;\n",
    "\n",
    "    если -2 < x <= 2, вернуть -x/3;\n",
    "\n",
    "    если x > 2, вернуть (x-2)^2 + 1;\n",
    "\n",
    "Пример:\n",
    "    \n",
    "    step_function(-5) = 16\n",
    "\n",
    "    step_function(7) = 26\n",
    "\n",
    "    step_function(1) = -0.3333333333333333"
   ]
  },
  {
   "cell_type": "code",
   "execution_count": 15,
   "metadata": {},
   "outputs": [
    {
     "name": "stdin",
     "output_type": "stream",
     "text": [
      " 2\n"
     ]
    },
    {
     "name": "stdout",
     "output_type": "stream",
     "text": [
      "-0.6666666666666666\n"
     ]
    }
   ],
   "source": [
    "def step_function(x):\n",
    "    if x<= -2:\n",
    "        return  (1+x)**2\n",
    "    if -2 < x and x <=2:\n",
    "        return -x/3\n",
    "    if x>2:\n",
    "        return (x-2)**2 + 1\n",
    "print(step_function(int(input())))"
   ]
  },
  {
   "cell_type": "markdown",
   "metadata": {
    "jp-MarkdownHeadingCollapsed": true
   },
   "source": [
    "### Решение"
   ]
  },
  {
   "cell_type": "code",
   "execution_count": 7,
   "metadata": {},
   "outputs": [],
   "source": [
    "def step_function(x):\n",
    "    if x > 2:\n",
    "        return (x-2)**2 + 1\n",
    "    elif x <= -2:\n",
    "        return (1+x)**2  \n",
    "    else:\n",
    "        return -x/3"
   ]
  },
  {
   "cell_type": "markdown",
   "metadata": {
    "jp-MarkdownHeadingCollapsed": true
   },
   "source": [
    "## Задача B ― «Вычисление чисел Фибоначчи»"
   ]
  },
  {
   "cell_type": "markdown",
   "metadata": {},
   "source": [
    "Реализуйте рекурсивную функцию fibonacci(n: int) -> int, которая возвращает n-е число Фибоначчи (нумерация с нуля). \n",
    "\n",
    "Числа Фибоначчи — это последовательность чисел, в которой каждое следующее число равно сумме двух предыдущих.\n",
    "\n",
    "Примеры:\n",
    "\n",
    "    fibonacci(0) = 0\n",
    "    \n",
    "    fibonacci(1) = 1\n",
    "    \n",
    "    fibonacci(5) = 5\n",
    "    \n",
    "    fibonacci(7) = 13"
   ]
  },
  {
   "cell_type": "code",
   "execution_count": 26,
   "metadata": {},
   "outputs": [
    {
     "name": "stdin",
     "output_type": "stream",
     "text": [
      " 20\n"
     ]
    },
    {
     "name": "stdout",
     "output_type": "stream",
     "text": [
      "6765\n"
     ]
    }
   ],
   "source": [
    "def fibonacci(n):\n",
    "    if n == 0:          \n",
    "        return 0\n",
    "    elif n == 1:\n",
    "        return 1\n",
    "    elif n > 1:\n",
    "        return fibonacci(n-1) + fibonacci(n-2)\n",
    "print(fibonacci(int(input())))"
   ]
  },
  {
   "cell_type": "markdown",
   "metadata": {
    "jp-MarkdownHeadingCollapsed": true
   },
   "source": [
    "### Решение"
   ]
  },
  {
   "cell_type": "code",
   "execution_count": 41,
   "metadata": {},
   "outputs": [],
   "source": [
    "def fibonacci(n):\n",
    "    if n == 0:          \n",
    "        return 0\n",
    "    elif n == 1:\n",
    "        return 1\n",
    "    elif n > 1:\n",
    "        return fibonacci(n-2) + fibonacci(n-1)"
   ]
  },
  {
   "cell_type": "markdown",
   "metadata": {
    "jp-MarkdownHeadingCollapsed": true
   },
   "source": [
    "## Задача С ― «Сдвиг списка»"
   ]
  },
  {
   "cell_type": "markdown",
   "metadata": {},
   "source": [
    "Создайте основную функцию:\n",
    "\n",
    "    rotate(lst: list, direction: str, k: int) -> list\n",
    "\n",
    "которая возвращает новый список, в котором элементы исходного списка lst сдвинуты на k позиций в указанную direction сторону.\n",
    "\n",
    "Внутри функции rotate вы должны использовать две отдельные вспомогательные функции, которые также необходимо реализовать:\n",
    "\n",
    "    rotate_left(lst: list, k: int) -> list\n",
    "    \n",
    "    rotate_right(lst: list, k: int) -> list\n",
    "\n",
    "Примеры:\n",
    "\n",
    "    rotate([1, 2, 3, 4, 5], 'left', 2)     # [3, 4, 5, 1, 2]\n",
    "    \n",
    "    rotate([1, 2, 3, 4, 5], 'right', 3)    # [3, 4, 5, 1, 2]\n",
    "    \n",
    "    rotate([10, 20, 30], 'left', 1)        # [20, 30, 10]\n",
    "    \n",
    "    rotate([10, 20, 30], 'right', 1)       # [30, 10, 20]"
   ]
  },
  {
   "cell_type": "code",
   "execution_count": 40,
   "metadata": {},
   "outputs": [
    {
     "name": "stdin",
     "output_type": "stream",
     "text": [
      " 8\n"
     ]
    },
    {
     "name": "stdout",
     "output_type": "stream",
     "text": [
      "[4, 5, 1, 2, 3]\n"
     ]
    }
   ],
   "source": [
    "def rotate(lst: list, direction: str, k: int):\n",
    "    k = k % len(lst)\n",
    "    if direction == \"left\":\n",
    "        return rotate_left(lst, k)\n",
    "    if direction == \"right\":\n",
    "        return rotate_right(lst, k)\n",
    "\n",
    "def rotate_left(lst, k):\n",
    "    return lst[k:] + lst[0:k]\n",
    "def rotate_right(lst, k):\n",
    "    return lst[-k:] + lst[0:-k]\n",
    "print(rotate([1, 2, 3, 4, 5] , \"left\", int(input())))"
   ]
  },
  {
   "cell_type": "markdown",
   "metadata": {
    "jp-MarkdownHeadingCollapsed": true
   },
   "source": [
    "### Решение"
   ]
  },
  {
   "cell_type": "code",
   "execution_count": 27,
   "metadata": {},
   "outputs": [],
   "source": [
    "def rotate_left(lst: list, k: int):\n",
    "    return lst[k:] + lst[:k]\n",
    "\n",
    "def rotate_right(lst: list, k: int):\n",
    "    return lst[-k:] + lst[:-k]\n",
    "\n",
    "def rotate(lst: list, direction: str, k: int):\n",
    "    if direction == \"left\":\n",
    "        return rotate_left(lst, k)\n",
    "    elif direction == \"right\":\n",
    "        return rotate_right(lst, k)"
   ]
  }
 ],
 "metadata": {
  "colab": {
   "provenance": []
  },
  "kernelspec": {
   "display_name": "Python 3 (ipykernel)",
   "language": "python",
   "name": "python3"
  },
  "language_info": {
   "codemirror_mode": {
    "name": "ipython",
    "version": 3
   },
   "file_extension": ".py",
   "mimetype": "text/x-python",
   "name": "python",
   "nbconvert_exporter": "python",
   "pygments_lexer": "ipython3",
   "version": "3.12.2"
  }
 },
 "nbformat": 4,
 "nbformat_minor": 4
}
