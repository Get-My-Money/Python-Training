{
 "cells": [
  {
   "cell_type": "markdown",
   "metadata": {},
   "source": [
    "# Урок 6"
   ]
  },
  {
   "cell_type": "markdown",
   "metadata": {},
   "source": [
    "## Создание и доступ"
   ]
  },
  {
   "cell_type": "code",
   "execution_count": 1,
   "metadata": {},
   "outputs": [
    {
     "name": "stdout",
     "output_type": "stream",
     "text": [
      "{'apple': 120, 'banana': 80}\n",
      "{'red': 1, 'green': 2}\n",
      "120\n",
      "2\n"
     ]
    }
   ],
   "source": [
    "# Литерал\n",
    "d1 = {\"apple\": 120, \"banana\": 80}\n",
    "\n",
    "# Через конструктор\n",
    "d2 = dict(red=1, green=2)\n",
    "\n",
    "print(d1)         \n",
    "print(d2) \n",
    "print(d1[\"apple\"])         \n",
    "print(d2.get(\"green\")) "
   ]
  },
  {
   "cell_type": "markdown",
   "metadata": {},
   "source": [
    "## Добавление и удаление"
   ]
  },
  {
   "cell_type": "code",
   "execution_count": 12,
   "metadata": {},
   "outputs": [
    {
     "name": "stdout",
     "output_type": "stream",
     "text": [
      "{'milk': 50, 'bread': 30, 'water': 10}\n",
      "{'milk': 55, 'bread': 33, 'water': 12}\n",
      "55 {'bread': 33, 'water': 12}\n",
      "{'water': 12}\n",
      "{}\n"
     ]
    }
   ],
   "source": [
    "d = {}\n",
    "d[\"milk\"] = 50            # добавить \n",
    "d.update({\"bread\": 30, \"water\": 10})   # добавить несколько сразу\n",
    "print(d)\n",
    "d[\"milk\"], d[\"bread\"], d[\"water\"] = 55, 33, 12\n",
    "print(d)\n",
    "\n",
    "price = d.pop(\"milk\")     # удалить и вернуть\n",
    "print(price, d)\n",
    "\n",
    "del d[\"bread\"]            # удалить без возврата\n",
    "print(d)\n",
    "\n",
    "d.clear()                 # очистить словарь\n",
    "print(d)"
   ]
  },
  {
   "cell_type": "markdown",
   "metadata": {},
   "source": [
    "## Основные методы"
   ]
  },
  {
   "cell_type": "code",
   "execution_count": 15,
   "metadata": {},
   "outputs": [
    {
     "name": "stdout",
     "output_type": "stream",
     "text": [
      "dict_keys(['a', 'b', 'c'])\n",
      "dict_values([1, 2, 3])\n",
      "dict_items([('a', 1), ('b', 2), ('c', 3)])\n",
      "{'a': 10, 'b': 2, 'c': 3, 'd': 4}\n"
     ]
    }
   ],
   "source": [
    "d = {\"a\":1, \"b\":2, \"c\":3}\n",
    "print(d.keys())    \n",
    "print(d.values())   \n",
    "print(d.items())\n",
    "\n",
    "# Объединение словарей\n",
    "d.update({\"d\":4, \"a\":10})\n",
    "print(d)"
   ]
  },
  {
   "cell_type": "code",
   "execution_count": 20,
   "metadata": {},
   "outputs": [
    {
     "name": "stdout",
     "output_type": "stream",
     "text": [
      "['a', 'b', 'c', 'd']\n",
      "[10, 2, 3, 4]\n",
      "[('a', 10), ('b', 2), ('c', 3), ('d', 4)]\n",
      "{'a': 10, 'b': 2, 'c': 3, 'd': 4}\n",
      "['a', 'b', 'c', 'd']\n",
      "{'a': 10, 'b': 2, 'c': 3, 'd': 4}\n",
      "{'a': 1, 'b': 2, 'c': 3}\n"
     ]
    }
   ],
   "source": [
    "print(list(d.keys()))\n",
    "print(list(d.values())) \n",
    "print(list(d.items())) \n",
    "print(d)\n",
    "\n",
    "d_list = list(d)\n",
    "print(d_list)\n",
    "\n",
    "d_list_d = dict(d.items())\n",
    "print(d_list_d)\n",
    "\n",
    "d_list_d = dict([['a', 1], ['b', 2], ['c', 3]])\n",
    "print(d_list_d)"
   ]
  },
  {
   "cell_type": "code",
   "execution_count": 27,
   "metadata": {},
   "outputs": [
    {
     "ename": "TypeError",
     "evalue": "unhashable type: 'list'",
     "output_type": "error",
     "traceback": [
      "\u001b[1;31m---------------------------------------------------------------------------\u001b[0m",
      "\u001b[1;31mTypeError\u001b[0m                                 Traceback (most recent call last)",
      "Cell \u001b[1;32mIn[27], line 2\u001b[0m\n\u001b[0;32m      1\u001b[0m a \u001b[38;5;241m=\u001b[39m {(\u001b[38;5;241m1\u001b[39m,\u001b[38;5;241m2\u001b[39m,\u001b[38;5;241m3\u001b[39m): \u001b[38;5;124m\"\u001b[39m\u001b[38;5;124mfdsfas\u001b[39m\u001b[38;5;124m\"\u001b[39m}\n\u001b[1;32m----> 2\u001b[0m a \u001b[38;5;241m=\u001b[39m {[\u001b[38;5;241m1\u001b[39m,\u001b[38;5;241m2\u001b[39m,\u001b[38;5;241m3\u001b[39m]: \u001b[38;5;124m\"\u001b[39m\u001b[38;5;124mfdsfas\u001b[39m\u001b[38;5;124m\"\u001b[39m}\n",
      "\u001b[1;31mTypeError\u001b[0m: unhashable type: 'list'"
     ]
    }
   ],
   "source": [
    "a = {(1,2,3): \"fdsfas\"}\n",
    "a = {[1,2,3]: \"fdsfas\"}"
   ]
  },
  {
   "cell_type": "markdown",
   "metadata": {},
   "source": [
    "## Перебор словаря"
   ]
  },
  {
   "cell_type": "code",
   "execution_count": 28,
   "metadata": {},
   "outputs": [
    {
     "name": "stdout",
     "output_type": "stream",
     "text": [
      "a → 10\n",
      "b → 2\n",
      "c → 3\n",
      "d → 4\n",
      "\n",
      "\n",
      "a: 10\n",
      "b: 2\n",
      "c: 3\n",
      "d: 4\n"
     ]
    }
   ],
   "source": [
    "for name in d:\n",
    "    print(name, \"→\", d[name])\n",
    "print(\"\\n\")\n",
    "\n",
    "for name, val in d.items():\n",
    "    print(f\"{name}: {val}\")"
   ]
  },
  {
   "cell_type": "code",
   "execution_count": 33,
   "metadata": {},
   "outputs": [
    {
     "name": "stdout",
     "output_type": "stream",
     "text": [
      "10\n"
     ]
    },
    {
     "data": {
      "text/plain": [
       "10"
      ]
     },
     "execution_count": 33,
     "metadata": {},
     "output_type": "execute_result"
    }
   ],
   "source": [
    "print(d[list(d)[0]])\n",
    "d[\"a\"]"
   ]
  },
  {
   "cell_type": "markdown",
   "metadata": {},
   "source": [
    "## Вложенные словари и списки"
   ]
  },
  {
   "cell_type": "code",
   "execution_count": 37,
   "metadata": {},
   "outputs": [
    {
     "name": "stdout",
     "output_type": "stream",
     "text": [
      "90\n",
      "{'Alice': {'math': 90, 'rus': 85, 'hobbies': ['chess', 'reading']}, 'Bob': {'math': 75, 'rus': 80}}\n"
     ]
    }
   ],
   "source": [
    "students = {\n",
    "    \"Alice\": {\"math\":90, \"rus\":85},\n",
    "    \"Bob\":   {\"math\":75, \"rus\":80}\n",
    "}\n",
    "\n",
    "# Доступ\n",
    "print(students[\"Alice\"][\"math\"])\n",
    "\n",
    "# Добавление списка\n",
    "students[\"Alice\"][\"hobbies\"] = [\"chess\", \"reading\"]\n",
    "print(students)"
   ]
  },
  {
   "cell_type": "markdown",
   "metadata": {},
   "source": [
    "## Словарные включения"
   ]
  },
  {
   "cell_type": "code",
   "execution_count": 41,
   "metadata": {},
   "outputs": [
    {
     "name": "stdout",
     "output_type": "stream",
     "text": [
      "{1: 3, 2: 1, 3: 1, 4: 1, 5: 3}\n",
      "{1: 1, 3: 9, 5: 25}\n"
     ]
    }
   ],
   "source": [
    "nums = [1,2,3,4,5,5,5,1,1]\n",
    "\n",
    "# частота чисел\n",
    "freq = {x: nums.count(x) for x in set(nums)}\n",
    "print(freq)\n",
    "\n",
    "# квадраты нечетных чисел\n",
    "squares = {x: x*x for x in nums if x%2==1}\n",
    "print(squares)"
   ]
  },
  {
   "cell_type": "markdown",
   "metadata": {},
   "source": [
    "## Итоговая мини-задача"
   ]
  },
  {
   "cell_type": "markdown",
   "metadata": {},
   "source": [
    "1. Считайте строку пар \"Имя:Телефон\" через запятую, например Ann:123,Bob:456,Ann:789.\n",
    "\n",
    "2. Постройте словарь phonebook, где ключ — имя, а значение — список всех телефонов этого имени.\n",
    "\n",
    "3. Введите запрашиваемое имя, выведите все его телефоны или “Нет контактов”, если имени нет."
   ]
  },
  {
   "cell_type": "code",
   "execution_count": 17,
   "metadata": {},
   "outputs": [
    {
     "name": "stdin",
     "output_type": "stream",
     "text": [
      "Введите данные пользователей Ann:123,Bob:456,Ann:789,Ann:225\n",
      "Введите имя пользователя: Ann\n"
     ]
    },
    {
     "name": "stdout",
     "output_type": "stream",
     "text": [
      "['123', '789', '225']\n"
     ]
    }
   ],
   "source": [
    "names = input(\"Введите данные пользователей\")\n",
    "sp1 = names.split(\",\")\n",
    "phonebook = { }\n",
    "for x in sp1:\n",
    "    x=x.split(\":\")\n",
    "    try:\n",
    "        if type(phonebook[x[0]]) == str:\n",
    "            phonebook[x[0]] = [phonebook[x[0]],x[1]]\n",
    "        else:\n",
    "            phonebook[x[0]].append(x[1])\n",
    "    except:\n",
    "        phonebook[x[0]] = x[1]\n",
    "\n",
    "name = input(\"Введите имя пользователя:\")\n",
    "try:\n",
    "    print(phonebook[name])\n",
    "except:\n",
    "    print(\"Нет контактов\")"
   ]
  },
  {
   "cell_type": "code",
   "execution_count": 16,
   "metadata": {},
   "outputs": [
    {
     "data": {
      "text/plain": [
       "True"
      ]
     },
     "execution_count": 16,
     "metadata": {},
     "output_type": "execute_result"
    }
   ],
   "source": [
    "type(phonebook[\"Ann\"]) == str"
   ]
  },
  {
   "cell_type": "code",
   "execution_count": null,
   "metadata": {},
   "outputs": [],
   "source": []
  }
 ],
 "metadata": {
  "colab": {
   "provenance": []
  },
  "kernelspec": {
   "display_name": "Python 3 (ipykernel)",
   "language": "python",
   "name": "python3"
  },
  "language_info": {
   "codemirror_mode": {
    "name": "ipython",
    "version": 3
   },
   "file_extension": ".py",
   "mimetype": "text/x-python",
   "name": "python",
   "nbconvert_exporter": "python",
   "pygments_lexer": "ipython3",
   "version": "3.12.2"
  }
 },
 "nbformat": 4,
 "nbformat_minor": 4
}
